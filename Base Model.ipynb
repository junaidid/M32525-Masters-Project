{
 "cells": [
  {
   "cell_type": "code",
   "execution_count": 1,
   "id": "b27fef18-d899-43bd-b961-b187875fbf48",
   "metadata": {},
   "outputs": [
    {
     "ename": "ModuleNotFoundError",
     "evalue": "No module named 'cudf'",
     "output_type": "error",
     "traceback": [
      "\u001b[1;31m---------------------------------------------------------------------------\u001b[0m",
      "\u001b[1;31mModuleNotFoundError\u001b[0m                       Traceback (most recent call last)",
      "\u001b[1;32m<ipython-input-1-7d75c6488142>\u001b[0m in \u001b[0;36m<module>\u001b[1;34m\u001b[0m\n\u001b[0;32m      3\u001b[0m \u001b[1;32mimport\u001b[0m \u001b[0mpandas\u001b[0m \u001b[1;32mas\u001b[0m \u001b[0mpd\u001b[0m\u001b[1;33m\u001b[0m\u001b[1;33m\u001b[0m\u001b[0m\n\u001b[0;32m      4\u001b[0m \u001b[1;32mimport\u001b[0m \u001b[0mmatplotlib\u001b[0m\u001b[1;33m.\u001b[0m\u001b[0mpyplot\u001b[0m \u001b[1;32mas\u001b[0m \u001b[0mplt\u001b[0m\u001b[1;33m\u001b[0m\u001b[1;33m\u001b[0m\u001b[0m\n\u001b[1;32m----> 5\u001b[1;33m \u001b[1;32mimport\u001b[0m \u001b[0mcudf\u001b[0m\u001b[1;33m\u001b[0m\u001b[1;33m\u001b[0m\u001b[0m\n\u001b[0m\u001b[0;32m      6\u001b[0m \u001b[1;32mimport\u001b[0m \u001b[0mnumpy\u001b[0m \u001b[1;32mas\u001b[0m \u001b[0mnp\u001b[0m\u001b[1;33m\u001b[0m\u001b[1;33m\u001b[0m\u001b[0m\n",
      "\u001b[1;31mModuleNotFoundError\u001b[0m: No module named 'cudf'"
     ]
    }
   ],
   "source": [
    "# Import libraries\n",
    "import tensorflow as tf\n",
    "import pandas as pd\n",
    "import matplotlib.pyplot as plt\n",
    "import cudf\n",
    "import numpy as np\n"
   ]
  },
  {
   "cell_type": "code",
   "execution_count": 2,
   "id": "746b4c20",
   "metadata": {},
   "outputs": [
    {
     "name": "stdout",
     "output_type": "stream",
     "text": [
      "Collecting cudf\n",
      "  Using cached cudf-0.6.1.post1.tar.gz (1.1 kB)\n",
      "  Preparing metadata (setup.py): started\n",
      "  Preparing metadata (setup.py): finished with status 'done'\n",
      "Building wheels for collected packages: cudf\n",
      "  Building wheel for cudf (setup.py): started\n",
      "  Building wheel for cudf (setup.py): finished with status 'error'\n",
      "  Running setup.py clean for cudf\n",
      "Failed to build cudf\n",
      "Installing collected packages: cudf\n",
      "  Running setup.py install for cudf: started\n",
      "  Running setup.py install for cudf: finished with status 'error'\n"
     ]
    },
    {
     "name": "stderr",
     "output_type": "stream",
     "text": [
      "WARNING: Ignoring invalid distribution -rotobuf (c:\\users\\junaid\\appdata\\roaming\\python\\python38\\site-packages)\n",
      "WARNING: Ignoring invalid distribution -mpy (c:\\programdata\\anaconda3\\lib\\site-packages)\n",
      "WARNING: Ignoring invalid distribution -umpy (c:\\programdata\\anaconda3\\lib\\site-packages)\n",
      "WARNING: Ignoring invalid distribution - (c:\\programdata\\anaconda3\\lib\\site-packages)\n",
      "WARNING: Ignoring invalid distribution -rotobuf (c:\\users\\junaid\\appdata\\roaming\\python\\python38\\site-packages)\n",
      "WARNING: Ignoring invalid distribution -mpy (c:\\programdata\\anaconda3\\lib\\site-packages)\n",
      "WARNING: Ignoring invalid distribution -umpy (c:\\programdata\\anaconda3\\lib\\site-packages)\n",
      "WARNING: Ignoring invalid distribution - (c:\\programdata\\anaconda3\\lib\\site-packages)\n",
      "  error: subprocess-exited-with-error\n",
      "  \n",
      "  python setup.py bdist_wheel did not run successfully.\n",
      "  exit code: 1\n",
      "  \n",
      "  [34 lines of output]\n",
      "  running bdist_wheel\n",
      "  running build\n",
      "  C:\\ProgramData\\Anaconda3\\lib\\site-packages\\setuptools\\command\\install.py:34: SetuptoolsDeprecationWarning: setup.py install is deprecated. Use build and pip and other standards-based tools.\n",
      "    warnings.warn(\n",
      "  installing to build\\bdist.win-amd64\\wheel\n",
      "  running install\n",
      "  Traceback (most recent call last):\n",
      "    File \"<string>\", line 2, in <module>\n",
      "    File \"<pip-setuptools-caller>\", line 34, in <module>\n",
      "    File \"C:\\Users\\Junaid\\AppData\\Local\\Temp\\pip-install-963ma9yz\\cudf_8bbcd86bde0744a8ba902f8f1b98d6d4\\setup.py\", line 18, in <module>\n",
      "      setup(name=pkg,\n",
      "    File \"C:\\ProgramData\\Anaconda3\\lib\\site-packages\\setuptools\\__init__.py\", line 87, in setup\n",
      "      return distutils.core.setup(**attrs)\n",
      "    File \"C:\\ProgramData\\Anaconda3\\lib\\site-packages\\setuptools\\_distutils\\core.py\", line 185, in setup\n",
      "      return run_commands(dist)\n",
      "    File \"C:\\ProgramData\\Anaconda3\\lib\\site-packages\\setuptools\\_distutils\\core.py\", line 201, in run_commands\n",
      "      dist.run_commands()\n",
      "    File \"C:\\ProgramData\\Anaconda3\\lib\\site-packages\\setuptools\\_distutils\\dist.py\", line 969, in run_commands\n",
      "      self.run_command(cmd)\n",
      "    File \"C:\\ProgramData\\Anaconda3\\lib\\site-packages\\setuptools\\dist.py\", line 1208, in run_command\n",
      "      super().run_command(command)\n",
      "    File \"C:\\ProgramData\\Anaconda3\\lib\\site-packages\\setuptools\\_distutils\\dist.py\", line 988, in run_command\n",
      "      cmd_obj.run()\n",
      "    File \"C:\\ProgramData\\Anaconda3\\lib\\site-packages\\wheel\\bdist_wheel.py\", line 360, in run\n",
      "      self.run_command(\"install\")\n",
      "    File \"C:\\ProgramData\\Anaconda3\\lib\\site-packages\\setuptools\\_distutils\\cmd.py\", line 318, in run_command\n",
      "      self.distribution.run_command(command)\n",
      "    File \"C:\\ProgramData\\Anaconda3\\lib\\site-packages\\setuptools\\dist.py\", line 1208, in run_command\n",
      "      super().run_command(command)\n",
      "    File \"C:\\ProgramData\\Anaconda3\\lib\\site-packages\\setuptools\\_distutils\\dist.py\", line 988, in run_command\n",
      "      cmd_obj.run()\n",
      "    File \"C:\\Users\\Junaid\\AppData\\Local\\Temp\\pip-install-963ma9yz\\cudf_8bbcd86bde0744a8ba902f8f1b98d6d4\\setup.py\", line 15, in run\n",
      "      raise Exception(long_description)\n",
      "  Exception: Please install cudf via the rapidsai conda channel. See https://rapids.ai/start.html for instructions.\n",
      "  [end of output]\n",
      "  \n",
      "  note: This error originates from a subprocess, and is likely not a problem with pip.\n",
      "  ERROR: Failed building wheel for cudf\n",
      "WARNING: Ignoring invalid distribution -rotobuf (c:\\users\\junaid\\appdata\\roaming\\python\\python38\\site-packages)\n",
      "WARNING: Ignoring invalid distribution -mpy (c:\\programdata\\anaconda3\\lib\\site-packages)\n",
      "WARNING: Ignoring invalid distribution -umpy (c:\\programdata\\anaconda3\\lib\\site-packages)\n",
      "WARNING: Ignoring invalid distribution - (c:\\programdata\\anaconda3\\lib\\site-packages)\n",
      "  error: subprocess-exited-with-error\n",
      "  \n",
      "  Running setup.py install for cudf did not run successfully.\n",
      "  exit code: 1\n",
      "  \n",
      "  [23 lines of output]\n",
      "  running install\n",
      "  C:\\ProgramData\\Anaconda3\\lib\\site-packages\\setuptools\\command\\install.py:34: SetuptoolsDeprecationWarning: setup.py install is deprecated. Use build and pip and other standards-based tools.\n",
      "    warnings.warn(\n",
      "  Traceback (most recent call last):\n",
      "    File \"<string>\", line 2, in <module>\n",
      "    File \"<pip-setuptools-caller>\", line 34, in <module>\n",
      "    File \"C:\\Users\\Junaid\\AppData\\Local\\Temp\\pip-install-963ma9yz\\cudf_8bbcd86bde0744a8ba902f8f1b98d6d4\\setup.py\", line 18, in <module>\n",
      "      setup(name=pkg,\n",
      "    File \"C:\\ProgramData\\Anaconda3\\lib\\site-packages\\setuptools\\__init__.py\", line 87, in setup\n",
      "      return distutils.core.setup(**attrs)\n",
      "    File \"C:\\ProgramData\\Anaconda3\\lib\\site-packages\\setuptools\\_distutils\\core.py\", line 185, in setup\n",
      "      return run_commands(dist)\n",
      "    File \"C:\\ProgramData\\Anaconda3\\lib\\site-packages\\setuptools\\_distutils\\core.py\", line 201, in run_commands\n",
      "      dist.run_commands()\n",
      "    File \"C:\\ProgramData\\Anaconda3\\lib\\site-packages\\setuptools\\_distutils\\dist.py\", line 969, in run_commands\n",
      "      self.run_command(cmd)\n",
      "    File \"C:\\ProgramData\\Anaconda3\\lib\\site-packages\\setuptools\\dist.py\", line 1208, in run_command\n",
      "      super().run_command(command)\n",
      "    File \"C:\\ProgramData\\Anaconda3\\lib\\site-packages\\setuptools\\_distutils\\dist.py\", line 988, in run_command\n",
      "      cmd_obj.run()\n",
      "    File \"C:\\Users\\Junaid\\AppData\\Local\\Temp\\pip-install-963ma9yz\\cudf_8bbcd86bde0744a8ba902f8f1b98d6d4\\setup.py\", line 15, in run\n",
      "      raise Exception(long_description)\n",
      "  Exception: Please install cudf via the rapidsai conda channel. See https://rapids.ai/start.html for instructions.\n",
      "  [end of output]\n",
      "  \n",
      "  note: This error originates from a subprocess, and is likely not a problem with pip.\n",
      "error: legacy-install-failure\n",
      "\n",
      "Encountered error while trying to install package.\n",
      "\n",
      "cudf\n",
      "\n",
      "note: This is an issue with the package mentioned above, not pip.\n",
      "hint: See above for output from the failure.\n",
      "WARNING: Ignoring invalid distribution -rotobuf (c:\\users\\junaid\\appdata\\roaming\\python\\python38\\site-packages)\n",
      "WARNING: Ignoring invalid distribution -mpy (c:\\programdata\\anaconda3\\lib\\site-packages)\n",
      "WARNING: Ignoring invalid distribution -umpy (c:\\programdata\\anaconda3\\lib\\site-packages)\n",
      "WARNING: Ignoring invalid distribution - (c:\\programdata\\anaconda3\\lib\\site-packages)\n",
      "WARNING: Ignoring invalid distribution -rotobuf (c:\\users\\junaid\\appdata\\roaming\\python\\python38\\site-packages)\n",
      "WARNING: Ignoring invalid distribution -rotobuf (c:\\users\\junaid\\appdata\\roaming\\python\\python38\\site-packages)\n"
     ]
    }
   ],
   "source": [
    "!pip install cudf"
   ]
  },
  {
   "cell_type": "code",
   "execution_count": 2,
   "id": "e2668726-3912-4cd3-acef-27a5b27011cf",
   "metadata": {},
   "outputs": [],
   "source": [
    "df1=cudf.read_parquet('/home/junaid_id/Merlin/output.parquet')"
   ]
  },
  {
   "cell_type": "code",
   "execution_count": 3,
   "id": "46f14c39-a781-4707-ab0a-1fd7ea4b1968",
   "metadata": {},
   "outputs": [],
   "source": [
    "df = df1.to_pandas()"
   ]
  },
  {
   "cell_type": "code",
   "execution_count": 46,
   "id": "a657efc7-8348-4f06-ac93-7f25392a92cd",
   "metadata": {},
   "outputs": [
    {
     "name": "stdout",
     "output_type": "stream",
     "text": [
      "int64\n",
      "int64\n",
      "int64\n",
      "int64\n",
      "int64\n"
     ]
    }
   ],
   "source": []
  },
  {
   "cell_type": "code",
   "execution_count": 4,
   "id": "94b161ae-d832-4afb-abd6-a6b8e0886cdb",
   "metadata": {},
   "outputs": [
    {
     "name": "stderr",
     "output_type": "stream",
     "text": [
      "/home/junaid_id/anaconda3/envs/rapids-22.08/lib/python3.9/site-packages/tqdm/auto.py:22: TqdmWarning: IProgress not found. Please update jupyter and ipywidgets. See https://ipywidgets.readthedocs.io/en/stable/user_install.html\n",
      "  from .autonotebook import tqdm as notebook_tqdm\n"
     ]
    },
    {
     "name": "stdout",
     "output_type": "stream",
     "text": [
      "4\n"
     ]
    }
   ],
   "source": [
    "### import torch\n",
    "import torch.nn as nn\n",
    "from torch.nn.utils.rnn import pad_sequence\n",
    "\n",
    "# Preprocess the data to create input sequences and target labels\n",
    "sequences = []\n",
    "targets = []\n",
    "for index, row in df.iterrows():\n",
    "    city_id_list = row['city_id-list'].tolist()\n",
    "    sequences.append(city_id_list[:-1])\n",
    "    targets.append(city_id_list[-1])\n",
    "\n",
    "    \n",
    "max_sequence_length = 4\n",
    "print(max_sequence_length)\n",
    "# Pad the sequences with a padding token\n",
    "padding_token = 0\n",
    "\n",
    "\n",
    "df['city_id-list'] = [sequence + [padding_token] * (max_sequence_length - (len(sequence))) for sequence in sequences]\n",
    "df['target_city'] = targets"
   ]
  },
  {
   "cell_type": "code",
   "execution_count": 52,
   "id": "ac1870f3-755b-40b4-8383-a52bfcf1f519",
   "metadata": {},
   "outputs": [
    {
     "name": "stdout",
     "output_type": "stream",
     "text": [
      "4\n"
     ]
    }
   ],
   "source": []
  },
  {
   "cell_type": "code",
   "execution_count": 5,
   "id": "9ded0cf1-3ad4-45f7-9b0a-44e1fbb7427b",
   "metadata": {},
   "outputs": [
    {
     "data": {
      "text/html": [
       "<div>\n",
       "<style scoped>\n",
       "    .dataframe tbody tr th:only-of-type {\n",
       "        vertical-align: middle;\n",
       "    }\n",
       "\n",
       "    .dataframe tbody tr th {\n",
       "        vertical-align: top;\n",
       "    }\n",
       "\n",
       "    .dataframe thead th {\n",
       "        text-align: right;\n",
       "    }\n",
       "</style>\n",
       "<table border=\"1\" class=\"dataframe\">\n",
       "  <thead>\n",
       "    <tr style=\"text-align: right;\">\n",
       "      <th></th>\n",
       "      <th>duration_norm</th>\n",
       "      <th>utrip_id</th>\n",
       "      <th>city_id-list</th>\n",
       "      <th>checkin-first</th>\n",
       "      <th>checkout-last</th>\n",
       "      <th>booker_country-first</th>\n",
       "      <th>hotel_country-list</th>\n",
       "      <th>city_id-count</th>\n",
       "      <th>duration</th>\n",
       "      <th>target_city</th>\n",
       "    </tr>\n",
       "  </thead>\n",
       "  <tbody>\n",
       "    <tr>\n",
       "      <th>0</th>\n",
       "      <td>-0.812113</td>\n",
       "      <td>2</td>\n",
       "      <td>[2341, 1824, 1560, 3075]</td>\n",
       "      <td>2016-09-08</td>\n",
       "      <td>2016-09-13</td>\n",
       "      <td>2</td>\n",
       "      <td>[5, 5, 5, 5, 1]</td>\n",
       "      <td>5</td>\n",
       "      <td>5.0</td>\n",
       "      <td>2</td>\n",
       "    </tr>\n",
       "    <tr>\n",
       "      <th>1</th>\n",
       "      <td>2.003619</td>\n",
       "      <td>3</td>\n",
       "      <td>[5142, 997, 1732, 1732]</td>\n",
       "      <td>2016-04-12</td>\n",
       "      <td>2016-04-28</td>\n",
       "      <td>2</td>\n",
       "      <td>[2, 2, 2, 2, 2]</td>\n",
       "      <td>5</td>\n",
       "      <td>16.0</td>\n",
       "      <td>1732</td>\n",
       "    </tr>\n",
       "    <tr>\n",
       "      <th>2</th>\n",
       "      <td>-0.044186</td>\n",
       "      <td>4</td>\n",
       "      <td>[275, 234, 31, 43]</td>\n",
       "      <td>2016-08-17</td>\n",
       "      <td>2016-08-25</td>\n",
       "      <td>5</td>\n",
       "      <td>[40, 40, 16, 16, 16]</td>\n",
       "      <td>5</td>\n",
       "      <td>8.0</td>\n",
       "      <td>121</td>\n",
       "    </tr>\n",
       "    <tr>\n",
       "      <th>3</th>\n",
       "      <td>-0.556137</td>\n",
       "      <td>5</td>\n",
       "      <td>[8058, 3898, 1313, 51]</td>\n",
       "      <td>2016-04-21</td>\n",
       "      <td>2016-04-27</td>\n",
       "      <td>3</td>\n",
       "      <td>[57, 57, 57, 8, 1]</td>\n",
       "      <td>5</td>\n",
       "      <td>6.0</td>\n",
       "      <td>2</td>\n",
       "    </tr>\n",
       "    <tr>\n",
       "      <th>4</th>\n",
       "      <td>-0.556137</td>\n",
       "      <td>6</td>\n",
       "      <td>[3653, 8094, 499, 1191]</td>\n",
       "      <td>2016-07-31</td>\n",
       "      <td>2016-08-06</td>\n",
       "      <td>3</td>\n",
       "      <td>[9, 9, 9, 9, 9]</td>\n",
       "      <td>5</td>\n",
       "      <td>6.0</td>\n",
       "      <td>2872</td>\n",
       "    </tr>\n",
       "    <tr>\n",
       "      <th>...</th>\n",
       "      <td>...</td>\n",
       "      <td>...</td>\n",
       "      <td>...</td>\n",
       "      <td>...</td>\n",
       "      <td>...</td>\n",
       "      <td>...</td>\n",
       "      <td>...</td>\n",
       "      <td>...</td>\n",
       "      <td>...</td>\n",
       "      <td>...</td>\n",
       "    </tr>\n",
       "    <tr>\n",
       "      <th>9797</th>\n",
       "      <td>-0.556137</td>\n",
       "      <td>9799</td>\n",
       "      <td>[15, 0, 0, 0]</td>\n",
       "      <td>2016-04-25</td>\n",
       "      <td>2016-05-01</td>\n",
       "      <td>3</td>\n",
       "      <td>[13, 13]</td>\n",
       "      <td>2</td>\n",
       "      <td>6.0</td>\n",
       "      <td>3088</td>\n",
       "    </tr>\n",
       "    <tr>\n",
       "      <th>9798</th>\n",
       "      <td>-1.324064</td>\n",
       "      <td>9800</td>\n",
       "      <td>[1271, 0, 0, 0]</td>\n",
       "      <td>2016-06-06</td>\n",
       "      <td>2016-06-09</td>\n",
       "      <td>4</td>\n",
       "      <td>[27, 27]</td>\n",
       "      <td>2</td>\n",
       "      <td>3.0</td>\n",
       "      <td>309</td>\n",
       "    </tr>\n",
       "    <tr>\n",
       "      <th>9799</th>\n",
       "      <td>-1.580039</td>\n",
       "      <td>9801</td>\n",
       "      <td>[98, 0, 0, 0]</td>\n",
       "      <td>2016-04-25</td>\n",
       "      <td>2016-04-27</td>\n",
       "      <td>3</td>\n",
       "      <td>[3, 3]</td>\n",
       "      <td>2</td>\n",
       "      <td>2.0</td>\n",
       "      <td>7</td>\n",
       "    </tr>\n",
       "    <tr>\n",
       "      <th>9800</th>\n",
       "      <td>-1.324064</td>\n",
       "      <td>9802</td>\n",
       "      <td>[7266, 0, 0, 0]</td>\n",
       "      <td>2016-07-20</td>\n",
       "      <td>2016-07-23</td>\n",
       "      <td>4</td>\n",
       "      <td>[8, 8]</td>\n",
       "      <td>2</td>\n",
       "      <td>3.0</td>\n",
       "      <td>619</td>\n",
       "    </tr>\n",
       "    <tr>\n",
       "      <th>9801</th>\n",
       "      <td>-1.068088</td>\n",
       "      <td>9803</td>\n",
       "      <td>[280, 0, 0, 0]</td>\n",
       "      <td>2016-06-20</td>\n",
       "      <td>2016-06-24</td>\n",
       "      <td>3</td>\n",
       "      <td>[11, 11]</td>\n",
       "      <td>2</td>\n",
       "      <td>4.0</td>\n",
       "      <td>30</td>\n",
       "    </tr>\n",
       "  </tbody>\n",
       "</table>\n",
       "<p>9802 rows × 10 columns</p>\n",
       "</div>"
      ],
      "text/plain": [
       "      duration_norm  utrip_id              city_id-list checkin-first  \\\n",
       "0         -0.812113         2  [2341, 1824, 1560, 3075]    2016-09-08   \n",
       "1          2.003619         3   [5142, 997, 1732, 1732]    2016-04-12   \n",
       "2         -0.044186         4        [275, 234, 31, 43]    2016-08-17   \n",
       "3         -0.556137         5    [8058, 3898, 1313, 51]    2016-04-21   \n",
       "4         -0.556137         6   [3653, 8094, 499, 1191]    2016-07-31   \n",
       "...             ...       ...                       ...           ...   \n",
       "9797      -0.556137      9799             [15, 0, 0, 0]    2016-04-25   \n",
       "9798      -1.324064      9800           [1271, 0, 0, 0]    2016-06-06   \n",
       "9799      -1.580039      9801             [98, 0, 0, 0]    2016-04-25   \n",
       "9800      -1.324064      9802           [7266, 0, 0, 0]    2016-07-20   \n",
       "9801      -1.068088      9803            [280, 0, 0, 0]    2016-06-20   \n",
       "\n",
       "     checkout-last  booker_country-first    hotel_country-list  city_id-count  \\\n",
       "0       2016-09-13                     2       [5, 5, 5, 5, 1]              5   \n",
       "1       2016-04-28                     2       [2, 2, 2, 2, 2]              5   \n",
       "2       2016-08-25                     5  [40, 40, 16, 16, 16]              5   \n",
       "3       2016-04-27                     3    [57, 57, 57, 8, 1]              5   \n",
       "4       2016-08-06                     3       [9, 9, 9, 9, 9]              5   \n",
       "...            ...                   ...                   ...            ...   \n",
       "9797    2016-05-01                     3              [13, 13]              2   \n",
       "9798    2016-06-09                     4              [27, 27]              2   \n",
       "9799    2016-04-27                     3                [3, 3]              2   \n",
       "9800    2016-07-23                     4                [8, 8]              2   \n",
       "9801    2016-06-24                     3              [11, 11]              2   \n",
       "\n",
       "      duration  target_city  \n",
       "0          5.0            2  \n",
       "1         16.0         1732  \n",
       "2          8.0          121  \n",
       "3          6.0            2  \n",
       "4          6.0         2872  \n",
       "...        ...          ...  \n",
       "9797       6.0         3088  \n",
       "9798       3.0          309  \n",
       "9799       2.0            7  \n",
       "9800       3.0          619  \n",
       "9801       4.0           30  \n",
       "\n",
       "[9802 rows x 10 columns]"
      ]
     },
     "execution_count": 5,
     "metadata": {},
     "output_type": "execute_result"
    }
   ],
   "source": [
    "df"
   ]
  },
  {
   "cell_type": "code",
   "execution_count": 6,
   "id": "08374b73-4dc7-4c63-8e92-3c7c389ee273",
   "metadata": {},
   "outputs": [],
   "source": [
    "# Shuffle data\n",
    "df = df.sample(frac=1).reset_index(drop=True)\n",
    "\n",
    "# Split data into training and testing sets\n",
    "train_size = int(len(df) * 0.8)\n",
    "X_train, X_test = df[\"city_id-list\"][:train_size], df[\"city_id-list\"][train_size:]\n",
    "y_train, y_test = df[\"target_city\"][:train_size], df[\"target_city\"][train_size:]\n"
   ]
  },
  {
   "cell_type": "code",
   "execution_count": 7,
   "id": "e6764904-ad8d-499d-ad3f-1530f333265d",
   "metadata": {},
   "outputs": [],
   "source": [
    "# Convert X_train and X_test to numpy arrays\n",
    "X_train = np.array([np.array(l, dtype=int) for l in X_train])\n",
    "X_test = np.array([np.array(l, dtype=int) for l in X_test])"
   ]
  },
  {
   "cell_type": "code",
   "execution_count": 8,
   "id": "e20314ac-d029-40ff-8215-ebe9f1ad3c75",
   "metadata": {},
   "outputs": [
    {
     "data": {
      "text/plain": [
       "array([[ 944,  944,  944,  944],\n",
       "       [5439,  288,   40, 3673],\n",
       "       [7527, 6022,  310,  973],\n",
       "       ...,\n",
       "       [ 712,  712, 3925,    0],\n",
       "       [  24,  316,  343,    0],\n",
       "       [ 450,  450,  450,  450]])"
      ]
     },
     "execution_count": 8,
     "metadata": {},
     "output_type": "execute_result"
    }
   ],
   "source": [
    "X_test"
   ]
  },
  {
   "cell_type": "code",
   "execution_count": 9,
   "id": "67226b58-72cf-4718-9b9f-188069567c20",
   "metadata": {},
   "outputs": [],
   "source": [
    "# Import itertools library\n",
    "import itertools"
   ]
  },
  {
   "cell_type": "code",
   "execution_count": 28,
   "id": "71507a13-2c53-4e0d-b1d3-b893220e5e6a",
   "metadata": {},
   "outputs": [],
   "source": [
    "# Flatten city_id-list column and find unique values\n",
    "unique_city_ids = list(set(itertools.chain.from_iterable(df[\"city_id-list\"])))\n",
    "\n",
    "\n",
    "# Define model\n",
    "model = tf.keras.Sequential()\n",
    "model.add(tf.keras.layers.Embedding(input_dim=len(unique_city_ids), output_dim=32, mask_zero=True))\n",
    "model.add(tf.keras.layers.LSTM(units=128, return_sequences=True))\n",
    "model.add(tf.keras.layers.LSTM(units=128, return_sequences=True))\n",
    "model.add(tf.keras.layers.LSTM(units=128))\n",
    "model.add(tf.keras.layers.Dense(units=8, activation=\"relu\"))\n",
    "\n",
    "optimizer = tf.keras.optimizers.Adam(learning_rate=0.00001)\n",
    "\n",
    "\n",
    "# Define learning rate schedule\n",
    "def lr_schedule(epoch):\n",
    "    if epoch < 30:\n",
    "        return 0.00001\n",
    "    #elif epoch < 30:\n",
    "        #return 0.00001\n",
    "    else:\n",
    "        return 0.000001\n",
    "\n",
    "lr_scheduler = tf.keras.callbacks.LearningRateScheduler(lr_schedule)\n",
    "\n",
    "\n",
    "# Compile model\n",
    "model.compile(loss=\"binary_crossentropy\", optimizer=optimizer, metrics=[\"accuracy\"])\n"
   ]
  },
  {
   "cell_type": "code",
   "execution_count": 87,
   "id": "bfab2ec3-79f7-4489-9abe-5c6f0bf6c8a8",
   "metadata": {},
   "outputs": [
    {
     "data": {
      "text/plain": [
       "[8365, 8366, 8367, 8368, 8369]"
      ]
     },
     "execution_count": 87,
     "metadata": {},
     "output_type": "execute_result"
    }
   ],
   "source": [
    "unique_city_ids[-5:]"
   ]
  },
  {
   "cell_type": "code",
   "execution_count": 29,
   "id": "93e39af1-546b-4264-9475-7e198b2757db",
   "metadata": {},
   "outputs": [
    {
     "name": "stdout",
     "output_type": "stream",
     "text": [
      "Epoch 1/50\n",
      "246/246 [==============================] - 12s 25ms/step - loss: 6066.1338 - accuracy: 0.0497 - val_loss: 5727.8325 - val_accuracy: 0.0729 - lr: 1.0000e-05\n",
      "Epoch 2/50\n",
      "246/246 [==============================] - 4s 15ms/step - loss: 5107.4614 - accuracy: 0.0899 - val_loss: 5267.7446 - val_accuracy: 0.0969 - lr: 1.0000e-05\n",
      "Epoch 3/50\n",
      "246/246 [==============================] - 4s 15ms/step - loss: 4753.7656 - accuracy: 0.1110 - val_loss: 4949.7798 - val_accuracy: 0.1061 - lr: 1.0000e-05\n",
      "Epoch 4/50\n",
      "246/246 [==============================] - 4s 15ms/step - loss: 4487.6963 - accuracy: 0.1177 - val_loss: 4690.5942 - val_accuracy: 0.1117 - lr: 1.0000e-05\n",
      "Epoch 5/50\n",
      "246/246 [==============================] - 4s 15ms/step - loss: 4263.1655 - accuracy: 0.1153 - val_loss: 4462.9360 - val_accuracy: 0.1056 - lr: 1.0000e-05\n",
      "Epoch 6/50\n",
      "246/246 [==============================] - 4s 15ms/step - loss: 4060.0562 - accuracy: 0.1066 - val_loss: 4251.3501 - val_accuracy: 0.0979 - lr: 1.0000e-05\n",
      "Epoch 7/50\n",
      "246/246 [==============================] - 4s 15ms/step - loss: 3867.1980 - accuracy: 0.0908 - val_loss: 4047.4968 - val_accuracy: 0.0816 - lr: 1.0000e-05\n",
      "Epoch 8/50\n",
      "246/246 [==============================] - 4s 15ms/step - loss: 3678.1587 - accuracy: 0.0705 - val_loss: 3843.6462 - val_accuracy: 0.0571 - lr: 1.0000e-05\n",
      "Epoch 9/50\n",
      "246/246 [==============================] - 4s 14ms/step - loss: 3488.4902 - accuracy: 0.0477 - val_loss: 3636.6980 - val_accuracy: 0.0321 - lr: 1.0000e-05\n",
      "Epoch 10/50\n",
      "246/246 [==============================] - 4s 15ms/step - loss: 3294.7690 - accuracy: 0.0267 - val_loss: 3424.3547 - val_accuracy: 0.0199 - lr: 1.0000e-05\n",
      "Epoch 11/50\n",
      "246/246 [==============================] - 4s 15ms/step - loss: 3093.5020 - accuracy: 0.0154 - val_loss: 3201.7012 - val_accuracy: 0.0122 - lr: 1.0000e-05\n",
      "Epoch 12/50\n",
      "246/246 [==============================] - 4s 15ms/step - loss: 2881.7288 - accuracy: 0.0114 - val_loss: 2966.9443 - val_accuracy: 0.0117 - lr: 1.0000e-05\n",
      "Epoch 13/50\n",
      "246/246 [==============================] - 4s 15ms/step - loss: 2656.4685 - accuracy: 0.0103 - val_loss: 2714.4104 - val_accuracy: 0.0112 - lr: 1.0000e-05\n",
      "Epoch 14/50\n",
      "246/246 [==============================] - 4s 15ms/step - loss: 2413.7039 - accuracy: 0.0103 - val_loss: 2439.6304 - val_accuracy: 0.0112 - lr: 1.0000e-05\n",
      "Epoch 15/50\n",
      "246/246 [==============================] - 4s 14ms/step - loss: 2146.5352 - accuracy: 0.0103 - val_loss: 2135.4509 - val_accuracy: 0.0112 - lr: 1.0000e-05\n",
      "Epoch 16/50\n",
      "246/246 [==============================] - 4s 15ms/step - loss: 1845.5848 - accuracy: 0.0103 - val_loss: 1784.3066 - val_accuracy: 0.0112 - lr: 1.0000e-05\n",
      "Epoch 17/50\n",
      "246/246 [==============================] - 4s 15ms/step - loss: 1490.8661 - accuracy: 0.0103 - val_loss: 1359.3027 - val_accuracy: 0.0112 - lr: 1.0000e-05\n",
      "Epoch 18/50\n",
      "246/246 [==============================] - 4s 15ms/step - loss: 1027.0703 - accuracy: 0.0103 - val_loss: 732.4633 - val_accuracy: 0.0112 - lr: 1.0000e-05\n",
      "Epoch 19/50\n",
      "246/246 [==============================] - 4s 15ms/step - loss: -1508.3589 - accuracy: 0.0103 - val_loss: -4828.4097 - val_accuracy: 0.0112 - lr: 1.0000e-05\n",
      "Epoch 20/50\n",
      "246/246 [==============================] - 4s 15ms/step - loss: -4294.4932 - accuracy: 0.0103 - val_loss: -5077.5693 - val_accuracy: 0.0112 - lr: 1.0000e-05\n",
      "Epoch 21/50\n",
      "246/246 [==============================] - 4s 15ms/step - loss: -4642.3423 - accuracy: 0.0103 - val_loss: -5646.1099 - val_accuracy: 0.0112 - lr: 1.0000e-05\n",
      "Epoch 22/50\n",
      "246/246 [==============================] - 4s 15ms/step - loss: -10668.7314 - accuracy: 0.0103 - val_loss: -14217.8262 - val_accuracy: 0.0112 - lr: 1.0000e-05\n",
      "Epoch 23/50\n",
      "246/246 [==============================] - 4s 15ms/step - loss: -13215.0156 - accuracy: 0.0103 - val_loss: -14239.3535 - val_accuracy: 0.0112 - lr: 1.0000e-05\n",
      "Epoch 24/50\n",
      "246/246 [==============================] - 4s 15ms/step - loss: -13220.7656 - accuracy: 0.0103 - val_loss: -14241.3936 - val_accuracy: 0.0112 - lr: 1.0000e-05\n",
      "Epoch 25/50\n",
      "246/246 [==============================] - 4s 15ms/step - loss: -13221.3994 - accuracy: 0.0103 - val_loss: -14241.4258 - val_accuracy: 0.0112 - lr: 1.0000e-05\n",
      "Epoch 26/50\n",
      "246/246 [==============================] - 4s 15ms/step - loss: -13221.4258 - accuracy: 0.0103 - val_loss: -14241.4463 - val_accuracy: 0.0112 - lr: 1.0000e-05\n",
      "Epoch 27/50\n",
      "246/246 [==============================] - 4s 15ms/step - loss: -13221.4326 - accuracy: 0.0103 - val_loss: -14241.4746 - val_accuracy: 0.0112 - lr: 1.0000e-05\n",
      "Epoch 28/50\n",
      "246/246 [==============================] - 4s 15ms/step - loss: -13221.4463 - accuracy: 0.0103 - val_loss: -14241.5156 - val_accuracy: 0.0112 - lr: 1.0000e-05\n",
      "Epoch 29/50\n",
      "246/246 [==============================] - 4s 15ms/step - loss: -13221.4482 - accuracy: 0.0103 - val_loss: -14241.6094 - val_accuracy: 0.0112 - lr: 1.0000e-05\n",
      "Epoch 30/50\n",
      "246/246 [==============================] - 4s 15ms/step - loss: -13221.4541 - accuracy: 0.0103 - val_loss: -14242.3701 - val_accuracy: 0.0112 - lr: 1.0000e-05\n",
      "Epoch 31/50\n",
      "246/246 [==============================] - 4s 15ms/step - loss: -13221.4678 - accuracy: 0.0103 - val_loss: -14242.3701 - val_accuracy: 0.0112 - lr: 1.0000e-06\n",
      "Epoch 32/50\n",
      "246/246 [==============================] - 4s 15ms/step - loss: -13221.4678 - accuracy: 0.0103 - val_loss: -14242.3711 - val_accuracy: 0.0112 - lr: 1.0000e-06\n",
      "Epoch 33/50\n",
      "246/246 [==============================] - 4s 15ms/step - loss: -13221.4678 - accuracy: 0.0103 - val_loss: -14242.3730 - val_accuracy: 0.0112 - lr: 1.0000e-06\n",
      "Epoch 34/50\n",
      "246/246 [==============================] - 4s 14ms/step - loss: -13221.4697 - accuracy: 0.0103 - val_loss: -14242.3730 - val_accuracy: 0.0112 - lr: 1.0000e-06\n",
      "Epoch 35/50\n",
      "246/246 [==============================] - 4s 15ms/step - loss: -13221.4717 - accuracy: 0.0103 - val_loss: -14242.3730 - val_accuracy: 0.0112 - lr: 1.0000e-06\n",
      "Epoch 36/50\n",
      "246/246 [==============================] - 4s 15ms/step - loss: -13221.4736 - accuracy: 0.0103 - val_loss: -14242.3740 - val_accuracy: 0.0112 - lr: 1.0000e-06\n",
      "Epoch 37/50\n",
      "246/246 [==============================] - 4s 14ms/step - loss: -13221.4736 - accuracy: 0.0103 - val_loss: -14242.3740 - val_accuracy: 0.0112 - lr: 1.0000e-06\n",
      "Epoch 38/50\n",
      "246/246 [==============================] - 4s 15ms/step - loss: -13221.4824 - accuracy: 0.0103 - val_loss: -14242.3760 - val_accuracy: 0.0112 - lr: 1.0000e-06\n",
      "Epoch 39/50\n",
      "246/246 [==============================] - 4s 14ms/step - loss: -13221.4805 - accuracy: 0.0103 - val_loss: -14242.3760 - val_accuracy: 0.0112 - lr: 1.0000e-06\n",
      "Epoch 40/50\n",
      "246/246 [==============================] - 4s 15ms/step - loss: -13221.4766 - accuracy: 0.0103 - val_loss: -14242.3760 - val_accuracy: 0.0112 - lr: 1.0000e-06\n",
      "Epoch 41/50\n",
      "246/246 [==============================] - 4s 15ms/step - loss: -13221.4883 - accuracy: 0.0103 - val_loss: -14242.3779 - val_accuracy: 0.0112 - lr: 1.0000e-06\n",
      "Epoch 42/50\n",
      "246/246 [==============================] - 4s 15ms/step - loss: -13221.4980 - accuracy: 0.0103 - val_loss: -14242.3779 - val_accuracy: 0.0112 - lr: 1.0000e-06\n",
      "Epoch 43/50\n",
      "246/246 [==============================] - 4s 15ms/step - loss: -13221.5078 - accuracy: 0.0103 - val_loss: -14242.3818 - val_accuracy: 0.0112 - lr: 1.0000e-06\n",
      "Epoch 44/50\n",
      "246/246 [==============================] - 4s 15ms/step - loss: -13221.5371 - accuracy: 0.0103 - val_loss: -14242.3818 - val_accuracy: 0.0112 - lr: 1.0000e-06\n",
      "Epoch 45/50\n",
      "246/246 [==============================] - 4s 15ms/step - loss: -13221.5410 - accuracy: 0.0103 - val_loss: -14242.3867 - val_accuracy: 0.0112 - lr: 1.0000e-06\n",
      "Epoch 46/50\n",
      "246/246 [==============================] - 4s 14ms/step - loss: -13221.5488 - accuracy: 0.0103 - val_loss: -14242.3877 - val_accuracy: 0.0112 - lr: 1.0000e-06\n",
      "Epoch 47/50\n",
      "246/246 [==============================] - 4s 15ms/step - loss: -13221.5605 - accuracy: 0.0103 - val_loss: -14242.3916 - val_accuracy: 0.0112 - lr: 1.0000e-06\n",
      "Epoch 48/50\n",
      "246/246 [==============================] - 4s 15ms/step - loss: -13221.6250 - accuracy: 0.0103 - val_loss: -14242.3945 - val_accuracy: 0.0112 - lr: 1.0000e-06\n",
      "Epoch 49/50\n",
      "246/246 [==============================] - 4s 15ms/step - loss: -13221.6436 - accuracy: 0.0103 - val_loss: -14242.3994 - val_accuracy: 0.0112 - lr: 1.0000e-06\n",
      "Epoch 50/50\n",
      "246/246 [==============================] - 4s 15ms/step - loss: -13221.6904 - accuracy: 0.0103 - val_loss: -14242.4033 - val_accuracy: 0.0112 - lr: 1.0000e-06\n"
     ]
    }
   ],
   "source": [
    "# Train model\n",
    "history = model.fit(X_train, y_train, epochs=50, batch_size=32, validation_data=(X_test, y_test), callbacks=[lr_scheduler])\n"
   ]
  },
  {
   "cell_type": "code",
   "execution_count": null,
   "id": "0d05550c-c4f4-4270-a2bb-d02fa70cedac",
   "metadata": {},
   "outputs": [],
   "source": []
  },
  {
   "cell_type": "code",
   "execution_count": null,
   "id": "2a02f267-0f6f-4437-b59f-60bb8c015a91",
   "metadata": {},
   "outputs": [],
   "source": []
  },
  {
   "cell_type": "code",
   "execution_count": 30,
   "id": "b1ceaebb-18ba-4c79-9187-ab0314a25f8d",
   "metadata": {},
   "outputs": [
    {
     "data": {
      "image/png": "[encoded data removed]",
      "text/plain": [
       "<Figure size 640x480 with 1 Axes>"
      ]
     },
     "metadata": {},
     "output_type": "display_data"
    }
   ],
   "source": [
    "# Import matplotlib\n",
    "import matplotlib.pyplot as plt\n",
    "\n",
    "# Plot training and validation accuracy\n",
    "plt.plot(history.history[\"accuracy\"])\n",
    "plt.plot(history.history[\"val_accuracy\"])\n",
    "plt.title(\"Model Accuracy\")\n",
    "plt.xlabel(\"Epoch\")\n",
    "plt.ylabel(\"Accuracy\")\n",
    "plt.legend([\"Training Accuracy\", \"Validation Accuracy\"], loc=\"upper left\")\n",
    "plt.show()"
   ]
  },
  {
   "cell_type": "code",
   "execution_count": 31,
   "id": "64f8aa93-f066-4d98-9893-95bbf9528f68",
   "metadata": {},
   "outputs": [
    {
     "data": {
      "image/png": "[encoded data removed]",
      "text/plain": [
       "<Figure size 640x480 with 1 Axes>"
      ]
     },
     "metadata": {},
     "output_type": "display_data"
    }
   ],
   "source": [
    "# Get the training and validation loss values\n",
    "train_loss = history.history[\"loss\"]\n",
    "valid_loss = history.history[\"val_loss\"]\n",
    "\n",
    "# Plot the training and validation loss\n",
    "plt.plot(train_loss, label=\"Training Loss\")\n",
    "plt.plot(valid_loss, label=\"Validation Loss\")\n",
    "plt.legend()\n",
    "plt.show()\n"
   ]
  },
  {
   "cell_type": "code",
   "execution_count": 46,
   "id": "e20b99d0-778b-4748-a932-43e59b15a4ef",
   "metadata": {},
   "outputs": [],
   "source": [
    "def accuracy_at_k(model, X, y, k):\n",
    "    # Predict top k items\n",
    "    y_pred = model.predict(X).argsort(axis=1)[:, -k:]\n",
    "    y=y.to_numpy()\n",
    "    # Calculate accuracy\n",
    "    accuracy = 0\n",
    "    for i in range(len(y_pred)):\n",
    "        if y[i] in y_pred[i]:\n",
    "            accuracy += 1\n",
    "    accuracy /= len(y_pred)\n",
    "\n",
    "    return accuracy\n"
   ]
  },
  {
   "cell_type": "code",
   "execution_count": 33,
   "id": "6e7b6a1b-c81a-48ce-93c1-1ce7d74b3517",
   "metadata": {},
   "outputs": [
    {
     "name": "stdout",
     "output_type": "stream",
     "text": [
      "246/246 [==============================] - 3s 5ms/step\n"
     ]
    }
   ],
   "source": [
    "# Make predictions for the input data using the model\n",
    "predictions = model.predict(X_train)\n",
    "\n",
    "# Find the top 4 predictions for each row\n",
    "top_predictions = np.argpartition(-predictions, 4, axis=1)[:, :4]"
   ]
  },
  {
   "cell_type": "code",
   "execution_count": 50,
   "id": "a651d72e-bc3f-436a-b15d-7969a4c5db6c",
   "metadata": {},
   "outputs": [
    {
     "name": "stdout",
     "output_type": "stream",
     "text": [
      "62/62 [==============================] - 0s 5ms/step\n"
     ]
    }
   ],
   "source": [
    "y_pred = model.predict(X_test).argsort(axis=1)[:, -4:]"
   ]
  },
  {
   "cell_type": "code",
   "execution_count": 47,
   "id": "069eb479-faff-4cfc-9ad3-87126d94410d",
   "metadata": {},
   "outputs": [
    {
     "name": "stdout",
     "output_type": "stream",
     "text": [
      "62/62 [==============================] - 0s 5ms/step\n"
     ]
    }
   ],
   "source": [
    "accat4 = accuracy_at_k(model, X_test, y_test, 4)"
   ]
  },
  {
   "cell_type": "code",
   "execution_count": 53,
   "id": "0be02dd0-a932-4901-b755-c459674027ad",
   "metadata": {},
   "outputs": [
    {
     "data": {
      "text/plain": [
       "array([7, 2, 5, 4])"
      ]
     },
     "execution_count": 53,
     "metadata": {},
     "output_type": "execute_result"
    }
   ],
   "source": [
    "y_pred[0]"
   ]
  },
  {
   "cell_type": "code",
   "execution_count": 48,
   "id": "29cde160-49ef-478d-9845-dfeff14bb5da",
   "metadata": {},
   "outputs": [
    {
     "data": {
      "text/plain": [
       "0.26925038245792965"
      ]
     },
     "execution_count": 48,
     "metadata": {},
     "output_type": "execute_result"
    }
   ],
   "source": [
    "accat4"
   ]
  },
  {
   "cell_type": "code",
   "execution_count": 40,
   "id": "a1cfad23-9a22-48c7-993c-04acb286855e",
   "metadata": {},
   "outputs": [
    {
     "data": {
      "text/plain": [
       "0.27764315776048976"
      ]
     },
     "execution_count": 40,
     "metadata": {},
     "output_type": "execute_result"
    }
   ],
   "source": []
  },
  {
   "cell_type": "code",
   "execution_count": 86,
   "id": "ecd5ad1a-249d-4101-b586-7ba64ee9b952",
   "metadata": {
    "tags": []
   },
   "outputs": [],
   "source": [
    "# Import train_test_split function\n",
    "from sklearn.model_selection import train_test_split"
   ]
  },
  {
   "cell_type": "code",
   "execution_count": null,
   "id": "f62652ef-eb0c-4eab-af0f-557bc658b06b",
   "metadata": {},
   "outputs": [],
   "source": []
  },
  {
   "cell_type": "code",
   "execution_count": null,
   "id": "38da3702-e9be-48bd-8346-f37e9e5b3d5d",
   "metadata": {},
   "outputs": [],
   "source": []
  },
  {
   "cell_type": "code",
   "execution_count": 57,
   "id": "d1545915-3c44-4b42-b4b1-fd29626d942e",
   "metadata": {},
   "outputs": [],
   "source": [
    "# Define model2 using GRU\n",
    "model1 = tf.keras.Sequential()\n",
    "model1.add(tf.keras.layers.Embedding(input_dim=len(unique_city_ids), output_dim=32, mask_zero=True))\n",
    "model1.add(tf.keras.layers.GRU(units=128, return_sequences=True))\n",
    "model1.add(tf.keras.layers.GRU(units=128, return_sequences=True))\n",
    "model1.add(tf.keras.layers.GRU(units=128))\n",
    "model1.add(tf.keras.layers.Dense(units=8, activation=\"relu\"))\n",
    "\n",
    "optimizer = tf.keras.optimizers.Adam(learning_rate=0.00001)\n",
    "\n",
    "\n",
    "# Define learning rate schedule\n",
    "def lr_schedule(epoch):\n",
    "    if epoch < 30:\n",
    "        return 0.00001\n",
    "    #elif epoch < 30:\n",
    "        #return 0.00001\n",
    "    else:\n",
    "        return 0.000001\n",
    "\n",
    "lr_scheduler = tf.keras.callbacks.LearningRateScheduler(lr_schedule)\n",
    "\n",
    "\n",
    "# Compile model\n",
    "model1.compile(loss=\"binary_crossentropy\", optimizer=optimizer, metrics=[\"accuracy\"])\n"
   ]
  },
  {
   "cell_type": "code",
   "execution_count": 79,
   "id": "b7fdafb2-041a-4ca7-ba40-c0034bdbbe9a",
   "metadata": {},
   "outputs": [
    {
     "name": "stdout",
     "output_type": "stream",
     "text": [
      "Epoch 1/50\n"
     ]
    },
    {
     "ename": "ValueError",
     "evalue": "in user code:\n\n    File \"/home/junaid_id/anaconda3/envs/rapids-22.08/lib/python3.9/site-packages/keras/engine/training.py\", line 1051, in train_function  *\n        return step_function(self, iterator)\n    File \"/home/junaid_id/anaconda3/envs/rapids-22.08/lib/python3.9/site-packages/keras/engine/training.py\", line 1040, in step_function  **\n        outputs = model.distribute_strategy.run(run_step, args=(data,))\n    File \"/home/junaid_id/anaconda3/envs/rapids-22.08/lib/python3.9/site-packages/keras/engine/training.py\", line 1030, in run_step  **\n        outputs = model.train_step(data)\n    File \"/home/junaid_id/anaconda3/envs/rapids-22.08/lib/python3.9/site-packages/keras/engine/training.py\", line 890, in train_step\n        loss = self.compute_loss(x, y, y_pred, sample_weight)\n    File \"/home/junaid_id/anaconda3/envs/rapids-22.08/lib/python3.9/site-packages/keras/engine/training.py\", line 948, in compute_loss\n        return self.compiled_loss(\n    File \"/home/junaid_id/anaconda3/envs/rapids-22.08/lib/python3.9/site-packages/keras/engine/compile_utils.py\", line 201, in __call__\n        loss_value = loss_obj(y_t, y_p, sample_weight=sw)\n    File \"/home/junaid_id/anaconda3/envs/rapids-22.08/lib/python3.9/site-packages/keras/losses.py\", line 139, in __call__\n        losses = call_fn(y_true, y_pred)\n    File \"/home/junaid_id/anaconda3/envs/rapids-22.08/lib/python3.9/site-packages/keras/losses.py\", line 243, in call  **\n        return ag_fn(y_true, y_pred, **self._fn_kwargs)\n    File \"/home/junaid_id/anaconda3/envs/rapids-22.08/lib/python3.9/site-packages/keras/losses.py\", line 1787, in categorical_crossentropy\n        return backend.categorical_crossentropy(\n    File \"/home/junaid_id/anaconda3/envs/rapids-22.08/lib/python3.9/site-packages/keras/backend.py\", line 5119, in categorical_crossentropy\n        target.shape.assert_is_compatible_with(output.shape)\n\n    ValueError: Shapes (None, 1) and (None, 8) are incompatible\n",
     "output_type": "error",
     "traceback": [
      "\u001b[0;31m---------------------------------------------------------------------------\u001b[0m",
      "\u001b[0;31mValueError\u001b[0m                                Traceback (most recent call last)",
      "Cell \u001b[0;32mIn [79], line 2\u001b[0m\n\u001b[1;32m      1\u001b[0m \u001b[38;5;66;03m# Train model\u001b[39;00m\n\u001b[0;32m----> 2\u001b[0m history \u001b[38;5;241m=\u001b[39m \u001b[43mmodel1\u001b[49m\u001b[38;5;241;43m.\u001b[39;49m\u001b[43mfit\u001b[49m\u001b[43m(\u001b[49m\u001b[43mX_train\u001b[49m\u001b[43m,\u001b[49m\u001b[43m \u001b[49m\u001b[43my_train\u001b[49m\u001b[43m,\u001b[49m\u001b[43m \u001b[49m\u001b[43mepochs\u001b[49m\u001b[38;5;241;43m=\u001b[39;49m\u001b[38;5;241;43m50\u001b[39;49m\u001b[43m,\u001b[49m\u001b[43m \u001b[49m\u001b[43mbatch_size\u001b[49m\u001b[38;5;241;43m=\u001b[39;49m\u001b[38;5;241;43m32\u001b[39;49m\u001b[43m,\u001b[49m\u001b[43m \u001b[49m\u001b[43mvalidation_data\u001b[49m\u001b[38;5;241;43m=\u001b[39;49m\u001b[43m(\u001b[49m\u001b[43mX_test\u001b[49m\u001b[43m,\u001b[49m\u001b[43m \u001b[49m\u001b[43my_test\u001b[49m\u001b[43m)\u001b[49m\u001b[43m,\u001b[49m\u001b[43m \u001b[49m\u001b[43mcallbacks\u001b[49m\u001b[38;5;241;43m=\u001b[39;49m\u001b[43m[\u001b[49m\u001b[43mlr_scheduler\u001b[49m\u001b[43m]\u001b[49m\u001b[43m)\u001b[49m\n",
      "File \u001b[0;32m~/anaconda3/envs/rapids-22.08/lib/python3.9/site-packages/keras/utils/traceback_utils.py:67\u001b[0m, in \u001b[0;36mfilter_traceback.<locals>.error_handler\u001b[0;34m(*args, **kwargs)\u001b[0m\n\u001b[1;32m     65\u001b[0m \u001b[38;5;28;01mexcept\u001b[39;00m \u001b[38;5;167;01mException\u001b[39;00m \u001b[38;5;28;01mas\u001b[39;00m e:  \u001b[38;5;66;03m# pylint: disable=broad-except\u001b[39;00m\n\u001b[1;32m     66\u001b[0m   filtered_tb \u001b[38;5;241m=\u001b[39m _process_traceback_frames(e\u001b[38;5;241m.\u001b[39m__traceback__)\n\u001b[0;32m---> 67\u001b[0m   \u001b[38;5;28;01mraise\u001b[39;00m e\u001b[38;5;241m.\u001b[39mwith_traceback(filtered_tb) \u001b[38;5;28;01mfrom\u001b[39;00m \u001b[38;5;28mNone\u001b[39m\n\u001b[1;32m     68\u001b[0m \u001b[38;5;28;01mfinally\u001b[39;00m:\n\u001b[1;32m     69\u001b[0m   \u001b[38;5;28;01mdel\u001b[39;00m filtered_tb\n",
      "File \u001b[0;32m/tmp/__autograph_generated_fileas4egp9b.py:15\u001b[0m, in \u001b[0;36mouter_factory.<locals>.inner_factory.<locals>.tf__train_function\u001b[0;34m(iterator)\u001b[0m\n\u001b[1;32m     13\u001b[0m \u001b[38;5;28;01mtry\u001b[39;00m:\n\u001b[1;32m     14\u001b[0m     do_return \u001b[38;5;241m=\u001b[39m \u001b[38;5;28;01mTrue\u001b[39;00m\n\u001b[0;32m---> 15\u001b[0m     retval_ \u001b[38;5;241m=\u001b[39m ag__\u001b[38;5;241m.\u001b[39mconverted_call(ag__\u001b[38;5;241m.\u001b[39mld(step_function), (ag__\u001b[38;5;241m.\u001b[39mld(\u001b[38;5;28mself\u001b[39m), ag__\u001b[38;5;241m.\u001b[39mld(iterator)), \u001b[38;5;28;01mNone\u001b[39;00m, fscope)\n\u001b[1;32m     16\u001b[0m \u001b[38;5;28;01mexcept\u001b[39;00m:\n\u001b[1;32m     17\u001b[0m     do_return \u001b[38;5;241m=\u001b[39m \u001b[38;5;28;01mFalse\u001b[39;00m\n",
      "\u001b[0;31mValueError\u001b[0m: in user code:\n\n    File \"/home/junaid_id/anaconda3/envs/rapids-22.08/lib/python3.9/site-packages/keras/engine/training.py\", line 1051, in train_function  *\n        return step_function(self, iterator)\n    File \"/home/junaid_id/anaconda3/envs/rapids-22.08/lib/python3.9/site-packages/keras/engine/training.py\", line 1040, in step_function  **\n        outputs = model.distribute_strategy.run(run_step, args=(data,))\n    File \"/home/junaid_id/anaconda3/envs/rapids-22.08/lib/python3.9/site-packages/keras/engine/training.py\", line 1030, in run_step  **\n        outputs = model.train_step(data)\n    File \"/home/junaid_id/anaconda3/envs/rapids-22.08/lib/python3.9/site-packages/keras/engine/training.py\", line 890, in train_step\n        loss = self.compute_loss(x, y, y_pred, sample_weight)\n    File \"/home/junaid_id/anaconda3/envs/rapids-22.08/lib/python3.9/site-packages/keras/engine/training.py\", line 948, in compute_loss\n        return self.compiled_loss(\n    File \"/home/junaid_id/anaconda3/envs/rapids-22.08/lib/python3.9/site-packages/keras/engine/compile_utils.py\", line 201, in __call__\n        loss_value = loss_obj(y_t, y_p, sample_weight=sw)\n    File \"/home/junaid_id/anaconda3/envs/rapids-22.08/lib/python3.9/site-packages/keras/losses.py\", line 139, in __call__\n        losses = call_fn(y_true, y_pred)\n    File \"/home/junaid_id/anaconda3/envs/rapids-22.08/lib/python3.9/site-packages/keras/losses.py\", line 243, in call  **\n        return ag_fn(y_true, y_pred, **self._fn_kwargs)\n    File \"/home/junaid_id/anaconda3/envs/rapids-22.08/lib/python3.9/site-packages/keras/losses.py\", line 1787, in categorical_crossentropy\n        return backend.categorical_crossentropy(\n    File \"/home/junaid_id/anaconda3/envs/rapids-22.08/lib/python3.9/site-packages/keras/backend.py\", line 5119, in categorical_crossentropy\n        target.shape.assert_is_compatible_with(output.shape)\n\n    ValueError: Shapes (None, 1) and (None, 8) are incompatible\n"
     ]
    }
   ],
   "source": [
    "# Train model\n",
    "history = model1.fit(X_train, y_train, epochs=50, batch_size=32, validation_data=(X_test, y_test), callbacks=[lr_scheduler])"
   ]
  },
  {
   "cell_type": "code",
   "execution_count": null,
   "id": "342f41ec-97cf-45bb-bd13-fb29fbc367bd",
   "metadata": {},
   "outputs": [],
   "source": []
  },
  {
   "cell_type": "code",
   "execution_count": 74,
   "id": "e4f7743e-768b-4c12-a0bc-45bab026527b",
   "metadata": {},
   "outputs": [
    {
     "name": "stdout",
     "output_type": "stream",
     "text": [
      "62/62 [==============================] - 3s 5ms/step\n"
     ]
    }
   ],
   "source": [
    "y_pred1 = model1.predict(X_test).argsort(axis=1)[:, -4:]"
   ]
  },
  {
   "cell_type": "code",
   "execution_count": 75,
   "id": "39d755c7-dcba-423b-b38f-04e0f283cc17",
   "metadata": {},
   "outputs": [
    {
     "name": "stdout",
     "output_type": "stream",
     "text": [
      "62/62 [==============================] - 0s 5ms/step\n"
     ]
    }
   ],
   "source": [
    "accat41 = accuracy_at_k(model1, X_test, y_test, 4)"
   ]
  },
  {
   "cell_type": "code",
   "execution_count": 73,
   "id": "8633f5e2-b8e5-42d8-ab61-50966acfc06b",
   "metadata": {},
   "outputs": [
    {
     "data": {
      "text/plain": [
       "0.0"
      ]
     },
     "execution_count": 73,
     "metadata": {},
     "output_type": "execute_result"
    }
   ],
   "source": [
    "accat41"
   ]
  },
  {
   "cell_type": "code",
   "execution_count": null,
   "id": "64c18373-109c-4fa5-a623-3eac420dd31f",
   "metadata": {},
   "outputs": [],
   "source": []
  },
  {
   "cell_type": "code",
   "execution_count": 78,
   "id": "ae4cd6ef-6dff-4031-916b-4a67a470c974",
   "metadata": {},
   "outputs": [],
   "source": [
    "# Define model1 using GRU\n",
    "model1 = tf.keras.Sequential()\n",
    "model1.add(tf.keras.layers.Embedding(input_dim=len(unique_city_ids), output_dim=32, mask_zero=True))\n",
    "model1.add(tf.keras.layers.GRU(units=128, return_sequences=True))\n",
    "model1.add(tf.keras.layers.GRU(units=128, return_sequences=True))\n",
    "model1.add(tf.keras.layers.GRU(units=128))\n",
    "model1.add(tf.keras.layers.Dense(units=8, activation=\"softmax\"))\n",
    "\n",
    "# Set the output of the model to be the output of the final layer\n",
    "model1 = tf.keras.Model(inputs=model1.inputs, outputs=model1.layers[-1].output)\n",
    "\n",
    "optimizer = tf.keras.optimizers.Adam(learning_rate=0.00001)\n",
    "\n",
    "# Compile model\n",
    "model1.compile(loss=\"categorical_crossentropy\", optimizer=optimizer, metrics=[\"accuracy\"])\n"
   ]
  },
  {
   "cell_type": "code",
   "execution_count": 88,
   "id": "9f08fc63-88f3-4193-a736-157ecceb5440",
   "metadata": {},
   "outputs": [
    {
     "name": "stdout",
     "output_type": "stream",
     "text": [
      "Epoch 1/50\n"
     ]
    },
    {
     "ename": "ValueError",
     "evalue": "in user code:\n\n    File \"/home/junaid_id/anaconda3/envs/rapids-22.08/lib/python3.9/site-packages/keras/engine/training.py\", line 1051, in train_function  *\n        return step_function(self, iterator)\n    File \"/home/junaid_id/anaconda3/envs/rapids-22.08/lib/python3.9/site-packages/keras/engine/training.py\", line 1040, in step_function  **\n        outputs = model.distribute_strategy.run(run_step, args=(data,))\n    File \"/home/junaid_id/anaconda3/envs/rapids-22.08/lib/python3.9/site-packages/keras/engine/training.py\", line 1030, in run_step  **\n        outputs = model.train_step(data)\n    File \"/home/junaid_id/anaconda3/envs/rapids-22.08/lib/python3.9/site-packages/keras/engine/training.py\", line 890, in train_step\n        loss = self.compute_loss(x, y, y_pred, sample_weight)\n    File \"/home/junaid_id/anaconda3/envs/rapids-22.08/lib/python3.9/site-packages/keras/engine/training.py\", line 948, in compute_loss\n        return self.compiled_loss(\n    File \"/home/junaid_id/anaconda3/envs/rapids-22.08/lib/python3.9/site-packages/keras/engine/compile_utils.py\", line 201, in __call__\n        loss_value = loss_obj(y_t, y_p, sample_weight=sw)\n    File \"/home/junaid_id/anaconda3/envs/rapids-22.08/lib/python3.9/site-packages/keras/losses.py\", line 139, in __call__\n        losses = call_fn(y_true, y_pred)\n    File \"/home/junaid_id/anaconda3/envs/rapids-22.08/lib/python3.9/site-packages/keras/losses.py\", line 243, in call  **\n        return ag_fn(y_true, y_pred, **self._fn_kwargs)\n    File \"/home/junaid_id/anaconda3/envs/rapids-22.08/lib/python3.9/site-packages/keras/losses.py\", line 1787, in categorical_crossentropy\n        return backend.categorical_crossentropy(\n    File \"/home/junaid_id/anaconda3/envs/rapids-22.08/lib/python3.9/site-packages/keras/backend.py\", line 5119, in categorical_crossentropy\n        target.shape.assert_is_compatible_with(output.shape)\n\n    ValueError: Shapes (None, 8369) and (None, 8) are incompatible\n",
     "output_type": "error",
     "traceback": [
      "\u001b[0;31m---------------------------------------------------------------------------\u001b[0m",
      "\u001b[0;31mValueError\u001b[0m                                Traceback (most recent call last)",
      "Cell \u001b[0;32mIn [88], line 7\u001b[0m\n\u001b[1;32m      4\u001b[0m y_test_one_hot \u001b[38;5;241m=\u001b[39m tf\u001b[38;5;241m.\u001b[39mkeras\u001b[38;5;241m.\u001b[39mutils\u001b[38;5;241m.\u001b[39mto_categorical(y_test\u001b[38;5;241m.\u001b[39mto_numpy(), num_classes\u001b[38;5;241m=\u001b[39mnum_cities)\n\u001b[1;32m      6\u001b[0m \u001b[38;5;66;03m# Train model\u001b[39;00m\n\u001b[0;32m----> 7\u001b[0m history \u001b[38;5;241m=\u001b[39m \u001b[43mmodel1\u001b[49m\u001b[38;5;241;43m.\u001b[39;49m\u001b[43mfit\u001b[49m\u001b[43m(\u001b[49m\u001b[43mX_train\u001b[49m\u001b[43m,\u001b[49m\u001b[43m \u001b[49m\u001b[43my_train_one_hot\u001b[49m\u001b[43m,\u001b[49m\u001b[43m \u001b[49m\u001b[43mepochs\u001b[49m\u001b[38;5;241;43m=\u001b[39;49m\u001b[38;5;241;43m50\u001b[39;49m\u001b[43m,\u001b[49m\u001b[43m \u001b[49m\u001b[43mbatch_size\u001b[49m\u001b[38;5;241;43m=\u001b[39;49m\u001b[38;5;241;43m32\u001b[39;49m\u001b[43m,\u001b[49m\u001b[43m \u001b[49m\u001b[43mvalidation_data\u001b[49m\u001b[38;5;241;43m=\u001b[39;49m\u001b[43m(\u001b[49m\u001b[43mX_test\u001b[49m\u001b[43m,\u001b[49m\u001b[43m \u001b[49m\u001b[43my_test_one_hot\u001b[49m\u001b[43m)\u001b[49m\u001b[43m,\u001b[49m\u001b[43m \u001b[49m\u001b[43mcallbacks\u001b[49m\u001b[38;5;241;43m=\u001b[39;49m\u001b[43m[\u001b[49m\u001b[43mlr_scheduler\u001b[49m\u001b[43m]\u001b[49m\u001b[43m)\u001b[49m\n",
      "File \u001b[0;32m~/anaconda3/envs/rapids-22.08/lib/python3.9/site-packages/keras/utils/traceback_utils.py:67\u001b[0m, in \u001b[0;36mfilter_traceback.<locals>.error_handler\u001b[0;34m(*args, **kwargs)\u001b[0m\n\u001b[1;32m     65\u001b[0m \u001b[38;5;28;01mexcept\u001b[39;00m \u001b[38;5;167;01mException\u001b[39;00m \u001b[38;5;28;01mas\u001b[39;00m e:  \u001b[38;5;66;03m# pylint: disable=broad-except\u001b[39;00m\n\u001b[1;32m     66\u001b[0m   filtered_tb \u001b[38;5;241m=\u001b[39m _process_traceback_frames(e\u001b[38;5;241m.\u001b[39m__traceback__)\n\u001b[0;32m---> 67\u001b[0m   \u001b[38;5;28;01mraise\u001b[39;00m e\u001b[38;5;241m.\u001b[39mwith_traceback(filtered_tb) \u001b[38;5;28;01mfrom\u001b[39;00m \u001b[38;5;28mNone\u001b[39m\n\u001b[1;32m     68\u001b[0m \u001b[38;5;28;01mfinally\u001b[39;00m:\n\u001b[1;32m     69\u001b[0m   \u001b[38;5;28;01mdel\u001b[39;00m filtered_tb\n",
      "File \u001b[0;32m/tmp/__autograph_generated_fileas4egp9b.py:15\u001b[0m, in \u001b[0;36mouter_factory.<locals>.inner_factory.<locals>.tf__train_function\u001b[0;34m(iterator)\u001b[0m\n\u001b[1;32m     13\u001b[0m \u001b[38;5;28;01mtry\u001b[39;00m:\n\u001b[1;32m     14\u001b[0m     do_return \u001b[38;5;241m=\u001b[39m \u001b[38;5;28;01mTrue\u001b[39;00m\n\u001b[0;32m---> 15\u001b[0m     retval_ \u001b[38;5;241m=\u001b[39m ag__\u001b[38;5;241m.\u001b[39mconverted_call(ag__\u001b[38;5;241m.\u001b[39mld(step_function), (ag__\u001b[38;5;241m.\u001b[39mld(\u001b[38;5;28mself\u001b[39m), ag__\u001b[38;5;241m.\u001b[39mld(iterator)), \u001b[38;5;28;01mNone\u001b[39;00m, fscope)\n\u001b[1;32m     16\u001b[0m \u001b[38;5;28;01mexcept\u001b[39;00m:\n\u001b[1;32m     17\u001b[0m     do_return \u001b[38;5;241m=\u001b[39m \u001b[38;5;28;01mFalse\u001b[39;00m\n",
      "\u001b[0;31mValueError\u001b[0m: in user code:\n\n    File \"/home/junaid_id/anaconda3/envs/rapids-22.08/lib/python3.9/site-packages/keras/engine/training.py\", line 1051, in train_function  *\n        return step_function(self, iterator)\n    File \"/home/junaid_id/anaconda3/envs/rapids-22.08/lib/python3.9/site-packages/keras/engine/training.py\", line 1040, in step_function  **\n        outputs = model.distribute_strategy.run(run_step, args=(data,))\n    File \"/home/junaid_id/anaconda3/envs/rapids-22.08/lib/python3.9/site-packages/keras/engine/training.py\", line 1030, in run_step  **\n        outputs = model.train_step(data)\n    File \"/home/junaid_id/anaconda3/envs/rapids-22.08/lib/python3.9/site-packages/keras/engine/training.py\", line 890, in train_step\n        loss = self.compute_loss(x, y, y_pred, sample_weight)\n    File \"/home/junaid_id/anaconda3/envs/rapids-22.08/lib/python3.9/site-packages/keras/engine/training.py\", line 948, in compute_loss\n        return self.compiled_loss(\n    File \"/home/junaid_id/anaconda3/envs/rapids-22.08/lib/python3.9/site-packages/keras/engine/compile_utils.py\", line 201, in __call__\n        loss_value = loss_obj(y_t, y_p, sample_weight=sw)\n    File \"/home/junaid_id/anaconda3/envs/rapids-22.08/lib/python3.9/site-packages/keras/losses.py\", line 139, in __call__\n        losses = call_fn(y_true, y_pred)\n    File \"/home/junaid_id/anaconda3/envs/rapids-22.08/lib/python3.9/site-packages/keras/losses.py\", line 243, in call  **\n        return ag_fn(y_true, y_pred, **self._fn_kwargs)\n    File \"/home/junaid_id/anaconda3/envs/rapids-22.08/lib/python3.9/site-packages/keras/losses.py\", line 1787, in categorical_crossentropy\n        return backend.categorical_crossentropy(\n    File \"/home/junaid_id/anaconda3/envs/rapids-22.08/lib/python3.9/site-packages/keras/backend.py\", line 5119, in categorical_crossentropy\n        target.shape.assert_is_compatible_with(output.shape)\n\n    ValueError: Shapes (None, 8369) and (None, 8) are incompatible\n"
     ]
    }
   ],
   "source": [
    "# Convert y_train and y_test to one-hot encoded targets\n",
    "num_cities = 8369\n",
    "y_train_one_hot = tf.keras.utils.to_categorical(y_train.to_numpy(), num_classes=num_cities)\n",
    "y_test_one_hot = tf.keras.utils.to_categorical(y_test.to_numpy(), num_classes=num_cities)\n",
    "\n",
    "# Train model\n",
    "history = model1.fit(X_train, y_train_one_hot, epochs=50, batch_size=32, validation_data=(X_test, y_test_one_hot), callbacks=[lr_scheduler])\n"
   ]
  },
  {
   "cell_type": "code",
   "execution_count": 69,
   "id": "15ac0012-1653-4f53-bd61-5c674510da47",
   "metadata": {},
   "outputs": [
    {
     "data": {
      "text/plain": [
       "array([[  90,  138, 7265, 3126],\n",
       "       [5763, 5439, 6451,  245],\n",
       "       [4532, 6135, 1500, 5290],\n",
       "       ...,\n",
       "       [7408, 1030, 3190, 2852],\n",
       "       [4889, 1530, 4614,  256],\n",
       "       [6460, 1663, 2183,   39]])"
      ]
     },
     "execution_count": 69,
     "metadata": {},
     "output_type": "execute_result"
    }
   ],
   "source": [
    "top_predictions"
   ]
  },
  {
   "cell_type": "code",
   "execution_count": 76,
   "id": "f6af91f2-17db-441e-8efb-b97337d17cef",
   "metadata": {},
   "outputs": [
    {
     "name": "stdout",
     "output_type": "stream",
     "text": [
      "62/62 [==============================] - 0s 5ms/step\n",
      "(1961, 7504)\n"
     ]
    }
   ],
   "source": [
    "# Make predictions for the input data\n",
    "predictions = model1.predict(X_test)\n",
    "\n",
    "# The predictions array will have shape (num_samples, num_cities)\n",
    "# Each row represents the probabilities for each city for a given sample\n",
    "print(predictions.shape)\n",
    "\n",
    "# Select the top 4 predictions for each row\n",
    "top_predictions = np.argpartition(-predictions, 4, axis=1)[:, :4]\n",
    "\n",
    "# Get the probabilities of the top predictions\n",
    "top_probabilities = np.zeros((len(predictions), 4))\n",
    "for i in range(len(predictions)):\n",
    "    top_probabilities[i] = predictions[i, top_predictions[i]]\n"
   ]
  },
  {
   "cell_type": "code",
   "execution_count": 77,
   "id": "48a2ca60-70cf-496b-ae0a-4cc0a74eb5fd",
   "metadata": {},
   "outputs": [
    {
     "data": {
      "text/plain": [
       "array([[0.00013333, 0.00013317, 0.00013328, ..., 0.00013327, 0.00013307,\n",
       "        0.00013323],\n",
       "       [0.00013338, 0.00013326, 0.00013338, ..., 0.00013307, 0.00013333,\n",
       "        0.00013326],\n",
       "       [0.00013326, 0.00013326, 0.00013326, ..., 0.00013319, 0.0001332 ,\n",
       "        0.00013324],\n",
       "       ...,\n",
       "       [0.00013338, 0.00013323, 0.00013332, ..., 0.00013325, 0.00013324,\n",
       "        0.00013321],\n",
       "       [0.0001332 , 0.00013323, 0.00013325, ..., 0.00013303, 0.00013318,\n",
       "        0.00013315],\n",
       "       [0.0001333 , 0.00013316, 0.00013332, ..., 0.00013306, 0.00013316,\n",
       "        0.00013331]], dtype=float32)"
      ]
     },
     "execution_count": 77,
     "metadata": {},
     "output_type": "execute_result"
    }
   ],
   "source": [
    "predictions"
   ]
  },
  {
   "cell_type": "code",
   "execution_count": null,
   "id": "49c45827-f098-4642-9b13-6096fe0059db",
   "metadata": {},
   "outputs": [],
   "source": []
  },
  {
   "cell_type": "code",
   "execution_count": null,
   "id": "cc76c1d6-454a-4ede-8287-5804f4e22f10",
   "metadata": {},
   "outputs": [],
   "source": []
  },
  {
   "cell_type": "code",
   "execution_count": null,
   "id": "678757fe-f830-4113-b3b0-154fb97cf957",
   "metadata": {},
   "outputs": [],
   "source": []
  },
  {
   "cell_type": "code",
   "execution_count": null,
   "id": "324cd176-e988-4a93-9fde-367d7fbeca35",
   "metadata": {},
   "outputs": [],
   "source": []
  },
  {
   "cell_type": "code",
   "execution_count": null,
   "id": "8be917f7-4a2b-42dc-a680-5cea8b31ef4e",
   "metadata": {},
   "outputs": [],
   "source": []
  },
  {
   "cell_type": "code",
   "execution_count": null,
   "id": "2e9e10f7-7522-437c-95aa-5125cdd07baf",
   "metadata": {},
   "outputs": [],
   "source": []
  },
  {
   "cell_type": "code",
   "execution_count": null,
   "id": "fa8b6c78-c122-42fb-8393-640815f7e0fe",
   "metadata": {},
   "outputs": [],
   "source": []
  },
  {
   "cell_type": "code",
   "execution_count": 120,
   "id": "09028027-132e-4dd6-bbc3-751d838063a7",
   "metadata": {},
   "outputs": [],
   "source": [
    "# Preprocess data\n",
    "#X_train, X_test, y_train, y_test = train_test_split(df[[\"city_id-list\",\"duration_norm\", \"city_id-count\"]], df[\"target_city\"], test_size=0.2)\n",
    "\n",
    "\n",
    "# Split data into training and testing sets\n",
    "train_size = int(len(df) * 0.8)\n",
    "X_train, X_test = df[[\"city_id-list\",\"duration_norm\", \"city_id-count\"]][:train_size], df[[\"city_id-list\",\"duration_norm\", \"city_id-count\"]][train_size:]\n",
    "y_train, y_test = df[\"target_city\"][:train_size], df[\"target_city\"][train_size:]\n",
    "\n"
   ]
  },
  {
   "cell_type": "code",
   "execution_count": 129,
   "id": "b7aee0d3-dcc7-4913-84ad-97069c0a329a",
   "metadata": {},
   "outputs": [
    {
     "ename": "TypeError",
     "evalue": "only integer scalar arrays can be converted to a scalar index",
     "output_type": "error",
     "traceback": [
      "\u001b[0;31m---------------------------------------------------------------------------\u001b[0m",
      "\u001b[0;31mTypeError\u001b[0m                                 Traceback (most recent call last)",
      "Cell \u001b[0;32mIn [129], line 1\u001b[0m\n\u001b[0;32m----> 1\u001b[0m cols_as_np \u001b[38;5;241m=\u001b[39m \u001b[43mnp\u001b[49m\u001b[38;5;241;43m.\u001b[39;49m\u001b[43mconcatenate\u001b[49m\u001b[43m(\u001b[49m\u001b[43mnp\u001b[49m\u001b[38;5;241;43m.\u001b[39;49m\u001b[43marray\u001b[49m\u001b[43m(\u001b[49m\u001b[43m[\u001b[49m\u001b[43mnp\u001b[49m\u001b[38;5;241;43m.\u001b[39;49m\u001b[43marray\u001b[49m\u001b[43m(\u001b[49m\u001b[43ml\u001b[49m\u001b[43m,\u001b[49m\u001b[43m \u001b[49m\u001b[43mdtype\u001b[49m\u001b[38;5;241;43m=\u001b[39;49m\u001b[38;5;28;43mint\u001b[39;49m\u001b[43m)\u001b[49m\u001b[43m \u001b[49m\u001b[38;5;28;43;01mfor\u001b[39;49;00m\u001b[43m \u001b[49m\u001b[43ml\u001b[49m\u001b[43m \u001b[49m\u001b[38;5;129;43;01min\u001b[39;49;00m\u001b[43m \u001b[49m\u001b[43mX_train\u001b[49m\u001b[43m[\u001b[49m\u001b[38;5;124;43m'\u001b[39;49m\u001b[38;5;124;43mcity_id-list\u001b[39;49m\u001b[38;5;124;43m'\u001b[39;49m\u001b[43m]\u001b[49m\u001b[43m]\u001b[49m\u001b[43m)\u001b[49m\u001b[43m,\u001b[49m\u001b[43mX_train\u001b[49m\u001b[43m[\u001b[49m\u001b[38;5;124;43m'\u001b[39;49m\u001b[38;5;124;43mduration_norm\u001b[39;49m\u001b[38;5;124;43m'\u001b[39;49m\u001b[43m]\u001b[49m\u001b[38;5;241;43m.\u001b[39;49m\u001b[43mvalues\u001b[49m\u001b[43m)\u001b[49m\n",
      "File \u001b[0;32m<__array_function__ internals>:180\u001b[0m, in \u001b[0;36mconcatenate\u001b[0;34m(*args, **kwargs)\u001b[0m\n",
      "\u001b[0;31mTypeError\u001b[0m: only integer scalar arrays can be converted to a scalar index"
     ]
    }
   ],
   "source": [
    "cols_as_np = np.concatenate(np.array([np.array(l, dtype=int) for l in X_train['city_id-list']]),X_train['duration_norm'].values)"
   ]
  },
  {
   "cell_type": "code",
   "execution_count": 130,
   "id": "1018dde1-f9b0-4ca7-b393-be2145d620c9",
   "metadata": {},
   "outputs": [
    {
     "data": {
      "text/plain": [
       "array([-0.81211268, -1.06808826, -0.30016153, ...,  0.21178963,\n",
       "       -0.81211268, -0.30016153])"
      ]
     },
     "execution_count": 130,
     "metadata": {},
     "output_type": "execute_result"
    }
   ],
   "source": [
    "X_train['duration_norm'].values"
   ]
  },
  {
   "cell_type": "code",
   "execution_count": 118,
   "id": "68701040-ff22-4097-a801-68580c30ef19",
   "metadata": {},
   "outputs": [],
   "source": [
    "# Convert X_train and X_test to numpy arrays\n",
    "X_train['city_id-list'] = np.array([np.array(l, dtype=int) for l in X_train['city_id-list']])\n",
    "X_test['city_id-list'] = np.array([np.array(l, dtype=int) for l in X_test['city_id-list']])"
   ]
  },
  {
   "cell_type": "code",
   "execution_count": 111,
   "id": "2f6d94d5-6e72-4f57-8130-a18f7b570c94",
   "metadata": {},
   "outputs": [],
   "source": [
    "# Convert X_train and X_test to numpy arrays\n",
    "X_train = np.array(X_train)\n",
    "X_test = np.array(X_test)\n",
    "\n",
    "# Define model\n",
    "input1 = tf.keras.Input(shape=(3,))\n",
    "x = tf.keras.layers.Dense(32, activation=\"relu\")(input1)\n",
    "input2 = tf.keras.Input(shape=(5,))\n",
    "y = tf.keras.layers.Embedding(input_dim=len(unique_city_ids), output_dim=32)(input2)\n",
    "y = tf.keras.layers.LSTM(units=32)(y)\n",
    "z = tf.keras.layers.concatenate([x, y])\n",
    "output = tf.keras.layers.Dense(1, activation=\"sigmoid\")(z)\n",
    "model = tf.keras.Model(inputs=[input1, input2], outputs=output)\n",
    "\n",
    "# Compile model\n",
    "model.compile(optimizer=\"adam\", loss=\"binary_crossentropy\", metrics=[\"accuracy\"])\n"
   ]
  },
  {
   "cell_type": "code",
   "execution_count": null,
   "id": "c6503c01-47c1-4bdd-a08e-6ce1455a565c",
   "metadata": {},
   "outputs": [],
   "source": []
  },
  {
   "cell_type": "code",
   "execution_count": 109,
   "id": "31b50ad7-9b72-49e9-a357-5e36007d1d1d",
   "metadata": {},
   "outputs": [
    {
     "data": {
      "text/html": [
       "<div>\n",
       "<style scoped>\n",
       "    .dataframe tbody tr th:only-of-type {\n",
       "        vertical-align: middle;\n",
       "    }\n",
       "\n",
       "    .dataframe tbody tr th {\n",
       "        vertical-align: top;\n",
       "    }\n",
       "\n",
       "    .dataframe thead th {\n",
       "        text-align: right;\n",
       "    }\n",
       "</style>\n",
       "<table border=\"1\" class=\"dataframe\">\n",
       "  <thead>\n",
       "    <tr style=\"text-align: right;\">\n",
       "      <th></th>\n",
       "      <th>city_id-list</th>\n",
       "      <th>duration_norm</th>\n",
       "      <th>city_id-count</th>\n",
       "    </tr>\n",
       "  </thead>\n",
       "  <tbody>\n",
       "    <tr>\n",
       "      <th>10</th>\n",
       "      <td>[48, 141, 456, 0]</td>\n",
       "      <td>-0.556137</td>\n",
       "      <td>4</td>\n",
       "    </tr>\n",
       "    <tr>\n",
       "      <th>8137</th>\n",
       "      <td>[583, 271, 89, 0]</td>\n",
       "      <td>-0.556137</td>\n",
       "      <td>4</td>\n",
       "    </tr>\n",
       "    <tr>\n",
       "      <th>1066</th>\n",
       "      <td>[3596, 3596, 91, 0]</td>\n",
       "      <td>-0.300162</td>\n",
       "      <td>4</td>\n",
       "    </tr>\n",
       "    <tr>\n",
       "      <th>7491</th>\n",
       "      <td>[372, 437, 781, 0]</td>\n",
       "      <td>-0.812113</td>\n",
       "      <td>4</td>\n",
       "    </tr>\n",
       "    <tr>\n",
       "      <th>5210</th>\n",
       "      <td>[11, 2907, 6979, 4412]</td>\n",
       "      <td>-0.812113</td>\n",
       "      <td>5</td>\n",
       "    </tr>\n",
       "    <tr>\n",
       "      <th>...</th>\n",
       "      <td>...</td>\n",
       "      <td>...</td>\n",
       "      <td>...</td>\n",
       "    </tr>\n",
       "    <tr>\n",
       "      <th>8108</th>\n",
       "      <td>[911, 251, 254, 65]</td>\n",
       "      <td>-0.044186</td>\n",
       "      <td>5</td>\n",
       "    </tr>\n",
       "    <tr>\n",
       "      <th>1990</th>\n",
       "      <td>[14, 155, 8, 0]</td>\n",
       "      <td>-1.068088</td>\n",
       "      <td>4</td>\n",
       "    </tr>\n",
       "    <tr>\n",
       "      <th>834</th>\n",
       "      <td>[6454, 7, 60, 0]</td>\n",
       "      <td>0.979716</td>\n",
       "      <td>4</td>\n",
       "    </tr>\n",
       "    <tr>\n",
       "      <th>4094</th>\n",
       "      <td>[48, 58, 41, 0]</td>\n",
       "      <td>0.211790</td>\n",
       "      <td>4</td>\n",
       "    </tr>\n",
       "    <tr>\n",
       "      <th>753</th>\n",
       "      <td>[2891, 267, 118, 7285]</td>\n",
       "      <td>0.979716</td>\n",
       "      <td>5</td>\n",
       "    </tr>\n",
       "  </tbody>\n",
       "</table>\n",
       "<p>7841 rows × 3 columns</p>\n",
       "</div>"
      ],
      "text/plain": [
       "                city_id-list  duration_norm  city_id-count\n",
       "10         [48, 141, 456, 0]      -0.556137              4\n",
       "8137       [583, 271, 89, 0]      -0.556137              4\n",
       "1066     [3596, 3596, 91, 0]      -0.300162              4\n",
       "7491      [372, 437, 781, 0]      -0.812113              4\n",
       "5210  [11, 2907, 6979, 4412]      -0.812113              5\n",
       "...                      ...            ...            ...\n",
       "8108     [911, 251, 254, 65]      -0.044186              5\n",
       "1990         [14, 155, 8, 0]      -1.068088              4\n",
       "834         [6454, 7, 60, 0]       0.979716              4\n",
       "4094         [48, 58, 41, 0]       0.211790              4\n",
       "753   [2891, 267, 118, 7285]       0.979716              5\n",
       "\n",
       "[7841 rows x 3 columns]"
      ]
     },
     "execution_count": 109,
     "metadata": {},
     "output_type": "execute_result"
    }
   ],
   "source": [
    "X_train"
   ]
  },
  {
   "cell_type": "code",
   "execution_count": 112,
   "id": "17dc6144-16cc-47c3-a2cf-035f59cf0bc5",
   "metadata": {},
   "outputs": [
    {
     "ename": "ValueError",
     "evalue": "Failed to convert a NumPy array to a Tensor (Unsupported object type list).",
     "output_type": "error",
     "traceback": [
      "\u001b[0;31m---------------------------------------------------------------------------\u001b[0m",
      "\u001b[0;31mValueError\u001b[0m                                Traceback (most recent call last)",
      "Cell \u001b[0;32mIn [112], line 2\u001b[0m\n\u001b[1;32m      1\u001b[0m \u001b[38;5;66;03m# Train model\u001b[39;00m\n\u001b[0;32m----> 2\u001b[0m history \u001b[38;5;241m=\u001b[39m \u001b[43mmodel\u001b[49m\u001b[38;5;241;43m.\u001b[39;49m\u001b[43mfit\u001b[49m\u001b[43m(\u001b[49m\u001b[43m[\u001b[49m\u001b[43mX_train\u001b[49m\u001b[43m,\u001b[49m\u001b[43m \u001b[49m\u001b[43my_train\u001b[49m\u001b[43m]\u001b[49m\u001b[43m,\u001b[49m\u001b[43m \u001b[49m\u001b[43my_train\u001b[49m\u001b[43m,\u001b[49m\u001b[43m \u001b[49m\u001b[43mepochs\u001b[49m\u001b[38;5;241;43m=\u001b[39;49m\u001b[38;5;241;43m10\u001b[39;49m\u001b[43m,\u001b[49m\u001b[43m \u001b[49m\u001b[43mbatch_size\u001b[49m\u001b[38;5;241;43m=\u001b[39;49m\u001b[38;5;241;43m32\u001b[39;49m\u001b[43m,\u001b[49m\u001b[43m \u001b[49m\u001b[43mvalidation_data\u001b[49m\u001b[38;5;241;43m=\u001b[39;49m\u001b[43m(\u001b[49m\u001b[43m[\u001b[49m\u001b[43mX_test\u001b[49m\u001b[43m,\u001b[49m\u001b[43m \u001b[49m\u001b[43my_test\u001b[49m\u001b[43m]\u001b[49m\u001b[43m,\u001b[49m\u001b[43m \u001b[49m\u001b[43my_test\u001b[49m\u001b[43m)\u001b[49m\u001b[43m)\u001b[49m\n",
      "File \u001b[0;32m~/anaconda3/envs/rapids-22.08/lib/python3.9/site-packages/keras/utils/traceback_utils.py:67\u001b[0m, in \u001b[0;36mfilter_traceback.<locals>.error_handler\u001b[0;34m(*args, **kwargs)\u001b[0m\n\u001b[1;32m     65\u001b[0m \u001b[38;5;28;01mexcept\u001b[39;00m \u001b[38;5;167;01mException\u001b[39;00m \u001b[38;5;28;01mas\u001b[39;00m e:  \u001b[38;5;66;03m# pylint: disable=broad-except\u001b[39;00m\n\u001b[1;32m     66\u001b[0m   filtered_tb \u001b[38;5;241m=\u001b[39m _process_traceback_frames(e\u001b[38;5;241m.\u001b[39m__traceback__)\n\u001b[0;32m---> 67\u001b[0m   \u001b[38;5;28;01mraise\u001b[39;00m e\u001b[38;5;241m.\u001b[39mwith_traceback(filtered_tb) \u001b[38;5;28;01mfrom\u001b[39;00m \u001b[38;5;28mNone\u001b[39m\n\u001b[1;32m     68\u001b[0m \u001b[38;5;28;01mfinally\u001b[39;00m:\n\u001b[1;32m     69\u001b[0m   \u001b[38;5;28;01mdel\u001b[39;00m filtered_tb\n",
      "File \u001b[0;32m~/anaconda3/envs/rapids-22.08/lib/python3.9/site-packages/tensorflow/python/framework/constant_op.py:102\u001b[0m, in \u001b[0;36mconvert_to_eager_tensor\u001b[0;34m(value, ctx, dtype)\u001b[0m\n\u001b[1;32m    100\u001b[0m     dtype \u001b[38;5;241m=\u001b[39m dtypes\u001b[38;5;241m.\u001b[39mas_dtype(dtype)\u001b[38;5;241m.\u001b[39mas_datatype_enum\n\u001b[1;32m    101\u001b[0m ctx\u001b[38;5;241m.\u001b[39mensure_initialized()\n\u001b[0;32m--> 102\u001b[0m \u001b[38;5;28;01mreturn\u001b[39;00m \u001b[43mops\u001b[49m\u001b[38;5;241;43m.\u001b[39;49m\u001b[43mEagerTensor\u001b[49m\u001b[43m(\u001b[49m\u001b[43mvalue\u001b[49m\u001b[43m,\u001b[49m\u001b[43m \u001b[49m\u001b[43mctx\u001b[49m\u001b[38;5;241;43m.\u001b[39;49m\u001b[43mdevice_name\u001b[49m\u001b[43m,\u001b[49m\u001b[43m \u001b[49m\u001b[43mdtype\u001b[49m\u001b[43m)\u001b[49m\n",
      "\u001b[0;31mValueError\u001b[0m: Failed to convert a NumPy array to a Tensor (Unsupported object type list)."
     ]
    }
   ],
   "source": [
    "# Train model\n",
    "history = model.fit([X_train, y_train], y_train, epochs=10, batch_size=32, validation_data=([X_test, y_test], y_test))"
   ]
  },
  {
   "cell_type": "code",
   "execution_count": null,
   "id": "20a3e449-afea-46f2-a8ab-fd143357a5b5",
   "metadata": {},
   "outputs": [],
   "source": []
  },
  {
   "cell_type": "code",
   "execution_count": null,
   "id": "da057a93-6b80-4182-bee7-53a719ed479d",
   "metadata": {},
   "outputs": [],
   "source": []
  }
 ],
 "metadata": {
  "kernelspec": {
   "display_name": "Python 3",
   "language": "python",
   "name": "python3"
  },
  "language_info": {
   "codemirror_mode": {
    "name": "ipython",
    "version": 3
   },
   "file_extension": ".py",
   "mimetype": "text/x-python",
   "name": "python",
   "nbconvert_exporter": "python",
   "pygments_lexer": "ipython3",
   "version": "3.8.8"
  }
 },
 "nbformat": 4,
 "nbformat_minor": 5
}
