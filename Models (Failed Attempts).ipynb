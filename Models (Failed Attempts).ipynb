{
 "cells": [
  {
   "cell_type": "code",
   "execution_count": 3,
   "id": "1b88420e",
   "metadata": {},
   "outputs": [],
   "source": [
    "# Import libraries\n",
    "import tensorflow as tf\n",
    "import pandas as pd\n",
    "import matplotlib.pyplot as plt\n",
    "#import cudf\n",
    "import numpy as np"
   ]
  },
  {
   "cell_type": "code",
   "execution_count": 4,
   "id": "8f440538",
   "metadata": {},
   "outputs": [],
   "source": [
    "df=pd.read_csv('filtered_trips.csv')"
   ]
  },
  {
   "cell_type": "code",
   "execution_count": 7,
   "id": "7eb5154a",
   "metadata": {},
   "outputs": [
    {
     "name": "stdout",
     "output_type": "stream",
     "text": [
      "<class 'pandas.core.frame.DataFrame'>\n",
      "RangeIndex: 641773 entries, 0 to 641772\n",
      "Data columns (total 12 columns):\n",
      " #   Column          Non-Null Count   Dtype  \n",
      "---  ------          --------------   -----  \n",
      " 0   Unnamed: 0      641773 non-null  int64  \n",
      " 1   checkin         641773 non-null  object \n",
      " 2   checkout        641773 non-null  object \n",
      " 3   city_id         641773 non-null  int64  \n",
      " 4   booker_country  641773 non-null  object \n",
      " 5   hotel_country   641773 non-null  object \n",
      " 6   utrip_id        641773 non-null  object \n",
      " 7   checkin_month   641773 non-null  int64  \n",
      " 8   checkout_month  641773 non-null  int64  \n",
      " 9   checkin_day     641773 non-null  int64  \n",
      " 10  checkout_day    641773 non-null  int64  \n",
      " 11  trip_duration   641773 non-null  float64\n",
      "dtypes: float64(1), int64(6), object(5)\n",
      "memory usage: 58.8+ MB\n"
     ]
    }
   ],
   "source": [
    "df.info()"
   ]
  },
  {
   "cell_type": "code",
   "execution_count": 5,
   "id": "103e856f",
   "metadata": {},
   "outputs": [],
   "source": [
    "df.drop(['Unnamed: 0','checkin','checkout'], axis=1, inplace=True)"
   ]
  },
  {
   "cell_type": "code",
   "execution_count": null,
   "id": "b932fe88",
   "metadata": {},
   "outputs": [],
   "source": []
  },
  {
   "cell_type": "code",
   "execution_count": 6,
   "id": "e5e90746",
   "metadata": {},
   "outputs": [],
   "source": [
    "df['booker_country']=df['booker_country'].astype('category').cat.rename_categories(range(1, len(df['booker_country'].astype('category').cat.categories) + 1))"
   ]
  },
  {
   "cell_type": "code",
   "execution_count": 7,
   "id": "a7005005",
   "metadata": {},
   "outputs": [],
   "source": [
    "df['hotel_country']=df['hotel_country'].astype('category').cat.rename_categories(range(1, len(df['hotel_country'].astype('category').cat.categories) + 1))"
   ]
  },
  {
   "cell_type": "code",
   "execution_count": 32,
   "id": "04715fc7",
   "metadata": {},
   "outputs": [
    {
     "name": "stdout",
     "output_type": "stream",
     "text": [
      "<class 'pandas.core.frame.DataFrame'>\n",
      "RangeIndex: 641773 entries, 0 to 641772\n",
      "Data columns (total 9 columns):\n",
      " #   Column          Non-Null Count   Dtype   \n",
      "---  ------          --------------   -----   \n",
      " 0   city_id         641773 non-null  int64   \n",
      " 1   booker_country  641773 non-null  category\n",
      " 2   hotel_country   641773 non-null  category\n",
      " 3   utrip_id        641773 non-null  object  \n",
      " 4   checkin_month   641773 non-null  int64   \n",
      " 5   checkout_month  641773 non-null  int64   \n",
      " 6   checkin_day     641773 non-null  int64   \n",
      " 7   checkout_day    641773 non-null  int64   \n",
      " 8   trip_duration   641773 non-null  float64 \n",
      "dtypes: category(2), float64(1), int64(5), object(1)\n",
      "memory usage: 36.1+ MB\n"
     ]
    }
   ],
   "source": [
    "df.info()"
   ]
  },
  {
   "cell_type": "code",
   "execution_count": 20,
   "id": "ee82e443",
   "metadata": {},
   "outputs": [
    {
     "data": {
      "text/html": [
       "<div>\n",
       "<style scoped>\n",
       "    .dataframe tbody tr th:only-of-type {\n",
       "        vertical-align: middle;\n",
       "    }\n",
       "\n",
       "    .dataframe tbody tr th {\n",
       "        vertical-align: top;\n",
       "    }\n",
       "\n",
       "    .dataframe thead th {\n",
       "        text-align: right;\n",
       "    }\n",
       "</style>\n",
       "<table border=\"1\" class=\"dataframe\">\n",
       "  <thead>\n",
       "    <tr style=\"text-align: right;\">\n",
       "      <th></th>\n",
       "      <th>city_id</th>\n",
       "      <th>booker_country</th>\n",
       "      <th>hotel_country</th>\n",
       "      <th>utrip_id</th>\n",
       "      <th>checkin_month</th>\n",
       "      <th>checkout_month</th>\n",
       "      <th>checkin_day</th>\n",
       "      <th>checkout_day</th>\n",
       "      <th>trip_duration</th>\n",
       "    </tr>\n",
       "  </thead>\n",
       "  <tbody>\n",
       "    <tr>\n",
       "      <th>0</th>\n",
       "      <td>8183</td>\n",
       "      <td>2</td>\n",
       "      <td>60</td>\n",
       "      <td>1000027_1</td>\n",
       "      <td>8</td>\n",
       "      <td>8</td>\n",
       "      <td>5</td>\n",
       "      <td>6</td>\n",
       "      <td>8.0</td>\n",
       "    </tr>\n",
       "    <tr>\n",
       "      <th>1</th>\n",
       "      <td>15626</td>\n",
       "      <td>2</td>\n",
       "      <td>60</td>\n",
       "      <td>1000027_1</td>\n",
       "      <td>8</td>\n",
       "      <td>8</td>\n",
       "      <td>6</td>\n",
       "      <td>1</td>\n",
       "      <td>8.0</td>\n",
       "    </tr>\n",
       "    <tr>\n",
       "      <th>2</th>\n",
       "      <td>60902</td>\n",
       "      <td>2</td>\n",
       "      <td>60</td>\n",
       "      <td>1000027_1</td>\n",
       "      <td>8</td>\n",
       "      <td>8</td>\n",
       "      <td>1</td>\n",
       "      <td>3</td>\n",
       "      <td>8.0</td>\n",
       "    </tr>\n",
       "    <tr>\n",
       "      <th>3</th>\n",
       "      <td>30628</td>\n",
       "      <td>2</td>\n",
       "      <td>60</td>\n",
       "      <td>1000027_1</td>\n",
       "      <td>8</td>\n",
       "      <td>8</td>\n",
       "      <td>3</td>\n",
       "      <td>6</td>\n",
       "      <td>8.0</td>\n",
       "    </tr>\n",
       "    <tr>\n",
       "      <th>4</th>\n",
       "      <td>38677</td>\n",
       "      <td>3</td>\n",
       "      <td>36</td>\n",
       "      <td>1000033_1</td>\n",
       "      <td>4</td>\n",
       "      <td>4</td>\n",
       "      <td>5</td>\n",
       "      <td>0</td>\n",
       "      <td>10.0</td>\n",
       "    </tr>\n",
       "  </tbody>\n",
       "</table>\n",
       "</div>"
      ],
      "text/plain": [
       "   city_id booker_country hotel_country   utrip_id  checkin_month  \\\n",
       "0     8183              2            60  1000027_1              8   \n",
       "1    15626              2            60  1000027_1              8   \n",
       "2    60902              2            60  1000027_1              8   \n",
       "3    30628              2            60  1000027_1              8   \n",
       "4    38677              3            36  1000033_1              4   \n",
       "\n",
       "   checkout_month  checkin_day  checkout_day  trip_duration  \n",
       "0               8            5             6            8.0  \n",
       "1               8            6             1            8.0  \n",
       "2               8            1             3            8.0  \n",
       "3               8            3             6            8.0  \n",
       "4               4            5             0           10.0  "
      ]
     },
     "execution_count": 20,
     "metadata": {},
     "output_type": "execute_result"
    }
   ],
   "source": [
    "df.head()"
   ]
  },
  {
   "cell_type": "code",
   "execution_count": 8,
   "id": "50ddda34",
   "metadata": {},
   "outputs": [
    {
     "name": "stderr",
     "output_type": "stream",
     "text": [
      "<ipython-input-8-794511ca95cf>:1: FutureWarning: Indexing with multiple keys (implicitly converted to a tuple of keys) will be deprecated, use a list instead.\n",
      "  grouped1 = df.groupby('utrip_id')['city_id','checkin_month','checkin_day','checkout_day','hotel_country'].agg(list)\n"
     ]
    }
   ],
   "source": [
    "grouped1 = df.groupby('utrip_id')['city_id','checkin_month','checkin_day','checkout_day','hotel_country'].agg(list)"
   ]
  },
  {
   "cell_type": "code",
   "execution_count": 9,
   "id": "4b6b469b",
   "metadata": {},
   "outputs": [],
   "source": [
    "grouped2 = df.groupby('utrip_id').agg({'booker_country':'first','trip_duration':'mean'})"
   ]
  },
  {
   "cell_type": "code",
   "execution_count": 10,
   "id": "0a305812",
   "metadata": {},
   "outputs": [],
   "source": [
    "grouped_df=grouped1.merge(grouped2, on='utrip_id')"
   ]
  },
  {
   "cell_type": "code",
   "execution_count": 11,
   "id": "9dbd55d1",
   "metadata": {},
   "outputs": [],
   "source": [
    "grouped_df.reset_index(drop=True, inplace=True)"
   ]
  },
  {
   "cell_type": "code",
   "execution_count": 12,
   "id": "70435ef5",
   "metadata": {
    "scrolled": true
   },
   "outputs": [
    {
     "data": {
      "text/html": [
       "<div>\n",
       "<style scoped>\n",
       "    .dataframe tbody tr th:only-of-type {\n",
       "        vertical-align: middle;\n",
       "    }\n",
       "\n",
       "    .dataframe tbody tr th {\n",
       "        vertical-align: top;\n",
       "    }\n",
       "\n",
       "    .dataframe thead th {\n",
       "        text-align: right;\n",
       "    }\n",
       "</style>\n",
       "<table border=\"1\" class=\"dataframe\">\n",
       "  <thead>\n",
       "    <tr style=\"text-align: right;\">\n",
       "      <th></th>\n",
       "      <th>city_id</th>\n",
       "      <th>checkin_month</th>\n",
       "      <th>checkin_day</th>\n",
       "      <th>checkout_day</th>\n",
       "      <th>hotel_country</th>\n",
       "      <th>booker_country</th>\n",
       "      <th>trip_duration</th>\n",
       "    </tr>\n",
       "  </thead>\n",
       "  <tbody>\n",
       "    <tr>\n",
       "      <th>0</th>\n",
       "      <td>[8183, 15626, 60902, 30628]</td>\n",
       "      <td>[8, 8, 8, 8]</td>\n",
       "      <td>[5, 6, 1, 3]</td>\n",
       "      <td>[6, 1, 3, 6]</td>\n",
       "      <td>[60, 60, 60, 60]</td>\n",
       "      <td>2</td>\n",
       "      <td>8.0</td>\n",
       "    </tr>\n",
       "    <tr>\n",
       "      <th>1</th>\n",
       "      <td>[38677, 52089, 21328, 27485, 38677]</td>\n",
       "      <td>[4, 4, 4, 4, 4]</td>\n",
       "      <td>[5, 0, 1, 3, 5]</td>\n",
       "      <td>[0, 1, 3, 5, 1]</td>\n",
       "      <td>[36, 36, 36, 36, 36]</td>\n",
       "      <td>3</td>\n",
       "      <td>10.0</td>\n",
       "    </tr>\n",
       "    <tr>\n",
       "      <th>2</th>\n",
       "      <td>[55990, 14705, 35160, 36063]</td>\n",
       "      <td>[6, 6, 6, 6]</td>\n",
       "      <td>[0, 1, 2, 3]</td>\n",
       "      <td>[1, 2, 3, 5]</td>\n",
       "      <td>[120, 120, 120, 60]</td>\n",
       "      <td>5</td>\n",
       "      <td>5.0</td>\n",
       "    </tr>\n",
       "    <tr>\n",
       "      <th>3</th>\n",
       "      <td>[11306, 12096, 6761, 6779, 65690]</td>\n",
       "      <td>[7, 7, 7, 7, 7]</td>\n",
       "      <td>[0, 3, 4, 5, 0]</td>\n",
       "      <td>[3, 4, 5, 0, 2]</td>\n",
       "      <td>[77, 77, 77, 77, 77]</td>\n",
       "      <td>3</td>\n",
       "      <td>9.0</td>\n",
       "    </tr>\n",
       "    <tr>\n",
       "      <th>4</th>\n",
       "      <td>[62541, 42482, 20345, 33540, 32627]</td>\n",
       "      <td>[10, 10, 10, 10, 10]</td>\n",
       "      <td>[5, 6, 1, 2, 5]</td>\n",
       "      <td>[6, 1, 2, 5, 6]</td>\n",
       "      <td>[52, 52, 52, 52, 52]</td>\n",
       "      <td>2</td>\n",
       "      <td>15.0</td>\n",
       "    </tr>\n",
       "    <tr>\n",
       "      <th>...</th>\n",
       "      <td>...</td>\n",
       "      <td>...</td>\n",
       "      <td>...</td>\n",
       "      <td>...</td>\n",
       "      <td>...</td>\n",
       "      <td>...</td>\n",
       "      <td>...</td>\n",
       "    </tr>\n",
       "    <tr>\n",
       "      <th>148151</th>\n",
       "      <td>[4476, 1034, 64876, 9608]</td>\n",
       "      <td>[12, 12, 12, 12]</td>\n",
       "      <td>[1, 4, 3, 6]</td>\n",
       "      <td>[4, 5, 6, 2]</td>\n",
       "      <td>[60, 60, 52, 52]</td>\n",
       "      <td>5</td>\n",
       "      <td>15.0</td>\n",
       "    </tr>\n",
       "    <tr>\n",
       "      <th>148152</th>\n",
       "      <td>[17775, 66634, 17775, 17775]</td>\n",
       "      <td>[3, 3, 3, 3]</td>\n",
       "      <td>[3, 4, 5, 6]</td>\n",
       "      <td>[4, 5, 6, 0]</td>\n",
       "      <td>[116, 116, 116, 116]</td>\n",
       "      <td>3</td>\n",
       "      <td>4.0</td>\n",
       "    </tr>\n",
       "    <tr>\n",
       "      <th>148153</th>\n",
       "      <td>[8335, 21328, 8335, 48968]</td>\n",
       "      <td>[8, 8, 8, 8]</td>\n",
       "      <td>[4, 6, 0, 3]</td>\n",
       "      <td>[6, 0, 3, 5]</td>\n",
       "      <td>[36, 36, 36, 36]</td>\n",
       "      <td>5</td>\n",
       "      <td>8.0</td>\n",
       "    </tr>\n",
       "    <tr>\n",
       "      <th>148154</th>\n",
       "      <td>[51291, 66969, 67169, 24036]</td>\n",
       "      <td>[5, 5, 5, 5]</td>\n",
       "      <td>[4, 5, 6, 0]</td>\n",
       "      <td>[5, 6, 0, 1]</td>\n",
       "      <td>[59, 59, 59, 6]</td>\n",
       "      <td>3</td>\n",
       "      <td>4.0</td>\n",
       "    </tr>\n",
       "    <tr>\n",
       "      <th>148155</th>\n",
       "      <td>[17944, 47075, 228, 62930]</td>\n",
       "      <td>[6, 6, 6, 6]</td>\n",
       "      <td>[3, 4, 0, 2]</td>\n",
       "      <td>[4, 0, 2, 3]</td>\n",
       "      <td>[59, 59, 59, 59]</td>\n",
       "      <td>3</td>\n",
       "      <td>7.0</td>\n",
       "    </tr>\n",
       "  </tbody>\n",
       "</table>\n",
       "<p>148156 rows × 7 columns</p>\n",
       "</div>"
      ],
      "text/plain": [
       "                                    city_id         checkin_month  \\\n",
       "0               [8183, 15626, 60902, 30628]          [8, 8, 8, 8]   \n",
       "1       [38677, 52089, 21328, 27485, 38677]       [4, 4, 4, 4, 4]   \n",
       "2              [55990, 14705, 35160, 36063]          [6, 6, 6, 6]   \n",
       "3         [11306, 12096, 6761, 6779, 65690]       [7, 7, 7, 7, 7]   \n",
       "4       [62541, 42482, 20345, 33540, 32627]  [10, 10, 10, 10, 10]   \n",
       "...                                     ...                   ...   \n",
       "148151            [4476, 1034, 64876, 9608]      [12, 12, 12, 12]   \n",
       "148152         [17775, 66634, 17775, 17775]          [3, 3, 3, 3]   \n",
       "148153           [8335, 21328, 8335, 48968]          [8, 8, 8, 8]   \n",
       "148154         [51291, 66969, 67169, 24036]          [5, 5, 5, 5]   \n",
       "148155           [17944, 47075, 228, 62930]          [6, 6, 6, 6]   \n",
       "\n",
       "            checkin_day     checkout_day         hotel_country booker_country  \\\n",
       "0          [5, 6, 1, 3]     [6, 1, 3, 6]      [60, 60, 60, 60]              2   \n",
       "1       [5, 0, 1, 3, 5]  [0, 1, 3, 5, 1]  [36, 36, 36, 36, 36]              3   \n",
       "2          [0, 1, 2, 3]     [1, 2, 3, 5]   [120, 120, 120, 60]              5   \n",
       "3       [0, 3, 4, 5, 0]  [3, 4, 5, 0, 2]  [77, 77, 77, 77, 77]              3   \n",
       "4       [5, 6, 1, 2, 5]  [6, 1, 2, 5, 6]  [52, 52, 52, 52, 52]              2   \n",
       "...                 ...              ...                   ...            ...   \n",
       "148151     [1, 4, 3, 6]     [4, 5, 6, 2]      [60, 60, 52, 52]              5   \n",
       "148152     [3, 4, 5, 6]     [4, 5, 6, 0]  [116, 116, 116, 116]              3   \n",
       "148153     [4, 6, 0, 3]     [6, 0, 3, 5]      [36, 36, 36, 36]              5   \n",
       "148154     [4, 5, 6, 0]     [5, 6, 0, 1]       [59, 59, 59, 6]              3   \n",
       "148155     [3, 4, 0, 2]     [4, 0, 2, 3]      [59, 59, 59, 59]              3   \n",
       "\n",
       "        trip_duration  \n",
       "0                 8.0  \n",
       "1                10.0  \n",
       "2                 5.0  \n",
       "3                 9.0  \n",
       "4                15.0  \n",
       "...               ...  \n",
       "148151           15.0  \n",
       "148152            4.0  \n",
       "148153            8.0  \n",
       "148154            4.0  \n",
       "148155            7.0  \n",
       "\n",
       "[148156 rows x 7 columns]"
      ]
     },
     "execution_count": 12,
     "metadata": {},
     "output_type": "execute_result"
    }
   ],
   "source": [
    "grouped_df"
   ]
  },
  {
   "cell_type": "code",
   "execution_count": null,
   "id": "b0aca240",
   "metadata": {},
   "outputs": [],
   "source": []
  },
  {
   "cell_type": "code",
   "execution_count": null,
   "id": "bd9290b4",
   "metadata": {},
   "outputs": [],
   "source": []
  },
  {
   "cell_type": "code",
   "execution_count": null,
   "id": "c25f2c26",
   "metadata": {},
   "outputs": [],
   "source": []
  },
  {
   "cell_type": "code",
   "execution_count": null,
   "id": "853c6e3c",
   "metadata": {},
   "outputs": [],
   "source": []
  },
  {
   "cell_type": "code",
   "execution_count": null,
   "id": "202b23a9",
   "metadata": {},
   "outputs": [],
   "source": []
  },
  {
   "cell_type": "code",
   "execution_count": 16,
   "id": "2254fbf7",
   "metadata": {},
   "outputs": [],
   "source": [
    "import torch.nn as nn\n",
    "from torch.nn.utils.rnn import pad_sequence"
   ]
  },
  {
   "cell_type": "code",
   "execution_count": 17,
   "id": "616ee0cf",
   "metadata": {},
   "outputs": [],
   "source": [
    "# Preprocess the data to create input sequences and target labels\n",
    "sequences = []\n",
    "targets = []\n",
    "destination_count=[]\n",
    "for index, row in grouped_df.iterrows():\n",
    "    city_id_list = row['city_id']\n",
    "    destination_count.append(len(city_id_list))\n",
    "    sequences.append(city_id_list[:-1])\n",
    "    targets.append(city_id_list[-1])\n",
    "\n",
    "    \n",
    "max_sequence_length = max(destination_count)\n",
    "#print(max_sequence_length)\n",
    "# Pad the sequences with a padding token\n",
    "padding_token = 0\n",
    "\n",
    "\n",
    "grouped_df['city_id'] = [sequence + [padding_token] * (max_sequence_length - (len(sequence))) for sequence in sequences]\n",
    "grouped_df['target_city'] = targets\n",
    "grouped_df['destination_count']=destination_count"
   ]
  },
  {
   "cell_type": "code",
   "execution_count": 103,
   "id": "b71a3614",
   "metadata": {},
   "outputs": [],
   "source": [
    "columns_to_pad=['checkin_month','checkin_day','checkout_day','hotel_country']\n",
    "for col in columns_to_pad:\n",
    "    grouped_df[col] = grouped_df[col].apply(lambda x: x + [padding_token] * (max_sequence_length - len(x)))"
   ]
  },
  {
   "cell_type": "code",
   "execution_count": 104,
   "id": "20df989d",
   "metadata": {},
   "outputs": [
    {
     "data": {
      "text/html": [
       "<div>\n",
       "<style scoped>\n",
       "    .dataframe tbody tr th:only-of-type {\n",
       "        vertical-align: middle;\n",
       "    }\n",
       "\n",
       "    .dataframe tbody tr th {\n",
       "        vertical-align: top;\n",
       "    }\n",
       "\n",
       "    .dataframe thead th {\n",
       "        text-align: right;\n",
       "    }\n",
       "</style>\n",
       "<table border=\"1\" class=\"dataframe\">\n",
       "  <thead>\n",
       "    <tr style=\"text-align: right;\">\n",
       "      <th></th>\n",
       "      <th>city_id</th>\n",
       "      <th>checkin_month</th>\n",
       "      <th>checkin_day</th>\n",
       "      <th>checkout_day</th>\n",
       "      <th>hotel_country</th>\n",
       "      <th>booker_country</th>\n",
       "      <th>trip_duration</th>\n",
       "      <th>trip_duration_scaled</th>\n",
       "      <th>target_city</th>\n",
       "      <th>destination_count</th>\n",
       "    </tr>\n",
       "  </thead>\n",
       "  <tbody>\n",
       "    <tr>\n",
       "      <th>0</th>\n",
       "      <td>[8183, 15626, 60902, 0, 0]</td>\n",
       "      <td>[8, 8, 8, 8, 0]</td>\n",
       "      <td>[5, 6, 1, 3, 0]</td>\n",
       "      <td>[6, 1, 3, 6, 0]</td>\n",
       "      <td>[60, 60, 60, 60, 0]</td>\n",
       "      <td>2</td>\n",
       "      <td>8.0</td>\n",
       "      <td>0.042735</td>\n",
       "      <td>30628</td>\n",
       "      <td>4</td>\n",
       "    </tr>\n",
       "    <tr>\n",
       "      <th>1</th>\n",
       "      <td>[38677, 52089, 21328, 27485, 0]</td>\n",
       "      <td>[4, 4, 4, 4, 4]</td>\n",
       "      <td>[5, 0, 1, 3, 5]</td>\n",
       "      <td>[0, 1, 3, 5, 1]</td>\n",
       "      <td>[36, 36, 36, 36, 36]</td>\n",
       "      <td>3</td>\n",
       "      <td>10.0</td>\n",
       "      <td>0.059829</td>\n",
       "      <td>38677</td>\n",
       "      <td>5</td>\n",
       "    </tr>\n",
       "    <tr>\n",
       "      <th>2</th>\n",
       "      <td>[55990, 14705, 35160, 0, 0]</td>\n",
       "      <td>[6, 6, 6, 6, 0]</td>\n",
       "      <td>[0, 1, 2, 3, 0]</td>\n",
       "      <td>[1, 2, 3, 5, 0]</td>\n",
       "      <td>[120, 120, 120, 60, 0]</td>\n",
       "      <td>5</td>\n",
       "      <td>5.0</td>\n",
       "      <td>0.017094</td>\n",
       "      <td>36063</td>\n",
       "      <td>4</td>\n",
       "    </tr>\n",
       "    <tr>\n",
       "      <th>3</th>\n",
       "      <td>[11306, 12096, 6761, 6779, 0]</td>\n",
       "      <td>[7, 7, 7, 7, 7]</td>\n",
       "      <td>[0, 3, 4, 5, 0]</td>\n",
       "      <td>[3, 4, 5, 0, 2]</td>\n",
       "      <td>[77, 77, 77, 77, 77]</td>\n",
       "      <td>3</td>\n",
       "      <td>9.0</td>\n",
       "      <td>0.051282</td>\n",
       "      <td>65690</td>\n",
       "      <td>5</td>\n",
       "    </tr>\n",
       "    <tr>\n",
       "      <th>4</th>\n",
       "      <td>[62541, 42482, 20345, 33540, 0]</td>\n",
       "      <td>[10, 10, 10, 10, 10]</td>\n",
       "      <td>[5, 6, 1, 2, 5]</td>\n",
       "      <td>[6, 1, 2, 5, 6]</td>\n",
       "      <td>[52, 52, 52, 52, 52]</td>\n",
       "      <td>2</td>\n",
       "      <td>15.0</td>\n",
       "      <td>0.102564</td>\n",
       "      <td>32627</td>\n",
       "      <td>5</td>\n",
       "    </tr>\n",
       "    <tr>\n",
       "      <th>...</th>\n",
       "      <td>...</td>\n",
       "      <td>...</td>\n",
       "      <td>...</td>\n",
       "      <td>...</td>\n",
       "      <td>...</td>\n",
       "      <td>...</td>\n",
       "      <td>...</td>\n",
       "      <td>...</td>\n",
       "      <td>...</td>\n",
       "      <td>...</td>\n",
       "    </tr>\n",
       "    <tr>\n",
       "      <th>148151</th>\n",
       "      <td>[4476, 1034, 64876, 0, 0]</td>\n",
       "      <td>[12, 12, 12, 12, 0]</td>\n",
       "      <td>[1, 4, 3, 6, 0]</td>\n",
       "      <td>[4, 5, 6, 2, 0]</td>\n",
       "      <td>[60, 60, 52, 52, 0]</td>\n",
       "      <td>5</td>\n",
       "      <td>15.0</td>\n",
       "      <td>0.102564</td>\n",
       "      <td>9608</td>\n",
       "      <td>4</td>\n",
       "    </tr>\n",
       "    <tr>\n",
       "      <th>148152</th>\n",
       "      <td>[17775, 66634, 17775, 0, 0]</td>\n",
       "      <td>[3, 3, 3, 3, 0]</td>\n",
       "      <td>[3, 4, 5, 6, 0]</td>\n",
       "      <td>[4, 5, 6, 0, 0]</td>\n",
       "      <td>[116, 116, 116, 116, 0]</td>\n",
       "      <td>3</td>\n",
       "      <td>4.0</td>\n",
       "      <td>0.008547</td>\n",
       "      <td>17775</td>\n",
       "      <td>4</td>\n",
       "    </tr>\n",
       "    <tr>\n",
       "      <th>148153</th>\n",
       "      <td>[8335, 21328, 8335, 0, 0]</td>\n",
       "      <td>[8, 8, 8, 8, 0]</td>\n",
       "      <td>[4, 6, 0, 3, 0]</td>\n",
       "      <td>[6, 0, 3, 5, 0]</td>\n",
       "      <td>[36, 36, 36, 36, 0]</td>\n",
       "      <td>5</td>\n",
       "      <td>8.0</td>\n",
       "      <td>0.042735</td>\n",
       "      <td>48968</td>\n",
       "      <td>4</td>\n",
       "    </tr>\n",
       "    <tr>\n",
       "      <th>148154</th>\n",
       "      <td>[51291, 66969, 67169, 0, 0]</td>\n",
       "      <td>[5, 5, 5, 5, 0]</td>\n",
       "      <td>[4, 5, 6, 0, 0]</td>\n",
       "      <td>[5, 6, 0, 1, 0]</td>\n",
       "      <td>[59, 59, 59, 6, 0]</td>\n",
       "      <td>3</td>\n",
       "      <td>4.0</td>\n",
       "      <td>0.008547</td>\n",
       "      <td>24036</td>\n",
       "      <td>4</td>\n",
       "    </tr>\n",
       "    <tr>\n",
       "      <th>148155</th>\n",
       "      <td>[17944, 47075, 228, 0, 0]</td>\n",
       "      <td>[6, 6, 6, 6, 0]</td>\n",
       "      <td>[3, 4, 0, 2, 0]</td>\n",
       "      <td>[4, 0, 2, 3, 0]</td>\n",
       "      <td>[59, 59, 59, 59, 0]</td>\n",
       "      <td>3</td>\n",
       "      <td>7.0</td>\n",
       "      <td>0.034188</td>\n",
       "      <td>62930</td>\n",
       "      <td>4</td>\n",
       "    </tr>\n",
       "  </tbody>\n",
       "</table>\n",
       "<p>148156 rows × 10 columns</p>\n",
       "</div>"
      ],
      "text/plain": [
       "                                city_id         checkin_month  \\\n",
       "0            [8183, 15626, 60902, 0, 0]       [8, 8, 8, 8, 0]   \n",
       "1       [38677, 52089, 21328, 27485, 0]       [4, 4, 4, 4, 4]   \n",
       "2           [55990, 14705, 35160, 0, 0]       [6, 6, 6, 6, 0]   \n",
       "3         [11306, 12096, 6761, 6779, 0]       [7, 7, 7, 7, 7]   \n",
       "4       [62541, 42482, 20345, 33540, 0]  [10, 10, 10, 10, 10]   \n",
       "...                                 ...                   ...   \n",
       "148151        [4476, 1034, 64876, 0, 0]   [12, 12, 12, 12, 0]   \n",
       "148152      [17775, 66634, 17775, 0, 0]       [3, 3, 3, 3, 0]   \n",
       "148153        [8335, 21328, 8335, 0, 0]       [8, 8, 8, 8, 0]   \n",
       "148154      [51291, 66969, 67169, 0, 0]       [5, 5, 5, 5, 0]   \n",
       "148155        [17944, 47075, 228, 0, 0]       [6, 6, 6, 6, 0]   \n",
       "\n",
       "            checkin_day     checkout_day            hotel_country  \\\n",
       "0       [5, 6, 1, 3, 0]  [6, 1, 3, 6, 0]      [60, 60, 60, 60, 0]   \n",
       "1       [5, 0, 1, 3, 5]  [0, 1, 3, 5, 1]     [36, 36, 36, 36, 36]   \n",
       "2       [0, 1, 2, 3, 0]  [1, 2, 3, 5, 0]   [120, 120, 120, 60, 0]   \n",
       "3       [0, 3, 4, 5, 0]  [3, 4, 5, 0, 2]     [77, 77, 77, 77, 77]   \n",
       "4       [5, 6, 1, 2, 5]  [6, 1, 2, 5, 6]     [52, 52, 52, 52, 52]   \n",
       "...                 ...              ...                      ...   \n",
       "148151  [1, 4, 3, 6, 0]  [4, 5, 6, 2, 0]      [60, 60, 52, 52, 0]   \n",
       "148152  [3, 4, 5, 6, 0]  [4, 5, 6, 0, 0]  [116, 116, 116, 116, 0]   \n",
       "148153  [4, 6, 0, 3, 0]  [6, 0, 3, 5, 0]      [36, 36, 36, 36, 0]   \n",
       "148154  [4, 5, 6, 0, 0]  [5, 6, 0, 1, 0]       [59, 59, 59, 6, 0]   \n",
       "148155  [3, 4, 0, 2, 0]  [4, 0, 2, 3, 0]      [59, 59, 59, 59, 0]   \n",
       "\n",
       "       booker_country  trip_duration  trip_duration_scaled  target_city  \\\n",
       "0                   2            8.0              0.042735        30628   \n",
       "1                   3           10.0              0.059829        38677   \n",
       "2                   5            5.0              0.017094        36063   \n",
       "3                   3            9.0              0.051282        65690   \n",
       "4                   2           15.0              0.102564        32627   \n",
       "...               ...            ...                   ...          ...   \n",
       "148151              5           15.0              0.102564         9608   \n",
       "148152              3            4.0              0.008547        17775   \n",
       "148153              5            8.0              0.042735        48968   \n",
       "148154              3            4.0              0.008547        24036   \n",
       "148155              3            7.0              0.034188        62930   \n",
       "\n",
       "        destination_count  \n",
       "0                       4  \n",
       "1                       5  \n",
       "2                       4  \n",
       "3                       5  \n",
       "4                       5  \n",
       "...                   ...  \n",
       "148151                  4  \n",
       "148152                  4  \n",
       "148153                  4  \n",
       "148154                  4  \n",
       "148155                  4  \n",
       "\n",
       "[148156 rows x 10 columns]"
      ]
     },
     "execution_count": 104,
     "metadata": {},
     "output_type": "execute_result"
    }
   ],
   "source": [
    "grouped_df"
   ]
  },
  {
   "cell_type": "code",
   "execution_count": 13,
   "id": "35ae0e75",
   "metadata": {},
   "outputs": [],
   "source": [
    "from sklearn.preprocessing import MinMaxScaler"
   ]
  },
  {
   "cell_type": "code",
   "execution_count": 14,
   "id": "781c2cfa",
   "metadata": {},
   "outputs": [],
   "source": [
    "scale=MinMaxScaler()"
   ]
  },
  {
   "cell_type": "code",
   "execution_count": 15,
   "id": "8fa3e6d7",
   "metadata": {},
   "outputs": [],
   "source": [
    "grouped_df['trip_duration_scaled']=scale.fit_transform(grouped_df['trip_duration'].to_numpy().reshape(-1, 1))"
   ]
  },
  {
   "cell_type": "code",
   "execution_count": 18,
   "id": "ab9a6e82",
   "metadata": {},
   "outputs": [
    {
     "data": {
      "text/html": [
       "<div>\n",
       "<style scoped>\n",
       "    .dataframe tbody tr th:only-of-type {\n",
       "        vertical-align: middle;\n",
       "    }\n",
       "\n",
       "    .dataframe tbody tr th {\n",
       "        vertical-align: top;\n",
       "    }\n",
       "\n",
       "    .dataframe thead th {\n",
       "        text-align: right;\n",
       "    }\n",
       "</style>\n",
       "<table border=\"1\" class=\"dataframe\">\n",
       "  <thead>\n",
       "    <tr style=\"text-align: right;\">\n",
       "      <th></th>\n",
       "      <th>city_id</th>\n",
       "      <th>checkin_month</th>\n",
       "      <th>checkin_day</th>\n",
       "      <th>checkout_day</th>\n",
       "      <th>hotel_country</th>\n",
       "      <th>booker_country</th>\n",
       "      <th>trip_duration</th>\n",
       "      <th>trip_duration_scaled</th>\n",
       "      <th>target_city</th>\n",
       "      <th>destination_count</th>\n",
       "    </tr>\n",
       "  </thead>\n",
       "  <tbody>\n",
       "    <tr>\n",
       "      <th>0</th>\n",
       "      <td>[8183, 15626, 60902, 0, 0]</td>\n",
       "      <td>[8, 8, 8, 8]</td>\n",
       "      <td>[5, 6, 1, 3]</td>\n",
       "      <td>[6, 1, 3, 6]</td>\n",
       "      <td>[60, 60, 60, 60]</td>\n",
       "      <td>2</td>\n",
       "      <td>8.0</td>\n",
       "      <td>0.042735</td>\n",
       "      <td>30628</td>\n",
       "      <td>4</td>\n",
       "    </tr>\n",
       "    <tr>\n",
       "      <th>1</th>\n",
       "      <td>[38677, 52089, 21328, 27485, 0]</td>\n",
       "      <td>[4, 4, 4, 4, 4]</td>\n",
       "      <td>[5, 0, 1, 3, 5]</td>\n",
       "      <td>[0, 1, 3, 5, 1]</td>\n",
       "      <td>[36, 36, 36, 36, 36]</td>\n",
       "      <td>3</td>\n",
       "      <td>10.0</td>\n",
       "      <td>0.059829</td>\n",
       "      <td>38677</td>\n",
       "      <td>5</td>\n",
       "    </tr>\n",
       "    <tr>\n",
       "      <th>2</th>\n",
       "      <td>[55990, 14705, 35160, 0, 0]</td>\n",
       "      <td>[6, 6, 6, 6]</td>\n",
       "      <td>[0, 1, 2, 3]</td>\n",
       "      <td>[1, 2, 3, 5]</td>\n",
       "      <td>[120, 120, 120, 60]</td>\n",
       "      <td>5</td>\n",
       "      <td>5.0</td>\n",
       "      <td>0.017094</td>\n",
       "      <td>36063</td>\n",
       "      <td>4</td>\n",
       "    </tr>\n",
       "    <tr>\n",
       "      <th>3</th>\n",
       "      <td>[11306, 12096, 6761, 6779, 0]</td>\n",
       "      <td>[7, 7, 7, 7, 7]</td>\n",
       "      <td>[0, 3, 4, 5, 0]</td>\n",
       "      <td>[3, 4, 5, 0, 2]</td>\n",
       "      <td>[77, 77, 77, 77, 77]</td>\n",
       "      <td>3</td>\n",
       "      <td>9.0</td>\n",
       "      <td>0.051282</td>\n",
       "      <td>65690</td>\n",
       "      <td>5</td>\n",
       "    </tr>\n",
       "    <tr>\n",
       "      <th>4</th>\n",
       "      <td>[62541, 42482, 20345, 33540, 0]</td>\n",
       "      <td>[10, 10, 10, 10, 10]</td>\n",
       "      <td>[5, 6, 1, 2, 5]</td>\n",
       "      <td>[6, 1, 2, 5, 6]</td>\n",
       "      <td>[52, 52, 52, 52, 52]</td>\n",
       "      <td>2</td>\n",
       "      <td>15.0</td>\n",
       "      <td>0.102564</td>\n",
       "      <td>32627</td>\n",
       "      <td>5</td>\n",
       "    </tr>\n",
       "    <tr>\n",
       "      <th>...</th>\n",
       "      <td>...</td>\n",
       "      <td>...</td>\n",
       "      <td>...</td>\n",
       "      <td>...</td>\n",
       "      <td>...</td>\n",
       "      <td>...</td>\n",
       "      <td>...</td>\n",
       "      <td>...</td>\n",
       "      <td>...</td>\n",
       "      <td>...</td>\n",
       "    </tr>\n",
       "    <tr>\n",
       "      <th>148151</th>\n",
       "      <td>[4476, 1034, 64876, 0, 0]</td>\n",
       "      <td>[12, 12, 12, 12]</td>\n",
       "      <td>[1, 4, 3, 6]</td>\n",
       "      <td>[4, 5, 6, 2]</td>\n",
       "      <td>[60, 60, 52, 52]</td>\n",
       "      <td>5</td>\n",
       "      <td>15.0</td>\n",
       "      <td>0.102564</td>\n",
       "      <td>9608</td>\n",
       "      <td>4</td>\n",
       "    </tr>\n",
       "    <tr>\n",
       "      <th>148152</th>\n",
       "      <td>[17775, 66634, 17775, 0, 0]</td>\n",
       "      <td>[3, 3, 3, 3]</td>\n",
       "      <td>[3, 4, 5, 6]</td>\n",
       "      <td>[4, 5, 6, 0]</td>\n",
       "      <td>[116, 116, 116, 116]</td>\n",
       "      <td>3</td>\n",
       "      <td>4.0</td>\n",
       "      <td>0.008547</td>\n",
       "      <td>17775</td>\n",
       "      <td>4</td>\n",
       "    </tr>\n",
       "    <tr>\n",
       "      <th>148153</th>\n",
       "      <td>[8335, 21328, 8335, 0, 0]</td>\n",
       "      <td>[8, 8, 8, 8]</td>\n",
       "      <td>[4, 6, 0, 3]</td>\n",
       "      <td>[6, 0, 3, 5]</td>\n",
       "      <td>[36, 36, 36, 36]</td>\n",
       "      <td>5</td>\n",
       "      <td>8.0</td>\n",
       "      <td>0.042735</td>\n",
       "      <td>48968</td>\n",
       "      <td>4</td>\n",
       "    </tr>\n",
       "    <tr>\n",
       "      <th>148154</th>\n",
       "      <td>[51291, 66969, 67169, 0, 0]</td>\n",
       "      <td>[5, 5, 5, 5]</td>\n",
       "      <td>[4, 5, 6, 0]</td>\n",
       "      <td>[5, 6, 0, 1]</td>\n",
       "      <td>[59, 59, 59, 6]</td>\n",
       "      <td>3</td>\n",
       "      <td>4.0</td>\n",
       "      <td>0.008547</td>\n",
       "      <td>24036</td>\n",
       "      <td>4</td>\n",
       "    </tr>\n",
       "    <tr>\n",
       "      <th>148155</th>\n",
       "      <td>[17944, 47075, 228, 0, 0]</td>\n",
       "      <td>[6, 6, 6, 6]</td>\n",
       "      <td>[3, 4, 0, 2]</td>\n",
       "      <td>[4, 0, 2, 3]</td>\n",
       "      <td>[59, 59, 59, 59]</td>\n",
       "      <td>3</td>\n",
       "      <td>7.0</td>\n",
       "      <td>0.034188</td>\n",
       "      <td>62930</td>\n",
       "      <td>4</td>\n",
       "    </tr>\n",
       "  </tbody>\n",
       "</table>\n",
       "<p>148156 rows × 10 columns</p>\n",
       "</div>"
      ],
      "text/plain": [
       "                                city_id         checkin_month  \\\n",
       "0            [8183, 15626, 60902, 0, 0]          [8, 8, 8, 8]   \n",
       "1       [38677, 52089, 21328, 27485, 0]       [4, 4, 4, 4, 4]   \n",
       "2           [55990, 14705, 35160, 0, 0]          [6, 6, 6, 6]   \n",
       "3         [11306, 12096, 6761, 6779, 0]       [7, 7, 7, 7, 7]   \n",
       "4       [62541, 42482, 20345, 33540, 0]  [10, 10, 10, 10, 10]   \n",
       "...                                 ...                   ...   \n",
       "148151        [4476, 1034, 64876, 0, 0]      [12, 12, 12, 12]   \n",
       "148152      [17775, 66634, 17775, 0, 0]          [3, 3, 3, 3]   \n",
       "148153        [8335, 21328, 8335, 0, 0]          [8, 8, 8, 8]   \n",
       "148154      [51291, 66969, 67169, 0, 0]          [5, 5, 5, 5]   \n",
       "148155        [17944, 47075, 228, 0, 0]          [6, 6, 6, 6]   \n",
       "\n",
       "            checkin_day     checkout_day         hotel_country booker_country  \\\n",
       "0          [5, 6, 1, 3]     [6, 1, 3, 6]      [60, 60, 60, 60]              2   \n",
       "1       [5, 0, 1, 3, 5]  [0, 1, 3, 5, 1]  [36, 36, 36, 36, 36]              3   \n",
       "2          [0, 1, 2, 3]     [1, 2, 3, 5]   [120, 120, 120, 60]              5   \n",
       "3       [0, 3, 4, 5, 0]  [3, 4, 5, 0, 2]  [77, 77, 77, 77, 77]              3   \n",
       "4       [5, 6, 1, 2, 5]  [6, 1, 2, 5, 6]  [52, 52, 52, 52, 52]              2   \n",
       "...                 ...              ...                   ...            ...   \n",
       "148151     [1, 4, 3, 6]     [4, 5, 6, 2]      [60, 60, 52, 52]              5   \n",
       "148152     [3, 4, 5, 6]     [4, 5, 6, 0]  [116, 116, 116, 116]              3   \n",
       "148153     [4, 6, 0, 3]     [6, 0, 3, 5]      [36, 36, 36, 36]              5   \n",
       "148154     [4, 5, 6, 0]     [5, 6, 0, 1]       [59, 59, 59, 6]              3   \n",
       "148155     [3, 4, 0, 2]     [4, 0, 2, 3]      [59, 59, 59, 59]              3   \n",
       "\n",
       "        trip_duration  trip_duration_scaled  target_city  destination_count  \n",
       "0                 8.0              0.042735        30628                  4  \n",
       "1                10.0              0.059829        38677                  5  \n",
       "2                 5.0              0.017094        36063                  4  \n",
       "3                 9.0              0.051282        65690                  5  \n",
       "4                15.0              0.102564        32627                  5  \n",
       "...               ...                   ...          ...                ...  \n",
       "148151           15.0              0.102564         9608                  4  \n",
       "148152            4.0              0.008547        17775                  4  \n",
       "148153            8.0              0.042735        48968                  4  \n",
       "148154            4.0              0.008547        24036                  4  \n",
       "148155            7.0              0.034188        62930                  4  \n",
       "\n",
       "[148156 rows x 10 columns]"
      ]
     },
     "execution_count": 18,
     "metadata": {},
     "output_type": "execute_result"
    }
   ],
   "source": [
    "grouped_df"
   ]
  },
  {
   "cell_type": "code",
   "execution_count": 109,
   "id": "53233362",
   "metadata": {
    "scrolled": true
   },
   "outputs": [
    {
     "name": "stdout",
     "output_type": "stream",
     "text": [
      "<class 'pandas.core.frame.DataFrame'>\n",
      "RangeIndex: 148156 entries, 0 to 148155\n",
      "Data columns (total 10 columns):\n",
      " #   Column                Non-Null Count   Dtype   \n",
      "---  ------                --------------   -----   \n",
      " 0   city_id               148156 non-null  object  \n",
      " 1   checkin_month         148156 non-null  object  \n",
      " 2   checkin_day           148156 non-null  object  \n",
      " 3   checkout_day          148156 non-null  object  \n",
      " 4   hotel_country         148156 non-null  object  \n",
      " 5   booker_country        148156 non-null  category\n",
      " 6   trip_duration         148156 non-null  float64 \n",
      " 7   target_city           148156 non-null  int64   \n",
      " 8   destination_count     148156 non-null  int64   \n",
      " 9   trip_duration_scaled  148156 non-null  float64 \n",
      "dtypes: category(1), float64(2), int64(2), object(5)\n",
      "memory usage: 10.3+ MB\n"
     ]
    }
   ],
   "source": [
    "grouped_df.info()"
   ]
  },
  {
   "cell_type": "code",
   "execution_count": 149,
   "id": "d37b92ba",
   "metadata": {},
   "outputs": [],
   "source": [
    "grouped_df.to_csv('grouped.csv')"
   ]
  },
  {
   "cell_type": "code",
   "execution_count": 59,
   "id": "ab40c645",
   "metadata": {},
   "outputs": [],
   "source": [
    "import numpy as np"
   ]
  },
  {
   "cell_type": "code",
   "execution_count": 29,
   "id": "76b1f593",
   "metadata": {},
   "outputs": [],
   "source": [
    "# Split data into training and testing sets\n",
    "train_size = int(len(grouped_df) * 0.8)\n",
    "X_train, X_test = grouped_df[\"city_id\"][:train_size], grouped_df[\"city_id\"][train_size:]\n",
    "y_train, y_test = grouped_df[\"target_city\"][:train_size], grouped_df[\"target_city\"][train_size:]"
   ]
  },
  {
   "cell_type": "code",
   "execution_count": 30,
   "id": "e77a8c60",
   "metadata": {},
   "outputs": [],
   "source": [
    "# Convert X_train and X_test to numpy arrays\n",
    "X_train = np.array([np.array(l, dtype=int) for l in X_train])\n",
    "X_test = np.array([np.array(l, dtype=int) for l in X_test])"
   ]
  },
  {
   "cell_type": "code",
   "execution_count": 31,
   "id": "7476b10a",
   "metadata": {},
   "outputs": [
    {
     "data": {
      "text/plain": [
       "0         30628\n",
       "1         38677\n",
       "2         36063\n",
       "3         65690\n",
       "4         32627\n",
       "          ...  \n",
       "118519    47499\n",
       "118520    41858\n",
       "118521    16151\n",
       "118522    44529\n",
       "118523    31444\n",
       "Name: target_city, Length: 118524, dtype: int64"
      ]
     },
     "execution_count": 31,
     "metadata": {},
     "output_type": "execute_result"
    }
   ],
   "source": [
    "y_train"
   ]
  },
  {
   "cell_type": "code",
   "execution_count": 19,
   "id": "80e3aca7",
   "metadata": {},
   "outputs": [],
   "source": [
    "# Import itertools library\n",
    "import itertools\n"
   ]
  },
  {
   "cell_type": "code",
   "execution_count": 20,
   "id": "81edb3dc",
   "metadata": {},
   "outputs": [],
   "source": [
    "# Flatten city_id-list column and find unique values\n",
    "unique_city_ids = list(set(itertools.chain.from_iterable(grouped_df[\"city_id\"])))"
   ]
  },
  {
   "cell_type": "code",
   "execution_count": 125,
   "id": "045174b9",
   "metadata": {},
   "outputs": [],
   "source": [
    "\n",
    "\n",
    "\n",
    "# Define model\n",
    "model = tf.keras.Sequential()\n",
    "model.add(tf.keras.layers.Embedding(input_dim=len(unique_city_ids), output_dim=128, mask_zero=True))\n",
    "model.add(tf.keras.layers.LSTM(units=128, return_sequences=True))\n",
    "model.add(tf.keras.layers.LSTM(units=128, return_sequences=True))\n",
    "model.add(tf.keras.layers.LSTM(units=128))\n",
    "model.add(tf.keras.layers.Dense(units=8, activation=\"relu\"))\n",
    "\n",
    "optimizer = tf.keras.optimizers.Adam(learning_rate=0.00001)\n",
    "\n",
    "\n",
    "# Define learning rate schedule\n",
    "def lr_schedule(epoch):\n",
    "    if epoch < 10:\n",
    "        return 0.0001\n",
    "    elif epoch < 20:\n",
    "        return 0.00001\n",
    "    else:\n",
    "        return 0.000001\n",
    "\n",
    "lr_scheduler = tf.keras.callbacks.LearningRateScheduler(lr_schedule)\n",
    "\n",
    "\n",
    "# Compile model\n",
    "model.compile(loss=\"binary_crossentropy\", optimizer=optimizer, metrics=[\"accuracy\"])"
   ]
  },
  {
   "cell_type": "code",
   "execution_count": 82,
   "id": "74417d77",
   "metadata": {
    "scrolled": true
   },
   "outputs": [
    {
     "name": "stdout",
     "output_type": "stream",
     "text": [
      "Epoch 1/30\n",
      "463/463 [==============================] - 26s 36ms/step - loss: -113941.7812 - accuracy: 8.4371e-06 - val_loss: -504164.6562 - val_accuracy: 0.0000e+00 - lr: 1.0000e-04\n",
      "Epoch 2/30\n",
      "463/463 [==============================] - 9s 20ms/step - loss: -504379.6875 - accuracy: 0.0000e+00 - val_loss: -504187.6562 - val_accuracy: 0.0000e+00 - lr: 1.0000e-04\n",
      "Epoch 3/30\n",
      "463/463 [==============================] - 10s 21ms/step - loss: -504433.0000 - accuracy: 0.0000e+00 - val_loss: -504242.0312 - val_accuracy: 0.0000e+00 - lr: 1.0000e-04\n",
      "Epoch 4/30\n",
      "463/463 [==============================] - 9s 20ms/step - loss: -504523.2812 - accuracy: 0.0000e+00 - val_loss: -504316.8750 - val_accuracy: 0.0000e+00 - lr: 1.0000e-04\n",
      "Epoch 5/30\n",
      "463/463 [==============================] - 9s 20ms/step - loss: -504718.2188 - accuracy: 0.0000e+00 - val_loss: -504409.9062 - val_accuracy: 0.0000e+00 - lr: 1.0000e-04\n",
      "Epoch 6/30\n",
      "463/463 [==============================] - 10s 21ms/step - loss: -505050.8438 - accuracy: 0.0000e+00 - val_loss: -504544.4062 - val_accuracy: 0.0000e+00 - lr: 1.0000e-04\n",
      "Epoch 7/30\n",
      "463/463 [==============================] - 10s 21ms/step - loss: -505305.8438 - accuracy: 0.0000e+00 - val_loss: -504637.4688 - val_accuracy: 0.0000e+00 - lr: 1.0000e-04\n",
      "Epoch 8/30\n",
      "463/463 [==============================] - 9s 20ms/step - loss: -505393.7812 - accuracy: 0.0000e+00 - val_loss: -504717.0625 - val_accuracy: 0.0000e+00 - lr: 1.0000e-04\n",
      "Epoch 9/30\n",
      "463/463 [==============================] - 10s 21ms/step - loss: -505451.1562 - accuracy: 0.0000e+00 - val_loss: -504913.5312 - val_accuracy: 0.0000e+00 - lr: 1.0000e-04\n",
      "Epoch 10/30\n",
      "463/463 [==============================] - 10s 21ms/step - loss: -505742.4688 - accuracy: 0.0000e+00 - val_loss: -505821.4688 - val_accuracy: 0.0000e+00 - lr: 1.0000e-04\n",
      "Epoch 11/30\n",
      "463/463 [==============================] - 10s 22ms/step - loss: -506202.6250 - accuracy: 0.0000e+00 - val_loss: -505915.6250 - val_accuracy: 0.0000e+00 - lr: 1.0000e-05\n",
      "Epoch 12/30\n",
      "463/463 [==============================] - 10s 21ms/step - loss: -506241.2500 - accuracy: 0.0000e+00 - val_loss: -505941.8750 - val_accuracy: 0.0000e+00 - lr: 1.0000e-05\n",
      "Epoch 13/30\n",
      "463/463 [==============================] - 10s 21ms/step - loss: -506249.5938 - accuracy: 0.0000e+00 - val_loss: -505975.7500 - val_accuracy: 0.0000e+00 - lr: 1.0000e-05\n",
      "Epoch 14/30\n",
      "463/463 [==============================] - 10s 21ms/step - loss: -506375.8125 - accuracy: 0.0000e+00 - val_loss: -506202.7500 - val_accuracy: 0.0000e+00 - lr: 1.0000e-05\n",
      "Epoch 15/30\n",
      "463/463 [==============================] - 10s 21ms/step - loss: -506464.1562 - accuracy: 0.0000e+00 - val_loss: -506279.8750 - val_accuracy: 0.0000e+00 - lr: 1.0000e-05\n",
      "Epoch 16/30\n",
      "463/463 [==============================] - 10s 22ms/step - loss: -506512.0625 - accuracy: 0.0000e+00 - val_loss: -506279.8750 - val_accuracy: 0.0000e+00 - lr: 1.0000e-05\n",
      "Epoch 17/30\n",
      "463/463 [==============================] - 10s 21ms/step - loss: -506511.9375 - accuracy: 0.0000e+00 - val_loss: -506279.8750 - val_accuracy: 0.0000e+00 - lr: 1.0000e-05\n",
      "Epoch 18/30\n",
      "463/463 [==============================] - 10s 21ms/step - loss: -506512.4688 - accuracy: 0.0000e+00 - val_loss: -506279.8750 - val_accuracy: 0.0000e+00 - lr: 1.0000e-05\n",
      "Epoch 19/30\n",
      "463/463 [==============================] - 10s 22ms/step - loss: -506512.1562 - accuracy: 0.0000e+00 - val_loss: -506279.8750 - val_accuracy: 0.0000e+00 - lr: 1.0000e-05\n",
      "Epoch 20/30\n",
      "463/463 [==============================] - 10s 21ms/step - loss: -506512.1562 - accuracy: 0.0000e+00 - val_loss: -506279.8750 - val_accuracy: 0.0000e+00 - lr: 1.0000e-05\n",
      "Epoch 21/30\n",
      "463/463 [==============================] - 10s 21ms/step - loss: -506512.4062 - accuracy: 0.0000e+00 - val_loss: -506279.8750 - val_accuracy: 0.0000e+00 - lr: 1.0000e-05\n",
      "Epoch 22/30\n",
      "463/463 [==============================] - 10s 21ms/step - loss: -506512.3750 - accuracy: 0.0000e+00 - val_loss: -506279.8750 - val_accuracy: 0.0000e+00 - lr: 1.0000e-05\n",
      "Epoch 23/30\n",
      "463/463 [==============================] - 10s 22ms/step - loss: -506512.4375 - accuracy: 0.0000e+00 - val_loss: -506279.8750 - val_accuracy: 0.0000e+00 - lr: 1.0000e-05\n",
      "Epoch 24/30\n",
      "463/463 [==============================] - 10s 22ms/step - loss: -506512.0312 - accuracy: 0.0000e+00 - val_loss: -506279.8750 - val_accuracy: 0.0000e+00 - lr: 1.0000e-05\n",
      "Epoch 25/30\n",
      "463/463 [==============================] - 10s 21ms/step - loss: -506512.3750 - accuracy: 0.0000e+00 - val_loss: -506279.8750 - val_accuracy: 0.0000e+00 - lr: 1.0000e-05\n",
      "Epoch 26/30\n",
      "463/463 [==============================] - 10s 21ms/step - loss: -506512.3125 - accuracy: 0.0000e+00 - val_loss: -506279.8750 - val_accuracy: 0.0000e+00 - lr: 1.0000e-05\n",
      "Epoch 27/30\n",
      "463/463 [==============================] - 10s 21ms/step - loss: -506512.3438 - accuracy: 0.0000e+00 - val_loss: -506279.8750 - val_accuracy: 0.0000e+00 - lr: 1.0000e-05\n",
      "Epoch 28/30\n",
      "463/463 [==============================] - 10s 21ms/step - loss: -506512.4062 - accuracy: 0.0000e+00 - val_loss: -506279.8750 - val_accuracy: 0.0000e+00 - lr: 1.0000e-05\n",
      "Epoch 29/30\n",
      "463/463 [==============================] - 10s 21ms/step - loss: -506512.2500 - accuracy: 0.0000e+00 - val_loss: -506279.8750 - val_accuracy: 0.0000e+00 - lr: 1.0000e-05\n",
      "Epoch 30/30\n",
      "463/463 [==============================] - 10s 21ms/step - loss: -506512.6250 - accuracy: 0.0000e+00 - val_loss: -506279.8750 - val_accuracy: 0.0000e+00 - lr: 1.0000e-05\n"
     ]
    }
   ],
   "source": [
    "# Train model\n",
    "history = model.fit(X_train, y_train, epochs=30, batch_size=256, validation_data=(X_test, y_test), callbacks=[lr_scheduler])"
   ]
  },
  {
   "cell_type": "code",
   "execution_count": 83,
   "id": "643568cb",
   "metadata": {},
   "outputs": [
    {
     "data": {
      "image/png": "[encoded data removed]",
      "text/plain": [
       "<Figure size 432x288 with 1 Axes>"
      ]
     },
     "metadata": {
      "needs_background": "light"
     },
     "output_type": "display_data"
    }
   ],
   "source": [
    "\n",
    "# Plot training and validation accuracy\n",
    "plt.plot(history.history[\"accuracy\"])\n",
    "plt.plot(history.history[\"val_accuracy\"])\n",
    "plt.title(\"Model Accuracy\")\n",
    "plt.xlabel(\"Epoch\")\n",
    "plt.ylabel(\"Accuracy\")\n",
    "plt.legend([\"Training Accuracy\", \"Validation Accuracy\"], loc=\"upper left\")\n",
    "plt.show()"
   ]
  },
  {
   "cell_type": "code",
   "execution_count": 84,
   "id": "952e2b4c",
   "metadata": {},
   "outputs": [
    {
     "data": {
      "image/png": "[encoded data removed]",
      "text/plain": [
       "<Figure size 432x288 with 1 Axes>"
      ]
     },
     "metadata": {
      "needs_background": "light"
     },
     "output_type": "display_data"
    }
   ],
   "source": [
    "# Get the training and validation loss values\n",
    "train_loss = history.history[\"loss\"]\n",
    "valid_loss = history.history[\"val_loss\"]\n",
    "\n",
    "# Plot the training and validation loss\n",
    "plt.plot(train_loss, label=\"Training Loss\")\n",
    "plt.plot(valid_loss, label=\"Validation Loss\")\n",
    "plt.title(\"Model Loss\")\n",
    "plt.xlabel(\"Epoch\")\n",
    "plt.ylabel(\"Loss\")\n",
    "plt.legend()\n",
    "plt.show()"
   ]
  },
  {
   "cell_type": "code",
   "execution_count": 85,
   "id": "b8256f38",
   "metadata": {},
   "outputs": [],
   "source": [
    "def accuracy_at_k(model, X, y, k):\n",
    "    # Predict top k items\n",
    "    y_pred = model.predict(X).argsort(axis=1)[:, -k:]\n",
    "    y=y.to_numpy()\n",
    "    # Calculate accuracy\n",
    "    accuracy = 0\n",
    "    for i in range(len(y_pred)):\n",
    "        if y[i] in y_pred[i]:\n",
    "            accuracy += 1\n",
    "    accuracy /= len(y_pred)\n",
    "\n",
    "    return accuracy"
   ]
  },
  {
   "cell_type": "code",
   "execution_count": 86,
   "id": "49db7b89",
   "metadata": {},
   "outputs": [
    {
     "name": "stdout",
     "output_type": "stream",
     "text": [
      "926/926 [==============================] - 10s 6ms/step\n"
     ]
    }
   ],
   "source": [
    "accat4 = accuracy_at_k(model, X_test, y_test, 4)"
   ]
  },
  {
   "cell_type": "code",
   "execution_count": 89,
   "id": "0bf8eafa",
   "metadata": {},
   "outputs": [
    {
     "data": {
      "text/plain": [
       "3.3747300215982723e-05"
      ]
     },
     "execution_count": 89,
     "metadata": {},
     "output_type": "execute_result"
    }
   ],
   "source": [
    "accat4"
   ]
  },
  {
   "cell_type": "code",
   "execution_count": null,
   "id": "68b1db1b",
   "metadata": {},
   "outputs": [],
   "source": []
  },
  {
   "cell_type": "code",
   "execution_count": 92,
   "id": "307341b0",
   "metadata": {},
   "outputs": [],
   "source": [
    "from pytorch_tabnet.tab_model import TabNetClassifier\n",
    "from pytorch_tabnet.pretraining import TabNetPretrainer\n",
    "import torch\n",
    "from sklearn.preprocessing import LabelEncoder\n",
    "from sklearn.metrics import roc_auc_score\n",
    "\n",
    "import pandas as pd\n",
    "import numpy as np\n",
    "np.random.seed(0)"
   ]
  },
  {
   "cell_type": "code",
   "execution_count": 95,
   "id": "29fac6d3",
   "metadata": {},
   "outputs": [],
   "source": [
    "RUN_TABNET = True\n",
    "max_epochs = 30"
   ]
  },
  {
   "cell_type": "code",
   "execution_count": 98,
   "id": "9bb6d582",
   "metadata": {},
   "outputs": [
    {
     "name": "stderr",
     "output_type": "stream",
     "text": [
      "C:\\ProgramData\\Anaconda3\\lib\\site-packages\\pytorch_tabnet\\abstract_model.py:75: UserWarning: Device used : cpu\n",
      "  warnings.warn(f\"Device used : {self.device}\")\n",
      "C:\\ProgramData\\Anaconda3\\lib\\site-packages\\pytorch_tabnet\\abstract_model.py:651: UserWarning: No early stopping will be performed, last training weights will be used.\n",
      "  warnings.warn(wrn_msg)\n"
     ]
    },
    {
     "name": "stdout",
     "output_type": "stream",
     "text": [
      "epoch 0  | loss: 2.33081 |  0:00:16s\n",
      "epoch 1  | loss: 2.16724 |  0:00:32s\n",
      "epoch 2  | loss: 1.65002 |  0:00:49s\n",
      "epoch 3  | loss: 1.31639 |  0:01:06s\n",
      "epoch 4  | loss: 1.1382  |  0:01:22s\n",
      "epoch 5  | loss: 1.02096 |  0:01:40s\n"
     ]
    }
   ],
   "source": [
    "if RUN_TABNET:\n",
    "    # TabNetPretrainer\n",
    "    unsupervised_model = TabNetPretrainer(    \n",
    "        n_d=32, n_a=32, n_steps=4,\n",
    "        #cat_idxs=cat_idxs,\n",
    "       #cat_dims=12,\n",
    "       cat_emb_dim=12,\n",
    "        optimizer_fn=torch.optim.Adam,\n",
    "        optimizer_params=dict(lr=2e-2),\n",
    "        mask_type='entmax', # \"sparsemax\"\n",
    "        device_name=\"auto\" #\"auto\" \"cpu\" \n",
    "    )\n",
    "\n",
    "    unsupervised_model.fit(\n",
    "        X_train=X_train,\n",
    "#         eval_set=[X_test.values],\n",
    "        pretraining_ratio=0.35,\n",
    "         max_epochs=6,\n",
    "        batch_size = 512 ,# 1024 default , ~256-512 with GPU\n",
    "    )\n",
    "    \n",
    "    ## save unsup model\n",
    "    ### https://github.com/dreamquark-ai/tabnet/blob/develop/pretraining_example.ipynb\n",
    "#     unsupervised_model.save_model('./.4_pretrain')"
   ]
  },
  {
   "cell_type": "code",
   "execution_count": 99,
   "id": "796cef3a",
   "metadata": {},
   "outputs": [],
   "source": [
    "from __future__ import print_function, absolute_import\n",
    "\n",
    "from pytorch_tabnet.metrics import Metric\n",
    "# from sklearn.metrics import top_k_accuracy_score\n",
    "\n",
    "\n",
    "__all__ = ['accuracy']\n",
    "\n",
    "def accuracy_k(output, target, topk=(4,)): # (1,))\n",
    "    \"\"\"Computes the precision@k for the specified values of k\"\"\"\n",
    "    maxk = max(topk)\n",
    "    batch_size = target.size(0)\n",
    "\n",
    "    _, pred = output.topk(maxk, 1, True, True)\n",
    "    pred = pred.t()\n",
    "    correct = pred.eq(target.view(1, -1).expand_as(pred))\n",
    "\n",
    "    res = []\n",
    "    for k in topk:\n",
    "        correct_k = correct[:k].view(-1).float().sum(0)\n",
    "        res.append(correct_k.mul_(100.0 / batch_size))\n",
    "    return res"
   ]
  },
  {
   "cell_type": "code",
   "execution_count": 108,
   "id": "099bb243",
   "metadata": {
    "scrolled": true
   },
   "outputs": [
    {
     "name": "stderr",
     "output_type": "stream",
     "text": [
      "C:\\ProgramData\\Anaconda3\\lib\\site-packages\\pytorch_tabnet\\abstract_model.py:75: UserWarning: Device used : cpu\n",
      "  warnings.warn(f\"Device used : {self.device}\")\n",
      "C:\\ProgramData\\Anaconda3\\lib\\site-packages\\pytorch_tabnet\\abstract_model.py:105: UserWarning: Pretraining: mask_type changed from sparsemax to entmax\n",
      "  warnings.warn(wrn_msg)\n",
      "C:\\ProgramData\\Anaconda3\\lib\\site-packages\\pytorch_tabnet\\abstract_model.py:231: UserWarning: Loading weights from unsupervised pretraining\n",
      "  warnings.warn(\"Loading weights from unsupervised pretraining\")\n"
     ]
    },
    {
     "ename": "MemoryError",
     "evalue": "Unable to allocate 6.45 GiB for an array with shape (118524, 14600) and data type float32",
     "output_type": "error",
     "traceback": [
      "\u001b[1;31m---------------------------------------------------------------------------\u001b[0m",
      "\u001b[1;31mMemoryError\u001b[0m                               Traceback (most recent call last)",
      "\u001b[1;32m<ipython-input-108-a2f3da3af1b4>\u001b[0m in \u001b[0;36m<module>\u001b[1;34m\u001b[0m\n\u001b[0;32m     14\u001b[0m     )\n\u001b[0;32m     15\u001b[0m \u001b[1;33m\u001b[0m\u001b[0m\n\u001b[1;32m---> 16\u001b[1;33m     clf.fit(\n\u001b[0m\u001b[0;32m     17\u001b[0m         \u001b[0mX_train\u001b[0m\u001b[1;33m=\u001b[0m\u001b[0mX_train\u001b[0m\u001b[1;33m,\u001b[0m \u001b[0my_train\u001b[0m\u001b[1;33m=\u001b[0m\u001b[0my_train\u001b[0m\u001b[1;33m,\u001b[0m\u001b[1;33m\u001b[0m\u001b[1;33m\u001b[0m\u001b[0m\n\u001b[0;32m     18\u001b[0m         \u001b[0meval_set\u001b[0m\u001b[1;33m=\u001b[0m\u001b[1;33m[\u001b[0m\u001b[1;33m(\u001b[0m\u001b[0mX_train\u001b[0m\u001b[1;33m,\u001b[0m \u001b[0my_train\u001b[0m\u001b[1;33m)\u001b[0m\u001b[1;33m]\u001b[0m\u001b[1;33m,\u001b[0m\u001b[1;31m#(X_test, y_test)],\u001b[0m\u001b[1;33m\u001b[0m\u001b[1;33m\u001b[0m\u001b[0m\n",
      "\u001b[1;32mC:\\ProgramData\\Anaconda3\\lib\\site-packages\\pytorch_tabnet\\abstract_model.py\u001b[0m in \u001b[0;36mfit\u001b[1;34m(self, X_train, y_train, eval_set, eval_name, eval_metric, loss_fn, weights, max_epochs, patience, batch_size, virtual_batch_size, num_workers, drop_last, callbacks, pin_memory, from_unsupervised, warm_start, augmentations)\u001b[0m\n\u001b[0;32m    243\u001b[0m             \u001b[1;31m# Apply predict epoch to all eval sets\u001b[0m\u001b[1;33m\u001b[0m\u001b[1;33m\u001b[0m\u001b[1;33m\u001b[0m\u001b[0m\n\u001b[0;32m    244\u001b[0m             \u001b[1;32mfor\u001b[0m \u001b[0meval_name\u001b[0m\u001b[1;33m,\u001b[0m \u001b[0mvalid_dataloader\u001b[0m \u001b[1;32min\u001b[0m \u001b[0mzip\u001b[0m\u001b[1;33m(\u001b[0m\u001b[0meval_names\u001b[0m\u001b[1;33m,\u001b[0m \u001b[0mvalid_dataloaders\u001b[0m\u001b[1;33m)\u001b[0m\u001b[1;33m:\u001b[0m\u001b[1;33m\u001b[0m\u001b[1;33m\u001b[0m\u001b[0m\n\u001b[1;32m--> 245\u001b[1;33m                 \u001b[0mself\u001b[0m\u001b[1;33m.\u001b[0m\u001b[0m_predict_epoch\u001b[0m\u001b[1;33m(\u001b[0m\u001b[0meval_name\u001b[0m\u001b[1;33m,\u001b[0m \u001b[0mvalid_dataloader\u001b[0m\u001b[1;33m)\u001b[0m\u001b[1;33m\u001b[0m\u001b[1;33m\u001b[0m\u001b[0m\n\u001b[0m\u001b[0;32m    246\u001b[0m \u001b[1;33m\u001b[0m\u001b[0m\n\u001b[0;32m    247\u001b[0m             \u001b[1;31m# Call method on_epoch_end for all callbacks\u001b[0m\u001b[1;33m\u001b[0m\u001b[1;33m\u001b[0m\u001b[1;33m\u001b[0m\u001b[0m\n",
      "\u001b[1;32mC:\\ProgramData\\Anaconda3\\lib\\site-packages\\pytorch_tabnet\\abstract_model.py\u001b[0m in \u001b[0;36m_predict_epoch\u001b[1;34m(self, name, loader)\u001b[0m\n\u001b[0;32m    532\u001b[0m             \u001b[0mlist_y_score\u001b[0m\u001b[1;33m.\u001b[0m\u001b[0mappend\u001b[0m\u001b[1;33m(\u001b[0m\u001b[0mscores\u001b[0m\u001b[1;33m)\u001b[0m\u001b[1;33m\u001b[0m\u001b[1;33m\u001b[0m\u001b[0m\n\u001b[0;32m    533\u001b[0m \u001b[1;33m\u001b[0m\u001b[0m\n\u001b[1;32m--> 534\u001b[1;33m         \u001b[0my_true\u001b[0m\u001b[1;33m,\u001b[0m \u001b[0mscores\u001b[0m \u001b[1;33m=\u001b[0m \u001b[0mself\u001b[0m\u001b[1;33m.\u001b[0m\u001b[0mstack_batches\u001b[0m\u001b[1;33m(\u001b[0m\u001b[0mlist_y_true\u001b[0m\u001b[1;33m,\u001b[0m \u001b[0mlist_y_score\u001b[0m\u001b[1;33m)\u001b[0m\u001b[1;33m\u001b[0m\u001b[1;33m\u001b[0m\u001b[0m\n\u001b[0m\u001b[0;32m    535\u001b[0m \u001b[1;33m\u001b[0m\u001b[0m\n\u001b[0;32m    536\u001b[0m         \u001b[0mmetrics_logs\u001b[0m \u001b[1;33m=\u001b[0m \u001b[0mself\u001b[0m\u001b[1;33m.\u001b[0m\u001b[0m_metric_container_dict\u001b[0m\u001b[1;33m[\u001b[0m\u001b[0mname\u001b[0m\u001b[1;33m]\u001b[0m\u001b[1;33m(\u001b[0m\u001b[0my_true\u001b[0m\u001b[1;33m,\u001b[0m \u001b[0mscores\u001b[0m\u001b[1;33m)\u001b[0m\u001b[1;33m\u001b[0m\u001b[1;33m\u001b[0m\u001b[0m\n",
      "\u001b[1;32mC:\\ProgramData\\Anaconda3\\lib\\site-packages\\pytorch_tabnet\\tab_model.py\u001b[0m in \u001b[0;36mstack_batches\u001b[1;34m(self, list_y_true, list_y_score)\u001b[0m\n\u001b[0;32m     67\u001b[0m         \u001b[0my_true\u001b[0m \u001b[1;33m=\u001b[0m \u001b[0mnp\u001b[0m\u001b[1;33m.\u001b[0m\u001b[0mhstack\u001b[0m\u001b[1;33m(\u001b[0m\u001b[0mlist_y_true\u001b[0m\u001b[1;33m)\u001b[0m\u001b[1;33m\u001b[0m\u001b[1;33m\u001b[0m\u001b[0m\n\u001b[0;32m     68\u001b[0m         \u001b[0my_score\u001b[0m \u001b[1;33m=\u001b[0m \u001b[0mnp\u001b[0m\u001b[1;33m.\u001b[0m\u001b[0mvstack\u001b[0m\u001b[1;33m(\u001b[0m\u001b[0mlist_y_score\u001b[0m\u001b[1;33m)\u001b[0m\u001b[1;33m\u001b[0m\u001b[1;33m\u001b[0m\u001b[0m\n\u001b[1;32m---> 69\u001b[1;33m         \u001b[0my_score\u001b[0m \u001b[1;33m=\u001b[0m \u001b[0msoftmax\u001b[0m\u001b[1;33m(\u001b[0m\u001b[0my_score\u001b[0m\u001b[1;33m,\u001b[0m \u001b[0maxis\u001b[0m\u001b[1;33m=\u001b[0m\u001b[1;36m1\u001b[0m\u001b[1;33m)\u001b[0m\u001b[1;33m\u001b[0m\u001b[1;33m\u001b[0m\u001b[0m\n\u001b[0m\u001b[0;32m     70\u001b[0m         \u001b[1;32mreturn\u001b[0m \u001b[0my_true\u001b[0m\u001b[1;33m,\u001b[0m \u001b[0my_score\u001b[0m\u001b[1;33m\u001b[0m\u001b[1;33m\u001b[0m\u001b[0m\n\u001b[0;32m     71\u001b[0m \u001b[1;33m\u001b[0m\u001b[0m\n",
      "\u001b[1;32m~\\AppData\\Roaming\\Python\\Python38\\site-packages\\scipy\\special\\_logsumexp.py\u001b[0m in \u001b[0;36msoftmax\u001b[1;34m(x, axis)\u001b[0m\n\u001b[0;32m    212\u001b[0m \u001b[1;33m\u001b[0m\u001b[0m\n\u001b[0;32m    213\u001b[0m     \u001b[1;31m# compute in log space for numerical stability\u001b[0m\u001b[1;33m\u001b[0m\u001b[1;33m\u001b[0m\u001b[1;33m\u001b[0m\u001b[0m\n\u001b[1;32m--> 214\u001b[1;33m     \u001b[1;32mreturn\u001b[0m \u001b[0mnp\u001b[0m\u001b[1;33m.\u001b[0m\u001b[0mexp\u001b[0m\u001b[1;33m(\u001b[0m\u001b[0mx\u001b[0m \u001b[1;33m-\u001b[0m \u001b[0mlogsumexp\u001b[0m\u001b[1;33m(\u001b[0m\u001b[0mx\u001b[0m\u001b[1;33m,\u001b[0m \u001b[0maxis\u001b[0m\u001b[1;33m=\u001b[0m\u001b[0maxis\u001b[0m\u001b[1;33m,\u001b[0m \u001b[0mkeepdims\u001b[0m\u001b[1;33m=\u001b[0m\u001b[1;32mTrue\u001b[0m\u001b[1;33m)\u001b[0m\u001b[1;33m)\u001b[0m\u001b[1;33m\u001b[0m\u001b[1;33m\u001b[0m\u001b[0m\n\u001b[0m\u001b[0;32m    215\u001b[0m \u001b[1;33m\u001b[0m\u001b[0m\n\u001b[0;32m    216\u001b[0m \u001b[1;33m\u001b[0m\u001b[0m\n",
      "\u001b[1;32m~\\AppData\\Roaming\\Python\\Python38\\site-packages\\scipy\\special\\_logsumexp.py\u001b[0m in \u001b[0;36mlogsumexp\u001b[1;34m(a, axis, b, keepdims, return_sign)\u001b[0m\n\u001b[0;32m    108\u001b[0m         \u001b[0mtmp\u001b[0m \u001b[1;33m=\u001b[0m \u001b[0mb\u001b[0m \u001b[1;33m*\u001b[0m \u001b[0mnp\u001b[0m\u001b[1;33m.\u001b[0m\u001b[0mexp\u001b[0m\u001b[1;33m(\u001b[0m\u001b[0ma\u001b[0m \u001b[1;33m-\u001b[0m \u001b[0ma_max\u001b[0m\u001b[1;33m)\u001b[0m\u001b[1;33m\u001b[0m\u001b[1;33m\u001b[0m\u001b[0m\n\u001b[0;32m    109\u001b[0m     \u001b[1;32melse\u001b[0m\u001b[1;33m:\u001b[0m\u001b[1;33m\u001b[0m\u001b[1;33m\u001b[0m\u001b[0m\n\u001b[1;32m--> 110\u001b[1;33m         \u001b[0mtmp\u001b[0m \u001b[1;33m=\u001b[0m \u001b[0mnp\u001b[0m\u001b[1;33m.\u001b[0m\u001b[0mexp\u001b[0m\u001b[1;33m(\u001b[0m\u001b[0ma\u001b[0m \u001b[1;33m-\u001b[0m \u001b[0ma_max\u001b[0m\u001b[1;33m)\u001b[0m\u001b[1;33m\u001b[0m\u001b[1;33m\u001b[0m\u001b[0m\n\u001b[0m\u001b[0;32m    111\u001b[0m \u001b[1;33m\u001b[0m\u001b[0m\n\u001b[0;32m    112\u001b[0m     \u001b[1;31m# suppress warnings about log of zero\u001b[0m\u001b[1;33m\u001b[0m\u001b[1;33m\u001b[0m\u001b[1;33m\u001b[0m\u001b[0m\n",
      "\u001b[1;31mMemoryError\u001b[0m: Unable to allocate 6.45 GiB for an array with shape (118524, 14600) and data type float32"
     ]
    }
   ],
   "source": [
    "if RUN_TABNET:\n",
    "    clf = TabNetClassifier(    \n",
    "        n_d=32, n_a=32, n_steps=4,\n",
    "        #cat_idxs=cat_idxs,\n",
    "       #cat_dims=categorical_dims,\n",
    "       cat_emb_dim=12,   \n",
    "       optimizer_fn=torch.optim.Adam,\n",
    "       optimizer_params=dict(lr=2e-2),\n",
    "       scheduler_params={\"step_size\":50, # how to use learning rate scheduler\n",
    "                         \"gamma\":0.9},\n",
    "       scheduler_fn=torch.optim.lr_scheduler.StepLR,\n",
    "#        mask_type='entmax', # \"sparsemax\"\n",
    "        device_name=\"auto\" #\"auto\" \"cpu\"\n",
    "    )\n",
    "\n",
    "    clf.fit(\n",
    "        X_train=X_train, y_train=y_train,\n",
    "        eval_set=[(X_train, y_train)],#(X_test, y_test)],\n",
    "    #      eval_set=[(X_test.values, y_test.values)],\n",
    "        eval_name=['train'],\n",
    "        eval_metric=['accuracy'], # 'accuracy',\n",
    "         max_epochs=max_epochs, \n",
    "        batch_size = 1024 ,# 1024 default , ~256-512 with GPU\n",
    "        from_unsupervised=unsupervised_model,    \n",
    "    )\n",
    "\n",
    "#     clf.save_model('./.full_tabnet_1192class')"
   ]
  },
  {
   "cell_type": "code",
   "execution_count": 133,
   "id": "5a423348",
   "metadata": {},
   "outputs": [],
   "source": [
    "from keras.layers import Embedding, LSTM, Dense, GRU, Dropout\n",
    "from keras.models import Sequential"
   ]
  },
  {
   "cell_type": "code",
   "execution_count": 122,
   "id": "75b69603",
   "metadata": {},
   "outputs": [],
   "source": [
    "from tensorflow.keras.losses import BinaryCrossentropy\n",
    "loss=BinaryCrossentropy()"
   ]
  },
  {
   "cell_type": "code",
   "execution_count": 134,
   "id": "c43c73f4",
   "metadata": {},
   "outputs": [],
   "source": [
    "# Define the model\n",
    "model = Sequential()\n",
    "model.add(Embedding(input_dim=np.max(X_train), output_dim=8, input_length=X_train.shape[1]))\n",
    "model.add(LSTM(units=128, return_sequences=True))\n",
    "model.add(Dropout(rate=0.2))\n",
    "model.add(GRU(16))\n",
    "model.add(Dropout(rate=0.2))\n",
    "model.add(Dense(8))\n",
    "model.compile(optimizer='adam', loss=loss, metrics=['accuracy'])\n",
    "\n",
    "# Fit the model\n",
    "#model.fit(X_train, y_train, epochs=50)"
   ]
  },
  {
   "cell_type": "code",
   "execution_count": 136,
   "id": "69afc329",
   "metadata": {},
   "outputs": [],
   "source": [
    "# Define learning rate schedule\n",
    "def lr_schedule(epoch):\n",
    "    if epoch < 10:\n",
    "        return 0.00001\n",
    "    elif epoch < 20:\n",
    "        return 0.000001\n",
    "    else:\n",
    "        return 0.0001\n",
    "\n",
    "lr_scheduler = tf.keras.callbacks.LearningRateScheduler(lr_schedule)"
   ]
  },
  {
   "cell_type": "code",
   "execution_count": 137,
   "id": "32e5924d",
   "metadata": {
    "scrolled": true
   },
   "outputs": [
    {
     "name": "stdout",
     "output_type": "stream",
     "text": [
      "Epoch 1/30\n",
      "463/463 [==============================] - 5s 11ms/step - loss: -483600.6875 - accuracy: 0.0000e+00 - val_loss: -506281.5312 - val_accuracy: 0.0000e+00 - lr: 1.0000e-05\n",
      "Epoch 2/30\n",
      "463/463 [==============================] - 5s 10ms/step - loss: -484221.0312 - accuracy: 0.0000e+00 - val_loss: -506281.5312 - val_accuracy: 0.0000e+00 - lr: 1.0000e-05\n",
      "Epoch 3/30\n",
      "463/463 [==============================] - 5s 10ms/step - loss: -484868.8438 - accuracy: 0.0000e+00 - val_loss: -506281.5312 - val_accuracy: 0.0000e+00 - lr: 1.0000e-05\n",
      "Epoch 4/30\n",
      "463/463 [==============================] - 5s 10ms/step - loss: -485452.4375 - accuracy: 8.4371e-06 - val_loss: -506281.5312 - val_accuracy: 0.0000e+00 - lr: 1.0000e-05\n",
      "Epoch 5/30\n",
      "463/463 [==============================] - 5s 10ms/step - loss: -486169.7812 - accuracy: 0.0000e+00 - val_loss: -506281.5312 - val_accuracy: 0.0000e+00 - lr: 1.0000e-05\n",
      "Epoch 6/30\n",
      "463/463 [==============================] - 5s 10ms/step - loss: -486901.4375 - accuracy: 8.4371e-06 - val_loss: -506281.5312 - val_accuracy: 0.0000e+00 - lr: 1.0000e-05\n",
      "Epoch 7/30\n",
      "463/463 [==============================] - 5s 11ms/step - loss: -487432.2500 - accuracy: 0.0000e+00 - val_loss: -506281.5312 - val_accuracy: 0.0000e+00 - lr: 1.0000e-05\n",
      "Epoch 8/30\n",
      "463/463 [==============================] - 5s 10ms/step - loss: -487796.7812 - accuracy: 8.4371e-06 - val_loss: -506281.5312 - val_accuracy: 0.0000e+00 - lr: 1.0000e-05\n",
      "Epoch 9/30\n",
      "463/463 [==============================] - 5s 10ms/step - loss: -488225.0312 - accuracy: 8.4371e-06 - val_loss: -506281.5312 - val_accuracy: 0.0000e+00 - lr: 1.0000e-05\n",
      "Epoch 10/30\n",
      "463/463 [==============================] - 5s 10ms/step - loss: -488357.1250 - accuracy: 0.0000e+00 - val_loss: -506281.5312 - val_accuracy: 0.0000e+00 - lr: 1.0000e-05\n",
      "Epoch 11/30\n",
      "463/463 [==============================] - 5s 10ms/step - loss: -488737.3438 - accuracy: 0.0000e+00 - val_loss: -506281.5312 - val_accuracy: 0.0000e+00 - lr: 1.0000e-06\n",
      "Epoch 12/30\n",
      "463/463 [==============================] - 5s 10ms/step - loss: -488779.4062 - accuracy: 0.0000e+00 - val_loss: -506281.5312 - val_accuracy: 0.0000e+00 - lr: 1.0000e-06\n",
      "Epoch 13/30\n",
      "463/463 [==============================] - 5s 10ms/step - loss: -488904.2812 - accuracy: 8.4371e-06 - val_loss: -506281.5312 - val_accuracy: 0.0000e+00 - lr: 1.0000e-06\n",
      "Epoch 14/30\n",
      "463/463 [==============================] - 5s 10ms/step - loss: -488811.1250 - accuracy: 8.4371e-06 - val_loss: -506281.5312 - val_accuracy: 0.0000e+00 - lr: 1.0000e-06\n",
      "Epoch 15/30\n",
      "463/463 [==============================] - 5s 10ms/step - loss: -489069.1250 - accuracy: 0.0000e+00 - val_loss: -506281.5312 - val_accuracy: 0.0000e+00 - lr: 1.0000e-06\n",
      "Epoch 16/30\n",
      "463/463 [==============================] - 5s 10ms/step - loss: -489078.0312 - accuracy: 0.0000e+00 - val_loss: -506281.5312 - val_accuracy: 0.0000e+00 - lr: 1.0000e-06\n",
      "Epoch 17/30\n",
      "463/463 [==============================] - 5s 10ms/step - loss: -488964.0625 - accuracy: 8.4371e-06 - val_loss: -506281.5312 - val_accuracy: 0.0000e+00 - lr: 1.0000e-06\n",
      "Epoch 18/30\n",
      "463/463 [==============================] - 5s 10ms/step - loss: -489112.4688 - accuracy: 0.0000e+00 - val_loss: -506281.5312 - val_accuracy: 0.0000e+00 - lr: 1.0000e-06\n",
      "Epoch 19/30\n",
      "463/463 [==============================] - 4s 10ms/step - loss: -489222.1875 - accuracy: 8.4371e-06 - val_loss: -506281.5312 - val_accuracy: 0.0000e+00 - lr: 1.0000e-06\n",
      "Epoch 20/30\n",
      "463/463 [==============================] - 4s 10ms/step - loss: -489071.6875 - accuracy: 0.0000e+00 - val_loss: -506281.5312 - val_accuracy: 0.0000e+00 - lr: 1.0000e-06\n",
      "Epoch 21/30\n",
      "463/463 [==============================] - 5s 10ms/step - loss: -491159.7188 - accuracy: 0.0000e+00 - val_loss: -506281.5312 - val_accuracy: 0.0000e+00 - lr: 1.0000e-04\n",
      "Epoch 22/30\n",
      "463/463 [==============================] - 5s 10ms/step - loss: -493076.5312 - accuracy: 0.0000e+00 - val_loss: -506281.5312 - val_accuracy: 0.0000e+00 - lr: 1.0000e-04\n",
      "Epoch 23/30\n",
      "463/463 [==============================] - 5s 10ms/step - loss: -494705.9062 - accuracy: 8.4371e-06 - val_loss: -506281.5312 - val_accuracy: 0.0000e+00 - lr: 1.0000e-04\n",
      "Epoch 24/30\n",
      "463/463 [==============================] - 5s 10ms/step - loss: -495820.5625 - accuracy: 0.0000e+00 - val_loss: -506281.5312 - val_accuracy: 0.0000e+00 - lr: 1.0000e-04\n",
      "Epoch 25/30\n",
      "463/463 [==============================] - 5s 10ms/step - loss: -497133.3438 - accuracy: 8.4371e-06 - val_loss: -506281.5312 - val_accuracy: 0.0000e+00 - lr: 1.0000e-04\n",
      "Epoch 26/30\n",
      "463/463 [==============================] - 5s 10ms/step - loss: -498014.5312 - accuracy: 0.0000e+00 - val_loss: -506281.5312 - val_accuracy: 0.0000e+00 - lr: 1.0000e-04\n",
      "Epoch 27/30\n",
      "463/463 [==============================] - 5s 10ms/step - loss: -498744.0312 - accuracy: 0.0000e+00 - val_loss: -506281.5312 - val_accuracy: 0.0000e+00 - lr: 1.0000e-04\n",
      "Epoch 28/30\n",
      "463/463 [==============================] - 5s 10ms/step - loss: -499370.7500 - accuracy: 0.0000e+00 - val_loss: -506281.5312 - val_accuracy: 0.0000e+00 - lr: 1.0000e-04\n",
      "Epoch 29/30\n",
      "463/463 [==============================] - 5s 10ms/step - loss: -500286.0000 - accuracy: 8.4371e-06 - val_loss: -506281.5312 - val_accuracy: 0.0000e+00 - lr: 1.0000e-04\n",
      "Epoch 30/30\n",
      "463/463 [==============================] - 5s 10ms/step - loss: -500957.2500 - accuracy: 0.0000e+00 - val_loss: -506281.5312 - val_accuracy: 0.0000e+00 - lr: 1.0000e-04\n"
     ]
    }
   ],
   "source": [
    "# Train model\n",
    "history = model.fit(X_train, y_train, epochs=30, batch_size=256, validation_data=(X_test, y_test), callbacks=[lr_scheduler])"
   ]
  },
  {
   "cell_type": "code",
   "execution_count": 138,
   "id": "8f07a627",
   "metadata": {},
   "outputs": [
    {
     "data": {
      "image/png": "[encoded data removed]",
      "text/plain": [
       "<Figure size 432x288 with 1 Axes>"
      ]
     },
     "metadata": {
      "needs_background": "light"
     },
     "output_type": "display_data"
    }
   ],
   "source": [
    "\n",
    "# Plot training and validation accuracy\n",
    "plt.plot(history.history[\"accuracy\"])\n",
    "plt.plot(history.history[\"val_accuracy\"])\n",
    "plt.title(\"Model Accuracy\")\n",
    "plt.xlabel(\"Epoch\")\n",
    "plt.ylabel(\"Accuracy\")\n",
    "plt.legend([\"Training Accuracy\", \"Validation Accuracy\"], loc=\"upper left\")\n",
    "plt.show()"
   ]
  },
  {
   "cell_type": "code",
   "execution_count": 139,
   "id": "4c10aa2f",
   "metadata": {},
   "outputs": [
    {
     "data": {
      "image/png": "[encoded data removed]",
      "text/plain": [
       "<Figure size 432x288 with 1 Axes>"
      ]
     },
     "metadata": {
      "needs_background": "light"
     },
     "output_type": "display_data"
    }
   ],
   "source": [
    "# Get the training and validation loss values\n",
    "train_loss = history.history[\"loss\"]\n",
    "valid_loss = history.history[\"val_loss\"]\n",
    "\n",
    "# Plot the training and validation loss\n",
    "plt.plot(train_loss, label=\"Training Loss\")\n",
    "plt.plot(valid_loss, label=\"Validation Loss\")\n",
    "plt.title(\"Model Loss\")\n",
    "plt.xlabel(\"Epoch\")\n",
    "plt.ylabel(\"Loss\")\n",
    "plt.legend()\n",
    "plt.show()"
   ]
  },
  {
   "cell_type": "code",
   "execution_count": null,
   "id": "fd246b31",
   "metadata": {},
   "outputs": [],
   "source": []
  },
  {
   "cell_type": "code",
   "execution_count": 50,
   "id": "340569ff",
   "metadata": {},
   "outputs": [
    {
     "data": {
      "text/plain": [
       "28994"
      ]
     },
     "execution_count": 50,
     "metadata": {},
     "output_type": "execute_result"
    }
   ],
   "source": [
    "len(unique_city_ids)-1"
   ]
  },
  {
   "cell_type": "code",
   "execution_count": 105,
   "id": "6d053737",
   "metadata": {},
   "outputs": [],
   "source": [
    "# Split data into training and testing sets\n",
    "train_size = int(len(grouped_df) * 0.8)\n",
    "X_train, X_test = grouped_df[:train_size], grouped_df[train_size:]\n",
    "y_train, y_test = grouped_df[\"target_city\"][:train_size], grouped_df[\"target_city\"][train_size:]"
   ]
  },
  {
   "cell_type": "code",
   "execution_count": 106,
   "id": "41d49ed0",
   "metadata": {},
   "outputs": [
    {
     "name": "stderr",
     "output_type": "stream",
     "text": [
      "C:\\Users\\Junaid\\AppData\\Roaming\\Python\\Python38\\site-packages\\pandas\\core\\frame.py:4906: SettingWithCopyWarning: \n",
      "A value is trying to be set on a copy of a slice from a DataFrame\n",
      "\n",
      "See the caveats in the documentation: https://pandas.pydata.org/pandas-docs/stable/user_guide/indexing.html#returning-a-view-versus-a-copy\n",
      "  return super().drop(\n"
     ]
    }
   ],
   "source": [
    "X_train.drop(['target_city'], axis=1, inplace=True)\n",
    "X_test.drop(['target_city'], axis=1, inplace=True)"
   ]
  },
  {
   "cell_type": "code",
   "execution_count": 167,
   "id": "5250373f",
   "metadata": {},
   "outputs": [
    {
     "name": "stdout",
     "output_type": "stream",
     "text": [
      "[<KerasTensor: shape=(None, None) dtype=int32 (created by layer 'city_id')>, <KerasTensor: shape=(None, None) dtype=int32 (created by layer 'checkin_month')>, <KerasTensor: shape=(None, None) dtype=int32 (created by layer 'checkin_day')>, <KerasTensor: shape=(None, None) dtype=int32 (created by layer 'checkout_day')>, <KerasTensor: shape=(None, None) dtype=int32 (created by layer 'hotel_country')>, <KerasTensor: shape=(None, 1) dtype=int32 (created by layer 'booker_country')>, <KerasTensor: shape=(None, 1) dtype=int32 (created by layer 'trip_duration_scaled')>, <KerasTensor: shape=(None, 1) dtype=int32 (created by layer 'destination_count')>]\n"
     ]
    }
   ],
   "source": [
    "inputs = [city_id, checkin_month, checkin_day, checkout_day, \n",
    "              hotel_country, booker_country, trip_duration_scaled, destination_count]\n",
    "\n",
    "print(inputs)\n",
    "model = keras.models.Model(inputs=inputs, outputs=x)"
   ]
  },
  {
   "cell_type": "code",
   "execution_count": 166,
   "id": "c5fceda2",
   "metadata": {
    "scrolled": true
   },
   "outputs": [
    {
     "name": "stdout",
     "output_type": "stream",
     "text": [
      "WARNING:tensorflow:\n",
      "The following Variables were used a Lambda layer's call (lambda_109), but\n",
      "are not present in its tracked objects:\n",
      "  <tf.Variable 'Variable:0' shape=() dtype=float32>\n",
      "It is possible that this is intended behavior, but it is more likely\n",
      "an omission. This is a strong indication that this layer should be\n",
      "formulated as a subclassed Layer rather than a Lambda layer.\n",
      "WARNING:tensorflow:\n",
      "The following Variables were used a Lambda layer's call (lambda_110), but\n",
      "are not present in its tracked objects:\n",
      "  <tf.Variable 'Variable:0' shape=() dtype=float32>\n",
      "It is possible that this is intended behavior, but it is more likely\n",
      "an omission. This is a strong indication that this layer should be\n",
      "formulated as a subclassed Layer rather than a Lambda layer.\n",
      "WARNING:tensorflow:\n",
      "The following Variables were used a Lambda layer's call (lambda_111), but\n",
      "are not present in its tracked objects:\n",
      "  <tf.Variable 'Variable:0' shape=() dtype=float32>\n",
      "  <tf.Variable 'Variable:0' shape=() dtype=float32>\n",
      "It is possible that this is intended behavior, but it is more likely\n",
      "an omission. This is a strong indication that this layer should be\n",
      "formulated as a subclassed Layer rather than a Lambda layer.\n",
      "[<KerasTensor: shape=(None, None) dtype=int32 (created by layer 'city_id')>, <KerasTensor: shape=(None, None) dtype=int32 (created by layer 'checkin_month')>, <KerasTensor: shape=(None, None) dtype=int32 (created by layer 'checkin_day')>, <KerasTensor: shape=(None, None) dtype=int32 (created by layer 'checkout_day')>, <KerasTensor: shape=(None, None) dtype=int32 (created by layer 'hotel_country')>, <KerasTensor: shape=(None, 1) dtype=int32 (created by layer 'booker_country')>, <KerasTensor: shape=(None, 1) dtype=int32 (created by layer 'trip_duration_scaled')>, <KerasTensor: shape=(None, 1) dtype=int32 (created by layer 'destination_count')>]\n"
     ]
    }
   ],
   "source": [
    "import tensorflow as tf\n",
    "from tensorflow import keras\n",
    "\n",
    "N_CITY = len(unique_city_ids)-1\n",
    "EC = 200\n",
    "H=128\n",
    "\n",
    "# Input layers\n",
    "city_id = keras.layers.Input(shape=(None,), dtype='int32', name='city_id')\n",
    "checkin_month = keras.layers.Input(shape=(None,), dtype='int32', name='checkin_month')\n",
    "checkin_day = keras.layers.Input(shape=(None,), dtype='int32', name='checkin_day')\n",
    "checkout_day = keras.layers.Input(shape=(None,), dtype='int32', name='checkout_day')\n",
    "hotel_country = keras.layers.Input(shape=(None,), dtype='int32', name='hotel_country')\n",
    "booker_country = keras.layers.Input(shape=(1,), dtype='int32', name='booker_country')\n",
    "trip_duration_scaled = keras.layers.Input(shape=(1,), dtype='int32', name='trip_duration_scaled')\n",
    "destination_count = keras.layers.Input(shape=(1,), dtype='int32', name='destination_count')\n",
    "\n",
    "# Embedding layers\n",
    "city_emb = keras.layers.Embedding(input_dim=N_CITY, output_dim=EC)(city_id)\n",
    "checkin_month_emb = keras.layers.Embedding(input_dim=12, output_dim=4)(checkin_month)\n",
    "checkin_day_emb = keras.layers.Embedding(input_dim=7, output_dim=3)(checkin_day)\n",
    "checkout_day_emb = keras.layers.Embedding(input_dim=7, output_dim=3)(checkout_day)\n",
    "hotel_country_emb = keras.layers.Embedding(input_dim=5, output_dim=2)(hotel_country)\n",
    "booker_country_emb = keras.layers.Embedding(input_dim=5, output_dim=2)(booker_country)\n",
    "\n",
    "# Concatenate embeddings\n",
    "x = keras.layers.Concatenate()([city_emb, checkin_month_emb, checkin_day_emb, checkout_day_emb, hotel_country_emb, booker_country_emb])\n",
    "x = keras.layers.Flatten()(x)\n",
    "    \n",
    "# Dense layers with batch normalization and activation\n",
    "x = keras.layers.Dense(H)(x)\n",
    "x = keras.layers.BatchNormalization()(x)\n",
    "x = keras.layers.Activation('relu')(x)\n",
    "x = keras.layers.Dense(H)(x)\n",
    "x = keras.layers.BatchNormalization()(x)\n",
    "x = keras.layers.Activation('relu')(x)\n",
    "x = keras.layers.Dense(H)(x)\n",
    "x = keras.layers.BatchNormalization()(x)\n",
    "x = keras.layers.Activation('relu')(x)\n",
    "\n",
    "# Weighted Sum layer\n",
    "   \n",
    "w1 = tf.Variable(initial_value=0.5, trainable=True)\n",
    "w2 = tf.Variable(initial_value=0.5, trainable=True)\n",
    "x1 = keras.layers.Lambda(lambda x: x * 0)(x)\n",
    "x2 = keras.layers.Lambda(lambda x: x * w1)(x)\n",
    "x3 = keras.layers.Lambda(lambda x: x * w2)(x)\n",
    "x = keras.layers.Add()([x1, x2, x3])\n",
    "x = keras.layers.Lambda(lambda x: x/(1+w1+w2))(x)\n",
    "\n",
    "# EmbDotSoftMax layer\n",
    "emb_pred = keras.layers.Dense(EC)(x)\n",
    "x = keras.layers.Softmax()(emb_pred)\n",
    "x = keras.layers.Dense(8, activation='softmax')(x)\n",
    "\n",
    "    \n",
    "    # Concatenate all inputs and outputs\n",
    "    #inputs = [city_id, checkin_month, checkin_day, checkout_day, hotel_country, \n",
    "              #booker_country, trip_duration_scaled, destination_count] \n",
    "    # cast inputs to float32\n",
    "    #inputs = [keras.layers.Lambda(lambda x: tf.cast(x, 'float32'))(x) for x in inputs]\n",
    "    #print(inputs)\n",
    "    #inputs = tf.concat(inputs, axis=-1)    \n",
    "inputs = [city_id, checkin_month, checkin_day, checkout_day, \n",
    "              hotel_country, booker_country, trip_duration_scaled, destination_count]\n",
    "\n",
    "print(inputs)\n",
    "model = keras.models.Model(inputs=inputs, outputs=x)\n",
    "#    return model\n",
    "    \n",
    "   \n",
    "    "
   ]
  },
  {
   "cell_type": "code",
   "execution_count": 70,
   "id": "4ff4cf70",
   "metadata": {},
   "outputs": [],
   "source": [
    "import numpy"
   ]
  },
  {
   "cell_type": "code",
   "execution_count": 157,
   "id": "43a51adf",
   "metadata": {},
   "outputs": [
    {
     "name": "stdout",
     "output_type": "stream",
     "text": [
      "WARNING:tensorflow:\n",
      "The following Variables were used a Lambda layer's call (lambda_93), but\n",
      "are not present in its tracked objects:\n",
      "  <tf.Variable 'Variable:0' shape=() dtype=float32>\n",
      "It is possible that this is intended behavior, but it is more likely\n",
      "an omission. This is a strong indication that this layer should be\n",
      "formulated as a subclassed Layer rather than a Lambda layer.\n",
      "WARNING:tensorflow:\n",
      "The following Variables were used a Lambda layer's call (lambda_94), but\n",
      "are not present in its tracked objects:\n",
      "  <tf.Variable 'Variable:0' shape=() dtype=float32>\n",
      "It is possible that this is intended behavior, but it is more likely\n",
      "an omission. This is a strong indication that this layer should be\n",
      "formulated as a subclassed Layer rather than a Lambda layer.\n",
      "WARNING:tensorflow:\n",
      "The following Variables were used a Lambda layer's call (lambda_95), but\n",
      "are not present in its tracked objects:\n",
      "  <tf.Variable 'Variable:0' shape=() dtype=float32>\n",
      "  <tf.Variable 'Variable:0' shape=() dtype=float32>\n",
      "It is possible that this is intended behavior, but it is more likely\n",
      "an omission. This is a strong indication that this layer should be\n",
      "formulated as a subclassed Layer rather than a Lambda layer.\n"
     ]
    }
   ],
   "source": [
    "model = build_model()"
   ]
  },
  {
   "cell_type": "code",
   "execution_count": 161,
   "id": "55a4dc80",
   "metadata": {
    "scrolled": true
   },
   "outputs": [],
   "source": [
    "model.compile(optimizer='adam', loss='categorical_crossentropy', metrics=['accuracy'])"
   ]
  },
  {
   "cell_type": "code",
   "execution_count": null,
   "id": "62eb152d",
   "metadata": {},
   "outputs": [],
   "source": []
  },
  {
   "cell_type": "code",
   "execution_count": 111,
   "id": "b812d103",
   "metadata": {},
   "outputs": [
    {
     "data": {
      "text/html": [
       "<div>\n",
       "<style scoped>\n",
       "    .dataframe tbody tr th:only-of-type {\n",
       "        vertical-align: middle;\n",
       "    }\n",
       "\n",
       "    .dataframe tbody tr th {\n",
       "        vertical-align: top;\n",
       "    }\n",
       "\n",
       "    .dataframe thead th {\n",
       "        text-align: right;\n",
       "    }\n",
       "</style>\n",
       "<table border=\"1\" class=\"dataframe\">\n",
       "  <thead>\n",
       "    <tr style=\"text-align: right;\">\n",
       "      <th></th>\n",
       "      <th>city_id</th>\n",
       "      <th>checkin_month</th>\n",
       "      <th>checkin_day</th>\n",
       "      <th>checkout_day</th>\n",
       "      <th>hotel_country</th>\n",
       "      <th>booker_country</th>\n",
       "      <th>trip_duration</th>\n",
       "      <th>trip_duration_scaled</th>\n",
       "      <th>destination_count</th>\n",
       "    </tr>\n",
       "  </thead>\n",
       "  <tbody>\n",
       "    <tr>\n",
       "      <th>0</th>\n",
       "      <td>[8183, 15626, 60902, 0, 0]</td>\n",
       "      <td>[8, 8, 8, 8, 0]</td>\n",
       "      <td>[5, 6, 1, 3, 0]</td>\n",
       "      <td>[6, 1, 3, 6, 0]</td>\n",
       "      <td>[60, 60, 60, 60, 0]</td>\n",
       "      <td>2</td>\n",
       "      <td>8.0</td>\n",
       "      <td>0.042735</td>\n",
       "      <td>4</td>\n",
       "    </tr>\n",
       "    <tr>\n",
       "      <th>1</th>\n",
       "      <td>[38677, 52089, 21328, 27485, 0]</td>\n",
       "      <td>[4, 4, 4, 4, 4]</td>\n",
       "      <td>[5, 0, 1, 3, 5]</td>\n",
       "      <td>[0, 1, 3, 5, 1]</td>\n",
       "      <td>[36, 36, 36, 36, 36]</td>\n",
       "      <td>3</td>\n",
       "      <td>10.0</td>\n",
       "      <td>0.059829</td>\n",
       "      <td>5</td>\n",
       "    </tr>\n",
       "    <tr>\n",
       "      <th>2</th>\n",
       "      <td>[55990, 14705, 35160, 0, 0]</td>\n",
       "      <td>[6, 6, 6, 6, 0]</td>\n",
       "      <td>[0, 1, 2, 3, 0]</td>\n",
       "      <td>[1, 2, 3, 5, 0]</td>\n",
       "      <td>[120, 120, 120, 60, 0]</td>\n",
       "      <td>5</td>\n",
       "      <td>5.0</td>\n",
       "      <td>0.017094</td>\n",
       "      <td>4</td>\n",
       "    </tr>\n",
       "    <tr>\n",
       "      <th>3</th>\n",
       "      <td>[11306, 12096, 6761, 6779, 0]</td>\n",
       "      <td>[7, 7, 7, 7, 7]</td>\n",
       "      <td>[0, 3, 4, 5, 0]</td>\n",
       "      <td>[3, 4, 5, 0, 2]</td>\n",
       "      <td>[77, 77, 77, 77, 77]</td>\n",
       "      <td>3</td>\n",
       "      <td>9.0</td>\n",
       "      <td>0.051282</td>\n",
       "      <td>5</td>\n",
       "    </tr>\n",
       "    <tr>\n",
       "      <th>4</th>\n",
       "      <td>[62541, 42482, 20345, 33540, 0]</td>\n",
       "      <td>[10, 10, 10, 10, 10]</td>\n",
       "      <td>[5, 6, 1, 2, 5]</td>\n",
       "      <td>[6, 1, 2, 5, 6]</td>\n",
       "      <td>[52, 52, 52, 52, 52]</td>\n",
       "      <td>2</td>\n",
       "      <td>15.0</td>\n",
       "      <td>0.102564</td>\n",
       "      <td>5</td>\n",
       "    </tr>\n",
       "    <tr>\n",
       "      <th>...</th>\n",
       "      <td>...</td>\n",
       "      <td>...</td>\n",
       "      <td>...</td>\n",
       "      <td>...</td>\n",
       "      <td>...</td>\n",
       "      <td>...</td>\n",
       "      <td>...</td>\n",
       "      <td>...</td>\n",
       "      <td>...</td>\n",
       "    </tr>\n",
       "    <tr>\n",
       "      <th>118519</th>\n",
       "      <td>[2078, 2078, 2078, 2078, 0]</td>\n",
       "      <td>[5, 5, 5, 5, 5]</td>\n",
       "      <td>[3, 4, 5, 6, 1]</td>\n",
       "      <td>[4, 5, 6, 1, 4]</td>\n",
       "      <td>[79, 79, 79, 79, 78]</td>\n",
       "      <td>2</td>\n",
       "      <td>8.0</td>\n",
       "      <td>0.042735</td>\n",
       "      <td>5</td>\n",
       "    </tr>\n",
       "    <tr>\n",
       "      <th>118520</th>\n",
       "      <td>[839, 54402, 36135, 0, 0]</td>\n",
       "      <td>[7, 7, 8, 8, 0]</td>\n",
       "      <td>[5, 6, 0, 1, 0]</td>\n",
       "      <td>[6, 0, 1, 2, 0]</td>\n",
       "      <td>[60, 60, 60, 59, 0]</td>\n",
       "      <td>3</td>\n",
       "      <td>4.0</td>\n",
       "      <td>0.008547</td>\n",
       "      <td>4</td>\n",
       "    </tr>\n",
       "    <tr>\n",
       "      <th>118521</th>\n",
       "      <td>[51222, 45347, 7705, 0, 0]</td>\n",
       "      <td>[11, 11, 11, 11, 0]</td>\n",
       "      <td>[2, 3, 4, 5, 0]</td>\n",
       "      <td>[3, 4, 5, 6, 0]</td>\n",
       "      <td>[36, 36, 36, 36, 0]</td>\n",
       "      <td>2</td>\n",
       "      <td>4.0</td>\n",
       "      <td>0.008547</td>\n",
       "      <td>4</td>\n",
       "    </tr>\n",
       "    <tr>\n",
       "      <th>118522</th>\n",
       "      <td>[21033, 51276, 9608, 0, 0]</td>\n",
       "      <td>[4, 4, 4, 4, 0]</td>\n",
       "      <td>[4, 5, 6, 0, 0]</td>\n",
       "      <td>[5, 6, 0, 1, 0]</td>\n",
       "      <td>[52, 52, 52, 52, 0]</td>\n",
       "      <td>3</td>\n",
       "      <td>4.0</td>\n",
       "      <td>0.008547</td>\n",
       "      <td>4</td>\n",
       "    </tr>\n",
       "    <tr>\n",
       "      <th>118523</th>\n",
       "      <td>[6512, 41858, 11228, 0, 0]</td>\n",
       "      <td>[8, 8, 8, 8, 0]</td>\n",
       "      <td>[6, 0, 1, 3, 0]</td>\n",
       "      <td>[0, 1, 3, 4, 0]</td>\n",
       "      <td>[59, 59, 59, 59, 0]</td>\n",
       "      <td>3</td>\n",
       "      <td>5.0</td>\n",
       "      <td>0.017094</td>\n",
       "      <td>4</td>\n",
       "    </tr>\n",
       "  </tbody>\n",
       "</table>\n",
       "<p>118524 rows × 9 columns</p>\n",
       "</div>"
      ],
      "text/plain": [
       "                                city_id         checkin_month  \\\n",
       "0            [8183, 15626, 60902, 0, 0]       [8, 8, 8, 8, 0]   \n",
       "1       [38677, 52089, 21328, 27485, 0]       [4, 4, 4, 4, 4]   \n",
       "2           [55990, 14705, 35160, 0, 0]       [6, 6, 6, 6, 0]   \n",
       "3         [11306, 12096, 6761, 6779, 0]       [7, 7, 7, 7, 7]   \n",
       "4       [62541, 42482, 20345, 33540, 0]  [10, 10, 10, 10, 10]   \n",
       "...                                 ...                   ...   \n",
       "118519      [2078, 2078, 2078, 2078, 0]       [5, 5, 5, 5, 5]   \n",
       "118520        [839, 54402, 36135, 0, 0]       [7, 7, 8, 8, 0]   \n",
       "118521       [51222, 45347, 7705, 0, 0]   [11, 11, 11, 11, 0]   \n",
       "118522       [21033, 51276, 9608, 0, 0]       [4, 4, 4, 4, 0]   \n",
       "118523       [6512, 41858, 11228, 0, 0]       [8, 8, 8, 8, 0]   \n",
       "\n",
       "            checkin_day     checkout_day           hotel_country  \\\n",
       "0       [5, 6, 1, 3, 0]  [6, 1, 3, 6, 0]     [60, 60, 60, 60, 0]   \n",
       "1       [5, 0, 1, 3, 5]  [0, 1, 3, 5, 1]    [36, 36, 36, 36, 36]   \n",
       "2       [0, 1, 2, 3, 0]  [1, 2, 3, 5, 0]  [120, 120, 120, 60, 0]   \n",
       "3       [0, 3, 4, 5, 0]  [3, 4, 5, 0, 2]    [77, 77, 77, 77, 77]   \n",
       "4       [5, 6, 1, 2, 5]  [6, 1, 2, 5, 6]    [52, 52, 52, 52, 52]   \n",
       "...                 ...              ...                     ...   \n",
       "118519  [3, 4, 5, 6, 1]  [4, 5, 6, 1, 4]    [79, 79, 79, 79, 78]   \n",
       "118520  [5, 6, 0, 1, 0]  [6, 0, 1, 2, 0]     [60, 60, 60, 59, 0]   \n",
       "118521  [2, 3, 4, 5, 0]  [3, 4, 5, 6, 0]     [36, 36, 36, 36, 0]   \n",
       "118522  [4, 5, 6, 0, 0]  [5, 6, 0, 1, 0]     [52, 52, 52, 52, 0]   \n",
       "118523  [6, 0, 1, 3, 0]  [0, 1, 3, 4, 0]     [59, 59, 59, 59, 0]   \n",
       "\n",
       "       booker_country  trip_duration  trip_duration_scaled  destination_count  \n",
       "0                   2            8.0              0.042735                  4  \n",
       "1                   3           10.0              0.059829                  5  \n",
       "2                   5            5.0              0.017094                  4  \n",
       "3                   3            9.0              0.051282                  5  \n",
       "4                   2           15.0              0.102564                  5  \n",
       "...               ...            ...                   ...                ...  \n",
       "118519              2            8.0              0.042735                  5  \n",
       "118520              3            4.0              0.008547                  4  \n",
       "118521              2            4.0              0.008547                  4  \n",
       "118522              3            4.0              0.008547                  4  \n",
       "118523              3            5.0              0.017094                  4  \n",
       "\n",
       "[118524 rows x 9 columns]"
      ]
     },
     "execution_count": 111,
     "metadata": {},
     "output_type": "execute_result"
    }
   ],
   "source": [
    "X_train"
   ]
  },
  {
   "cell_type": "code",
   "execution_count": 112,
   "id": "a733ae6e",
   "metadata": {},
   "outputs": [],
   "source": [
    "# Convert X_train and X_test to numpy arrays\n",
    "X_train_city = ([np.array(l, dtype=int) for l in X_train[\"city_id\"]])\n",
    "X_test_city = np.array([np.array(l, dtype=int) for l in X_test[\"city_id\"]])\n",
    "\n",
    "X_train_cim = np.array([np.array(l, dtype=int) for l in X_train[\"checkin_month\"]])\n",
    "X_test_cim = np.array([np.array(l, dtype=int) for l in X_test[\"checkin_month\"]])\n",
    "\n",
    "X_train_cid = np.array([np.array(l, dtype=int) for l in X_train[\"checkin_day\"]])\n",
    "X_test_cid = np.array([np.array(l, dtype=int) for l in X_test[\"checkin_day\"]])\n",
    "\n",
    "X_train_cod = np.array([np.array(l, dtype=int) for l in X_train[\"checkout_day\"]])\n",
    "X_test_cod = np.array([np.array(l, dtype=int) for l in X_test[\"checkout_day\"]])\n",
    "\n",
    "X_train_hc = np.array([np.array(l, dtype=int) for l in X_train[\"hotel_country\"]])\n",
    "X_test_hc = np.array([np.array(l, dtype=int) for l in X_test[\"hotel_country\"]])"
   ]
  },
  {
   "cell_type": "code",
   "execution_count": 124,
   "id": "945e3f0f",
   "metadata": {},
   "outputs": [
    {
     "name": "stdout",
     "output_type": "stream",
     "text": [
      "(118524, 5) (118524, 5) (118524, 5) (118524, 5) (118524, 5) (118524, 1)\n"
     ]
    }
   ],
   "source": [
    "print(numpy.array(X_train_city).shape, \n",
    "numpy.array(X_train_cim).shape, \n",
    "numpy.array(X_train_cid).shape, \n",
    "numpy.array(X_train_cod).shape, \n",
    "numpy.array(X_train_hc).shape,\n",
    "numpy.array(X_train['booker_country']).reshape(-1,1).shape)"
   ]
  },
  {
   "cell_type": "code",
   "execution_count": 162,
   "id": "9c46bc07",
   "metadata": {
    "scrolled": false
   },
   "outputs": [
    {
     "name": "stdout",
     "output_type": "stream",
     "text": [
      "Epoch 1/10\n"
     ]
    },
    {
     "ename": "ValueError",
     "evalue": "in user code:\n\n    File \"C:\\ProgramData\\Anaconda3\\lib\\site-packages\\keras\\engine\\training.py\", line 1160, in train_function  *\n        return step_function(self, iterator)\n    File \"C:\\ProgramData\\Anaconda3\\lib\\site-packages\\keras\\engine\\training.py\", line 1146, in step_function  **\n        outputs = model.distribute_strategy.run(run_step, args=(data,))\n    File \"C:\\ProgramData\\Anaconda3\\lib\\site-packages\\keras\\engine\\training.py\", line 1135, in run_step  **\n        outputs = model.train_step(data)\n    File \"C:\\ProgramData\\Anaconda3\\lib\\site-packages\\keras\\engine\\training.py\", line 993, in train_step\n        y_pred = self(x, training=True)\n    File \"C:\\ProgramData\\Anaconda3\\lib\\site-packages\\keras\\utils\\traceback_utils.py\", line 70, in error_handler\n        raise e.with_traceback(filtered_tb) from None\n    File \"C:\\ProgramData\\Anaconda3\\lib\\site-packages\\keras\\backend.py\", line 3572, in concatenate\n        return tf.concat([to_dense(x) for x in tensors], axis)\n\n    ValueError: Exception encountered when calling layer \"concatenate_11\" \"                 f\"(type Concatenate).\n    \n    Dimension 1 in both shapes must be equal, but are 5 and 1. Shapes are [?,5] and [?,1]. for '{{node model_7/concatenate_11/concat}} = ConcatV2[N=6, T=DT_FLOAT, Tidx=DT_INT32](model_7/embedding_69/embedding_lookup/Identity_1, model_7/embedding_70/embedding_lookup/Identity_1, model_7/embedding_71/embedding_lookup/Identity_1, model_7/embedding_72/embedding_lookup/Identity_1, model_7/embedding_73/embedding_lookup/Identity_1, model_7/embedding_74/embedding_lookup/Identity_1, model_7/concatenate_11/concat/axis)' with input shapes: [?,5,200], [?,5,4], [?,5,3], [?,5,3], [?,5,2], [?,1,2], [] and with computed input tensors: input[6] = <2>.\n    \n    Call arguments received by layer \"concatenate_11\" \"                 f\"(type Concatenate):\n      • inputs=['tf.Tensor(shape=(None, 5, 200), dtype=float32)', 'tf.Tensor(shape=(None, 5, 4), dtype=float32)', 'tf.Tensor(shape=(None, 5, 3), dtype=float32)', 'tf.Tensor(shape=(None, 5, 3), dtype=float32)', 'tf.Tensor(shape=(None, 5, 2), dtype=float32)', 'tf.Tensor(shape=(None, 1, 2), dtype=float32)']\n",
     "output_type": "error",
     "traceback": [
      "\u001b[1;31m---------------------------------------------------------------------------\u001b[0m",
      "\u001b[1;31mValueError\u001b[0m                                Traceback (most recent call last)",
      "\u001b[1;32m<ipython-input-162-7499b933663d>\u001b[0m in \u001b[0;36m<module>\u001b[1;34m\u001b[0m\n\u001b[1;32m----> 1\u001b[1;33m history = model.fit(x={\n\u001b[0m\u001b[0;32m      2\u001b[0m \u001b[1;34m\"city_id\"\u001b[0m\u001b[1;33m:\u001b[0m \u001b[0mnumpy\u001b[0m\u001b[1;33m.\u001b[0m\u001b[0marray\u001b[0m\u001b[1;33m(\u001b[0m\u001b[0mX_train_city\u001b[0m\u001b[1;33m)\u001b[0m\u001b[1;33m,\u001b[0m\u001b[1;33m\u001b[0m\u001b[1;33m\u001b[0m\u001b[0m\n\u001b[0;32m      3\u001b[0m \u001b[1;34m\"checkin_month\"\u001b[0m\u001b[1;33m:\u001b[0m \u001b[0mnumpy\u001b[0m\u001b[1;33m.\u001b[0m\u001b[0marray\u001b[0m\u001b[1;33m(\u001b[0m\u001b[0mX_train_cim\u001b[0m\u001b[1;33m)\u001b[0m\u001b[1;33m,\u001b[0m\u001b[1;33m\u001b[0m\u001b[1;33m\u001b[0m\u001b[0m\n\u001b[0;32m      4\u001b[0m \u001b[1;34m\"checkin_day\"\u001b[0m\u001b[1;33m:\u001b[0m \u001b[0mnumpy\u001b[0m\u001b[1;33m.\u001b[0m\u001b[0marray\u001b[0m\u001b[1;33m(\u001b[0m\u001b[0mX_train_cid\u001b[0m\u001b[1;33m)\u001b[0m\u001b[1;33m,\u001b[0m\u001b[1;33m\u001b[0m\u001b[1;33m\u001b[0m\u001b[0m\n\u001b[0;32m      5\u001b[0m \u001b[1;34m\"checkout_day\"\u001b[0m\u001b[1;33m:\u001b[0m \u001b[0mnumpy\u001b[0m\u001b[1;33m.\u001b[0m\u001b[0marray\u001b[0m\u001b[1;33m(\u001b[0m\u001b[0mX_train_cod\u001b[0m\u001b[1;33m)\u001b[0m\u001b[1;33m,\u001b[0m\u001b[1;33m\u001b[0m\u001b[1;33m\u001b[0m\u001b[0m\n",
      "\u001b[1;32mC:\\ProgramData\\Anaconda3\\lib\\site-packages\\keras\\utils\\traceback_utils.py\u001b[0m in \u001b[0;36merror_handler\u001b[1;34m(*args, **kwargs)\u001b[0m\n\u001b[0;32m     68\u001b[0m             \u001b[1;31m# To get the full stack trace, call:\u001b[0m\u001b[1;33m\u001b[0m\u001b[1;33m\u001b[0m\u001b[1;33m\u001b[0m\u001b[0m\n\u001b[0;32m     69\u001b[0m             \u001b[1;31m# `tf.debugging.disable_traceback_filtering()`\u001b[0m\u001b[1;33m\u001b[0m\u001b[1;33m\u001b[0m\u001b[1;33m\u001b[0m\u001b[0m\n\u001b[1;32m---> 70\u001b[1;33m             \u001b[1;32mraise\u001b[0m \u001b[0me\u001b[0m\u001b[1;33m.\u001b[0m\u001b[0mwith_traceback\u001b[0m\u001b[1;33m(\u001b[0m\u001b[0mfiltered_tb\u001b[0m\u001b[1;33m)\u001b[0m \u001b[1;32mfrom\u001b[0m \u001b[1;32mNone\u001b[0m\u001b[1;33m\u001b[0m\u001b[1;33m\u001b[0m\u001b[0m\n\u001b[0m\u001b[0;32m     71\u001b[0m         \u001b[1;32mfinally\u001b[0m\u001b[1;33m:\u001b[0m\u001b[1;33m\u001b[0m\u001b[1;33m\u001b[0m\u001b[0m\n\u001b[0;32m     72\u001b[0m             \u001b[1;32mdel\u001b[0m \u001b[0mfiltered_tb\u001b[0m\u001b[1;33m\u001b[0m\u001b[1;33m\u001b[0m\u001b[0m\n",
      "\u001b[1;32mC:\\ProgramData\\Anaconda3\\lib\\site-packages\\keras\\engine\\training.py\u001b[0m in \u001b[0;36mtf__train_function\u001b[1;34m(iterator)\u001b[0m\n\u001b[0;32m     13\u001b[0m                 \u001b[1;32mtry\u001b[0m\u001b[1;33m:\u001b[0m\u001b[1;33m\u001b[0m\u001b[1;33m\u001b[0m\u001b[0m\n\u001b[0;32m     14\u001b[0m                     \u001b[0mdo_return\u001b[0m \u001b[1;33m=\u001b[0m \u001b[1;32mTrue\u001b[0m\u001b[1;33m\u001b[0m\u001b[1;33m\u001b[0m\u001b[0m\n\u001b[1;32m---> 15\u001b[1;33m                     \u001b[0mretval_\u001b[0m \u001b[1;33m=\u001b[0m \u001b[0mag__\u001b[0m\u001b[1;33m.\u001b[0m\u001b[0mconverted_call\u001b[0m\u001b[1;33m(\u001b[0m\u001b[0mag__\u001b[0m\u001b[1;33m.\u001b[0m\u001b[0mld\u001b[0m\u001b[1;33m(\u001b[0m\u001b[0mstep_function\u001b[0m\u001b[1;33m)\u001b[0m\u001b[1;33m,\u001b[0m \u001b[1;33m(\u001b[0m\u001b[0mag__\u001b[0m\u001b[1;33m.\u001b[0m\u001b[0mld\u001b[0m\u001b[1;33m(\u001b[0m\u001b[0mself\u001b[0m\u001b[1;33m)\u001b[0m\u001b[1;33m,\u001b[0m \u001b[0mag__\u001b[0m\u001b[1;33m.\u001b[0m\u001b[0mld\u001b[0m\u001b[1;33m(\u001b[0m\u001b[0miterator\u001b[0m\u001b[1;33m)\u001b[0m\u001b[1;33m)\u001b[0m\u001b[1;33m,\u001b[0m \u001b[1;32mNone\u001b[0m\u001b[1;33m,\u001b[0m \u001b[0mfscope\u001b[0m\u001b[1;33m)\u001b[0m\u001b[1;33m\u001b[0m\u001b[1;33m\u001b[0m\u001b[0m\n\u001b[0m\u001b[0;32m     16\u001b[0m                 \u001b[1;32mexcept\u001b[0m\u001b[1;33m:\u001b[0m\u001b[1;33m\u001b[0m\u001b[1;33m\u001b[0m\u001b[0m\n\u001b[0;32m     17\u001b[0m                     \u001b[0mdo_return\u001b[0m \u001b[1;33m=\u001b[0m \u001b[1;32mFalse\u001b[0m\u001b[1;33m\u001b[0m\u001b[1;33m\u001b[0m\u001b[0m\n",
      "\u001b[1;31mValueError\u001b[0m: in user code:\n\n    File \"C:\\ProgramData\\Anaconda3\\lib\\site-packages\\keras\\engine\\training.py\", line 1160, in train_function  *\n        return step_function(self, iterator)\n    File \"C:\\ProgramData\\Anaconda3\\lib\\site-packages\\keras\\engine\\training.py\", line 1146, in step_function  **\n        outputs = model.distribute_strategy.run(run_step, args=(data,))\n    File \"C:\\ProgramData\\Anaconda3\\lib\\site-packages\\keras\\engine\\training.py\", line 1135, in run_step  **\n        outputs = model.train_step(data)\n    File \"C:\\ProgramData\\Anaconda3\\lib\\site-packages\\keras\\engine\\training.py\", line 993, in train_step\n        y_pred = self(x, training=True)\n    File \"C:\\ProgramData\\Anaconda3\\lib\\site-packages\\keras\\utils\\traceback_utils.py\", line 70, in error_handler\n        raise e.with_traceback(filtered_tb) from None\n    File \"C:\\ProgramData\\Anaconda3\\lib\\site-packages\\keras\\backend.py\", line 3572, in concatenate\n        return tf.concat([to_dense(x) for x in tensors], axis)\n\n    ValueError: Exception encountered when calling layer \"concatenate_11\" \"                 f\"(type Concatenate).\n    \n    Dimension 1 in both shapes must be equal, but are 5 and 1. Shapes are [?,5] and [?,1]. for '{{node model_7/concatenate_11/concat}} = ConcatV2[N=6, T=DT_FLOAT, Tidx=DT_INT32](model_7/embedding_69/embedding_lookup/Identity_1, model_7/embedding_70/embedding_lookup/Identity_1, model_7/embedding_71/embedding_lookup/Identity_1, model_7/embedding_72/embedding_lookup/Identity_1, model_7/embedding_73/embedding_lookup/Identity_1, model_7/embedding_74/embedding_lookup/Identity_1, model_7/concatenate_11/concat/axis)' with input shapes: [?,5,200], [?,5,4], [?,5,3], [?,5,3], [?,5,2], [?,1,2], [] and with computed input tensors: input[6] = <2>.\n    \n    Call arguments received by layer \"concatenate_11\" \"                 f\"(type Concatenate):\n      • inputs=['tf.Tensor(shape=(None, 5, 200), dtype=float32)', 'tf.Tensor(shape=(None, 5, 4), dtype=float32)', 'tf.Tensor(shape=(None, 5, 3), dtype=float32)', 'tf.Tensor(shape=(None, 5, 3), dtype=float32)', 'tf.Tensor(shape=(None, 5, 2), dtype=float32)', 'tf.Tensor(shape=(None, 1, 2), dtype=float32)']\n"
     ]
    }
   ],
   "source": [
    "history = model.fit(x={\n",
    "\"city_id\": numpy.array(X_train_city),\n",
    "\"checkin_month\": numpy.array(X_train_cim),\n",
    "\"checkin_day\": numpy.array(X_train_cid),\n",
    "\"checkout_day\": numpy.array(X_train_cod),\n",
    "\"hotel_country\": numpy.array(X_train_hc),\n",
    "\"booker_country\": numpy.array(X_train[\"booker_country\"]).reshape(-1,1),\n",
    "\"trip_duration_scaled\": numpy.array(X_train[\"trip_duration_scaled\"]).reshape(-1,1),\n",
    "\"destination_count\": numpy.array(X_train[\"destination_count\"]).reshape(-1,1)\n",
    "}, y=y_train, batch_size=32, epochs=10)"
   ]
  },
  {
   "cell_type": "code",
   "execution_count": null,
   "id": "d46ee434",
   "metadata": {
    "scrolled": true
   },
   "outputs": [],
   "source": []
  },
  {
   "cell_type": "code",
   "execution_count": null,
   "id": "1e22fa1a",
   "metadata": {},
   "outputs": [],
   "source": []
  },
  {
   "cell_type": "code",
   "execution_count": null,
   "id": "39d6dbd1",
   "metadata": {},
   "outputs": [],
   "source": []
  },
  {
   "cell_type": "code",
   "execution_count": null,
   "id": "fa92f2c2",
   "metadata": {},
   "outputs": [],
   "source": [
    "test_loss, test_acc = model.evaluate(x={\"city_id\": X_test[\"city_id\"], \"checkin_month\": X_test[\"checkin_month\"], \"checkin_day\": X_test[\"checkin_day\"], \"checkout_day\": X_test[\"checkout_day\"], \"hotel_country\": X_test[\"hotel_country\"], \"booker_country\": X_test[\"booker_country\"], \"trip_duration\": X_test[\"trip_duration\"], \"trip_duration_scaled\": X_test[\"trip_duration_scaled\"], \"target_city\": X_test[\"target_city\"], \"destination_count\": X_test[\"destination_count\"], \"prob\": X_test[\"prob\"], \"top_city_emb\": X_test[\"top_city_emb\"], \"top_city_id\": X_test[\"top_city_id\"]}, y=y_test)"
   ]
  },
  {
   "cell_type": "code",
   "execution_count": null,
   "id": "8da8b021",
   "metadata": {},
   "outputs": [],
   "source": []
  },
  {
   "cell_type": "code",
   "execution_count": null,
   "id": "0f11ec1d",
   "metadata": {},
   "outputs": [],
   "source": []
  },
  {
   "cell_type": "code",
   "execution_count": null,
   "id": "a9faa095",
   "metadata": {},
   "outputs": [],
   "source": []
  },
  {
   "cell_type": "code",
   "execution_count": null,
   "id": "a9bdaa01",
   "metadata": {},
   "outputs": [],
   "source": []
  }
 ],
 "metadata": {
  "kernelspec": {
   "display_name": "Python 3",
   "language": "python",
   "name": "python3"
  },
  "language_info": {
   "codemirror_mode": {
    "name": "ipython",
    "version": 3
   },
   "file_extension": ".py",
   "mimetype": "text/x-python",
   "name": "python",
   "nbconvert_exporter": "python",
   "pygments_lexer": "ipython3",
   "version": "3.8.8"
  }
 },
 "nbformat": 4,
 "nbformat_minor": 5
}
